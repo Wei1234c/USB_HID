{
 "cells": [
  {
   "cell_type": "markdown",
   "metadata": {},
   "source": [
    "# Read And Decode Data From Your Mouse / Keyboard\n",
    "https://www.orangecoat.com/how-to/read-and-decode-data-from-your-mouse-using-this-pyusb-hack  "
   ]
  },
  {
   "cell_type": "code",
   "execution_count": 1,
   "metadata": {},
   "outputs": [],
   "source": [
    "import os\n",
    "import sys\n",
    "sys.path.append(os.path.abspath(os.path.join('..', 'codes')))\n",
    "\n",
    "path = os.sep.join(['..', '..', '..', '..', '..', '待處理', 'ORM', 'bitbucket', 'github', 'codes'])\n",
    "sys.path.append(path) \n",
    "\n",
    "path = os.sep.join(['..', '..', '..', '..', '..', '待處理', 'Universal Serial Bus', 'bitbucket', 'github', 'codes'])\n",
    "sys.path.append(path)\n",
    "\n",
    "from universal_serial_bus import *  "
   ]
  },
  {
   "cell_type": "code",
   "execution_count": 2,
   "metadata": {},
   "outputs": [
    {
     "data": {
      "text/plain": [
       "[<DEVICE ID 045e:077b on Bus 000 Address 001>,\n",
       " <DEVICE ID 046d:c52b on Bus 000 Address 005>,\n",
       " <DEVICE ID 046d:c52b on Bus 000 Address 006>,\n",
       " <DEVICE ID 046d:c52b on Bus 000 Address 011>,\n",
       " <DEVICE ID 046d:c52b on Bus 000 Address 014>]"
      ]
     },
     "execution_count": 2,
     "metadata": {},
     "output_type": "execute_result"
    }
   ],
   "source": [
    "devices, devices_ids =  find_all_devices_by_class(0x03)\n",
    "devices"
   ]
  },
  {
   "cell_type": "code",
   "execution_count": 3,
   "metadata": {},
   "outputs": [
    {
     "data": {
      "text/plain": [
       "'0x2011'"
      ]
     },
     "execution_count": 3,
     "metadata": {},
     "output_type": "execute_result"
    }
   ],
   "source": [
    "hex(8209)"
   ]
  },
  {
   "cell_type": "code",
   "execution_count": 4,
   "metadata": {},
   "outputs": [],
   "source": [
    "# dev = USBdevice(0x4d9, 0x2011) # Filco KB\n",
    "dev = USBdevice(0x045e, 0x077b) # MS mouse \n",
    "# dev = USBdevice(0x1b3f, 0x2008) # Sound Card \n",
    "# print(dev)"
   ]
  },
  {
   "cell_type": "code",
   "execution_count": 5,
   "metadata": {},
   "outputs": [
    {
     "data": {
      "text/plain": [
       "[array('B', [18, 1, 0, 2, 0, 0, 0, 8, 94, 4, 123, 7, 68, 0, 1, 2, 0, 1]),\n",
       " array('B', [9, 2, 34, 0, 1, 1, 0, 160, 50]),\n",
       " array('B', [9, 4, 0, 0, 1, 3, 1, 2, 0]),\n",
       " array('B', [9, 33, 17, 1, 0, 1, 34, 108, 1]),\n",
       " array('B', [7, 5, 131, 3, 8, 0, 10])]"
      ]
     },
     "execution_count": 5,
     "metadata": {},
     "output_type": "execute_result"
    }
   ],
   "source": [
    "dev.descriptors"
   ]
  },
  {
   "cell_type": "code",
   "execution_count": 15,
   "metadata": {
    "scrolled": false
   },
   "outputs": [
    {
     "name": "stdout",
     "output_type": "stream",
     "text": [
      "array('B', [16, 0, 252, 255, 1, 0, 0, 0])\n",
      "array('B', [16, 0, 250, 255, 0, 0, 0, 0])\n",
      "array('B', [16, 0, 89, 0, 102, 0, 0, 0])\n",
      "array('B', [16, 0, 0, 0, 255, 255, 0, 0])\n",
      "array('B', [16, 0, 1, 0, 0, 0, 0, 0])\n",
      "array('B', [16, 0, 1, 0, 255, 255, 0, 0])\n",
      "array('B', [16, 0, 254, 255, 0, 0, 0, 0])\n",
      "array('B', [16, 0, 253, 255, 1, 0, 0, 0])\n",
      "array('B', [16, 0, 253, 255, 1, 0, 0, 0])\n",
      "array('B', [16, 0, 254, 255, 0, 0, 0, 0])\n",
      "array('B', [16, 0, 254, 255, 1, 0, 0, 0])\n",
      "array('B', [16, 0, 2, 0, 1, 0, 0, 0])\n",
      "array('B', [16, 0, 6, 0, 3, 0, 0, 0])\n",
      "array('B', [16, 0, 7, 0, 2, 0, 0, 0])\n",
      "array('B', [16, 0, 9, 0, 2, 0, 0, 0])\n",
      "array('B', [16, 0, 10, 0, 2, 0, 0, 0])\n",
      "array('B', [16, 0, 11, 0, 1, 0, 0, 0])\n",
      "array('B', [16, 0, 14, 0, 1, 0, 0, 0])\n",
      "array('B', [16, 0, 15, 0, 1, 0, 0, 0])\n",
      "array('B', [16, 0, 15, 0, 0, 0, 0, 0])\n",
      "array('B', [16, 0, 15, 0, 0, 0, 0, 0])\n",
      "array('B', [16, 0, 15, 0, 0, 0, 0, 0])\n",
      "array('B', [16, 0, 13, 0, 0, 0, 0, 0])\n",
      "array('B', [16, 0, 10, 0, 1, 0, 0, 0])\n",
      "array('B', [16, 0, 7, 0, 0, 0, 0, 0])\n",
      "array('B', [16, 0, 2, 0, 0, 0, 0, 0])\n",
      "array('B', [16, 0, 1, 0, 0, 0, 0, 0])\n",
      "array('B', [16, 0, 255, 255, 255, 255, 0, 0])\n",
      "array('B', [16, 0, 251, 255, 253, 255, 0, 0])\n",
      "array('B', [16, 0, 249, 255, 253, 255, 0, 0])\n",
      "array('B', [16, 0, 246, 255, 250, 255, 0, 0])\n",
      "array('B', [16, 0, 245, 255, 250, 255, 0, 0])\n",
      "array('B', [16, 0, 244, 255, 247, 255, 0, 0])\n",
      "array('B', [16, 0, 244, 255, 248, 255, 0, 0])\n",
      "array('B', [16, 0, 243, 255, 247, 255, 0, 0])\n",
      "array('B', [16, 0, 244, 255, 246, 255, 0, 0])\n",
      "array('B', [16, 0, 243, 255, 245, 255, 0, 0])\n",
      "array('B', [16, 0, 242, 255, 246, 255, 0, 0])\n",
      "array('B', [16, 0, 242, 255, 245, 255, 0, 0])\n",
      "array('B', [16, 0, 241, 255, 244, 255, 0, 0])\n",
      "array('B', [16, 0, 242, 255, 246, 255, 0, 0])\n",
      "array('B', [16, 0, 242, 255, 245, 255, 0, 0])\n",
      "array('B', [16, 0, 244, 255, 245, 255, 0, 0])\n",
      "array('B', [16, 0, 243, 255, 247, 255, 0, 0])\n",
      "array('B', [16, 0, 242, 255, 245, 255, 0, 0])\n",
      "array('B', [16, 0, 243, 255, 247, 255, 0, 0])\n",
      "array('B', [16, 0, 245, 255, 247, 255, 0, 0])\n",
      "array('B', [16, 0, 243, 255, 249, 255, 0, 0])\n",
      "array('B', [16, 0, 246, 255, 250, 255, 0, 0])\n",
      "array('B', [16, 0, 246, 255, 250, 255, 0, 0])\n"
     ]
    }
   ],
   "source": [
    "collected = 0\n",
    "attempts = 50\n",
    "\n",
    "endpoint = dev.endpoints[dev.descriptors[-1][2]]\n",
    "\n",
    "while collected < attempts :\n",
    "    try:\n",
    "        data = dev.read(endpoint.bEndpointAddress, endpoint.wMaxPacketSize)\n",
    "        collected += 1\n",
    "        print (data)\n",
    "        \n",
    "    except usb.core.USBError as e:\n",
    "        print(e)"
   ]
  },
  {
   "cell_type": "code",
   "execution_count": null,
   "metadata": {
    "scrolled": false
   },
   "outputs": [],
   "source": [
    "# release the device\n",
    "\n",
    "usb.util.release_interface(dev, interface)\n",
    "# reattach the device to the OS kernel\n",
    "# dev.attach_kernel_driver(interface) "
   ]
  }
 ],
 "metadata": {
  "kernelspec": {
   "display_name": "Python 3",
   "language": "python",
   "name": "python3"
  },
  "language_info": {
   "codemirror_mode": {
    "name": "ipython",
    "version": 3
   },
   "file_extension": ".py",
   "mimetype": "text/x-python",
   "name": "python",
   "nbconvert_exporter": "python",
   "pygments_lexer": "ipython3",
   "version": "3.6.8"
  }
 },
 "nbformat": 4,
 "nbformat_minor": 2
}
