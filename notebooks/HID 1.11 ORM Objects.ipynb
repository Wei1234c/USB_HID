{
 "cells": [
  {
   "cell_type": "markdown",
   "metadata": {},
   "source": [
    "# HID 1.11 ORM Objects"
   ]
  },
  {
   "cell_type": "markdown",
   "metadata": {},
   "source": [
    "### 需安裝\n",
    "\n",
    "```\n",
    "pip install pyusb\n",
    "\n",
    "```\n",
    "\n",
    "### Windows DLL\n",
    "[libusb-win32-devel-filter-1.2.6.0.exe](https://sourceforge.net/projects/libusb-win32/files/libusb-win32-releases/1.2.6.0/)  \n",
    "\n",
    "https://sourceforge.net/projects/libusb-win32/  \n",
    "\n",
    "\n",
    "\n",
    "### Linux 權限\n",
    "https://ubuntuforums.org/showthread.php?t=1682084  \n",
    "https://linuxconfig.org/tutorial-on-how-to-write-basic-udev-rules-in-linux  \n",
    "```\n",
    "If anyone is interested.. fixed with udev rule:\n",
    "\n",
    "cd /etc/udev/rules.d/\n",
    "\n",
    "nano 70-ch341.rules\n",
    "\n",
    "SUBSYSTEM==\"usb\", ATTRS{idVendor}==\"1a86\", GROUP=\"dialout\"\n",
    "SUBSYSTEM==\"usb\", ATTRS{idVendor}==\"1a86\", MODE=\"666\"\n",
    "\n",
    "then reloaded udev rules:\n",
    "\n",
    "$ sudo udevadm control --reload-rules  \n",
    "$ sudo udevadm trigger\n",
    "\n",
    "```"
   ]
  },
  {
   "cell_type": "code",
   "execution_count": 1,
   "metadata": {},
   "outputs": [
    {
     "name": "stdout",
     "output_type": "stream",
     "text": [
      "Populating the interactive namespace from numpy and matplotlib\n"
     ]
    }
   ],
   "source": [
    "%pylab inline  "
   ]
  },
  {
   "cell_type": "code",
   "execution_count": 2,
   "metadata": {},
   "outputs": [],
   "source": [
    "import os\n",
    "import sys\n",
    "sys.path.append(os.path.abspath(os.path.join('..', 'codes')))\n",
    "\n",
    "path = os.sep.join(['..', '..', '..', '..', '..', '待處理', 'Universal Serial Bus', 'bitbucket', 'github', 'codes'])\n",
    "sys.path.append(path) \n",
    "\n",
    "path = os.sep.join(['..', '..', '..', '..', '..', '待處理', 'ORM', 'bitbucket', 'github', 'codes'])\n",
    "sys.path.append(path) \n",
    " \n",
    "# import universal_serial_bus\n",
    "# from universal_serial_bus import *\n",
    "from orm.alchemy import *\n",
    "# from universal_serial_bus.orm import ModelBuilder "
   ]
  },
  {
   "cell_type": "markdown",
   "metadata": {},
   "source": [
    "## USB Descriptors"
   ]
  },
  {
   "cell_type": "code",
   "execution_count": 3,
   "metadata": {},
   "outputs": [],
   "source": [
    "from universal_serial_bus.orm.usb20.descriptors import * \n",
    "\n",
    "db_path = 'C:\\\\Users\\\\Wei\\\\Dropbox\\\\Coding\\\\notebooks\\\\專案\\\\待處理\\\\Universal Serial Bus\\\\bitbucket\\\\github\\\\spec\\\\usb20\\\\'\n",
    "db_path = db_path + 'usb_2_0_descriptors.sqlite'\n",
    "db_url = 'sqlite:///' + db_path  \n",
    "\n",
    "ModelBuilder._truncate_tables(db_url) \n",
    "_, _, tables, session_usb_descriptors = map_db_objects(db_url)"
   ]
  },
  {
   "cell_type": "markdown",
   "metadata": {},
   "source": [
    "## USB Codes"
   ]
  },
  {
   "cell_type": "code",
   "execution_count": 4,
   "metadata": {},
   "outputs": [],
   "source": [
    "from universal_serial_bus.orm.usb20.codes import * \n",
    "\n",
    "db_path = 'C:\\\\Users\\\\Wei\\\\Dropbox\\\\Coding\\\\notebooks\\\\專案\\\\待處理\\\\Universal Serial Bus\\\\bitbucket\\\\github\\\\spec\\\\usb20\\\\'\n",
    "db_path = db_path + 'usb_2_0_codes.sqlite'\n",
    "db_url = 'sqlite:///' + db_path  \n",
    "\n",
    "# ModelBuilder._truncate_tables(db_url) \n",
    "_, _, tables, session_usb_codes = map_db_objects(db_url)"
   ]
  },
  {
   "cell_type": "markdown",
   "metadata": {},
   "source": [
    "## HID Descriptors"
   ]
  },
  {
   "cell_type": "code",
   "execution_count": 5,
   "metadata": {
    "scrolled": false
   },
   "outputs": [],
   "source": [
    "from usb_hid.orm.hid111.descriptors import * \n",
    "\n",
    "db_path = 'C:\\\\Users\\\\Wei\\\\Dropbox\\\\Coding\\\\notebooks\\\\專案\\\\待處理\\\\USB HID\\\\bitbucket\\\\github\\\\spec\\\\hid111\\\\'\n",
    "db_path = db_path + 'hid_1_11_descriptors.sqlite'\n",
    "db_url = 'sqlite:///' + db_path  \n",
    "\n",
    "ModelBuilder._truncate_tables(db_url) \n",
    "_, _, tables, session_hid_descriptors = map_db_objects(db_url)"
   ]
  },
  {
   "cell_type": "code",
   "execution_count": 6,
   "metadata": {
    "scrolled": false
   },
   "outputs": [],
   "source": [
    "# ModelBuilder.gen_all(db_url, True)"
   ]
  },
  {
   "cell_type": "markdown",
   "metadata": {},
   "source": [
    "## Item Prefix Types"
   ]
  },
  {
   "cell_type": "code",
   "execution_count": 7,
   "metadata": {},
   "outputs": [],
   "source": [
    "from usb_hid.orm.hid111.items.prefix import * \n",
    "\n",
    "db_path = 'C:\\\\Users\\\\Wei\\\\Dropbox\\\\Coding\\\\notebooks\\\\專案\\\\待處理\\\\USB HID\\\\bitbucket\\\\github\\\\spec\\\\hid111\\\\'\n",
    "db_path = db_path + 'hid_1_11_item_prefix_types.sqlite'\n",
    "db_url = 'sqlite:///' + db_path  \n",
    " \n",
    "_, _, tables, session_hid_item_prefix_types = map_db_objects(db_url)"
   ]
  },
  {
   "cell_type": "code",
   "execution_count": 8,
   "metadata": {},
   "outputs": [],
   "source": [
    "# ModelBuilder.gen_all(db_url, True)"
   ]
  },
  {
   "cell_type": "code",
   "execution_count": 9,
   "metadata": {},
   "outputs": [
    {
     "data": {
      "text/plain": [
       "'00'"
      ]
     },
     "execution_count": 9,
     "metadata": {},
     "output_type": "execute_result"
    }
   ],
   "source": [
    "prefix_types = gen_table_dbos(session = session_hid_item_prefix_types,\n",
    "                              orm_class = PrefixType, \n",
    "                              key_field_name = 'name')\n",
    "prefix_types.Input.bType"
   ]
  },
  {
   "cell_type": "code",
   "execution_count": 10,
   "metadata": {},
   "outputs": [],
   "source": [
    "prefix_types = dump_table_as_dict(session = session_hid_item_prefix_types,\n",
    "                                  table = tables[1], \n",
    "                                  key_field_name = 'name')\n",
    "# prefixs"
   ]
  },
  {
   "cell_type": "code",
   "execution_count": 11,
   "metadata": {},
   "outputs": [
    {
     "data": {
      "text/plain": [
       "'00'"
      ]
     },
     "execution_count": 11,
     "metadata": {},
     "output_type": "execute_result"
    }
   ],
   "source": [
    "prefix_types.Input.bType"
   ]
  },
  {
   "cell_type": "code",
   "execution_count": 12,
   "metadata": {},
   "outputs": [
    {
     "data": {
      "text/plain": [
       "{'id': 1, 'item_name': 'Input', 'bType': '00', 'bTag': '08'}"
      ]
     },
     "execution_count": 12,
     "metadata": {},
     "output_type": "execute_result"
    }
   ],
   "source": [
    "from usb_hid.orm.hid111.items import *\n",
    "\n",
    "PREFIX_TYPES.Input"
   ]
  },
  {
   "cell_type": "code",
   "execution_count": 13,
   "metadata": {},
   "outputs": [
    {
     "data": {
      "text/plain": [
       "'00'"
      ]
     },
     "execution_count": 13,
     "metadata": {},
     "output_type": "execute_result"
    }
   ],
   "source": [
    "PREFIX_TYPES.Input.bType"
   ]
  },
  {
   "cell_type": "code",
   "execution_count": 14,
   "metadata": {},
   "outputs": [],
   "source": [
    "PREFIX_TYPES.dump(fn = 'usb_hid_report_item_prefixs.json')"
   ]
  },
  {
   "cell_type": "code",
   "execution_count": 15,
   "metadata": {},
   "outputs": [],
   "source": [
    "PREFIX_TYPES = AttrDict.load(fn = 'usb_hid_report_item_prefixs.json')"
   ]
  },
  {
   "cell_type": "code",
   "execution_count": 16,
   "metadata": {},
   "outputs": [
    {
     "data": {
      "text/plain": [
       "'00'"
      ]
     },
     "execution_count": 16,
     "metadata": {},
     "output_type": "execute_result"
    }
   ],
   "source": [
    "PREFIX_TYPES.Input.bType"
   ]
  },
  {
   "cell_type": "markdown",
   "metadata": {},
   "source": [
    "## Usages"
   ]
  },
  {
   "cell_type": "code",
   "execution_count": 17,
   "metadata": {},
   "outputs": [],
   "source": [
    "from usb_hid.orm.hid111.usages.tables import * \n",
    "\n",
    "db_path = 'C:\\\\Users\\\\Wei\\\\Dropbox\\\\Coding\\\\notebooks\\\\專案\\\\待處理\\\\USB HID\\\\bitbucket\\\\github\\\\spec\\\\hid111\\\\'\n",
    "db_path = db_path + 'hid_usage_tables_1_12.sqlite'\n",
    "db_url = 'sqlite:///' + db_path  \n",
    " \n",
    "_, _, tables, session_hid_usages = map_db_objects(db_url) "
   ]
  },
  {
   "cell_type": "code",
   "execution_count": 18,
   "metadata": {
    "scrolled": false
   },
   "outputs": [],
   "source": [
    "# ModelBuilder.gen_all(db_url, True)"
   ]
  },
  {
   "cell_type": "code",
   "execution_count": 19,
   "metadata": {},
   "outputs": [],
   "source": [
    "db_path = 'C:\\\\Users\\\\Wei\\\\Dropbox\\\\Coding\\\\notebooks\\\\專案\\\\待處理\\\\USB HID\\\\bitbucket\\\\github\\\\spec\\\\hid111\\\\'\n",
    "db_path = db_path + 'hid_usage_tables_1_12.sqlite'\n",
    "db_url = 'sqlite:///' + db_path  \n",
    "\n",
    "usages = dump_db_as_dict(db_url, key_field_name = 'usage_name')\n",
    "# usages"
   ]
  },
  {
   "cell_type": "code",
   "execution_count": 20,
   "metadata": {},
   "outputs": [
    {
     "data": {
      "text/plain": [
       "'E9'"
      ]
     },
     "execution_count": 20,
     "metadata": {},
     "output_type": "execute_result"
    }
   ],
   "source": [
    "usages.consumer.Volume_Increment.usage_id"
   ]
  },
  {
   "cell_type": "code",
   "execution_count": 21,
   "metadata": {},
   "outputs": [],
   "source": [
    "# usages.dump(fn = 'usb_hid_report_item_usages.json')"
   ]
  },
  {
   "cell_type": "code",
   "execution_count": 22,
   "metadata": {},
   "outputs": [],
   "source": [
    "from usb_hid.orm.hid111.usages.dictionary import USAGES"
   ]
  },
  {
   "cell_type": "code",
   "execution_count": 23,
   "metadata": {},
   "outputs": [],
   "source": [
    "# USAGES = get_usages_dictionary(fn = 'usb_hid_report_item_usages.json')"
   ]
  },
  {
   "cell_type": "code",
   "execution_count": 24,
   "metadata": {},
   "outputs": [
    {
     "data": {
      "text/plain": [
       "'E9'"
      ]
     },
     "execution_count": 24,
     "metadata": {},
     "output_type": "execute_result"
    }
   ],
   "source": [
    "USAGES.consumer.Volume_Increment.usage_id"
   ]
  },
  {
   "cell_type": "code",
   "execution_count": 25,
   "metadata": {},
   "outputs": [
    {
     "data": {
      "text/plain": [
       "'0C'"
      ]
     },
     "execution_count": 25,
     "metadata": {},
     "output_type": "execute_result"
    }
   ],
   "source": [
    "USAGES.usage_pages.Consumer.code"
   ]
  },
  {
   "cell_type": "markdown",
   "metadata": {},
   "source": [
    "## Device"
   ]
  },
  {
   "cell_type": "code",
   "execution_count": 26,
   "metadata": {},
   "outputs": [
    {
     "data": {
      "text/plain": [
       "[('0x46d', '0xc52b'), ('0x1b3f', '0x2008')]"
      ]
     },
     "execution_count": 26,
     "metadata": {},
     "output_type": "execute_result"
    }
   ],
   "source": [
    "from universal_serial_bus import find_all_devices_by_class\n",
    "\n",
    "devices, devices_ids = find_all_devices_by_class(0x03)\n",
    "[(hex(v), hex(p)) for (v, p) in devices_ids]"
   ]
  },
  {
   "cell_type": "code",
   "execution_count": 27,
   "metadata": {},
   "outputs": [],
   "source": [
    "from usb_hid.orm.hid111 import HIDdevice\n",
    " \n",
    "# device = HIDdevice(0x4d9, 0x2011) # Filco KB\n",
    "# device = HIDdevice(0x045e, 0x077b) # MS mouse \n",
    "device = HIDdevice(0x1b3f, 0x2008) # Sound Card \n",
    "  \n",
    "# print(dev)"
   ]
  },
  {
   "cell_type": "code",
   "execution_count": 28,
   "metadata": {},
   "outputs": [],
   "source": [
    "# device.reset()"
   ]
  },
  {
   "cell_type": "markdown",
   "metadata": {},
   "source": [
    "## Descriptors"
   ]
  },
  {
   "cell_type": "code",
   "execution_count": 29,
   "metadata": {},
   "outputs": [
    {
     "data": {
      "text/plain": [
       "[array('B', [18, 1, 16, 1, 0, 0, 0, 8, 63, 27, 8, 32, 0, 1, 1, 2, 0, 1]),\n",
       " array('B', [9, 2, 253, 0, 4, 1, 0, 128, 50]),\n",
       " array('B', [9, 4, 0, 0, 0, 1, 1, 0, 0]),\n",
       " array('B', [10, 36, 1, 0, 1, 100, 0, 2, 1, 2]),\n",
       " array('B', [12, 36, 2, 1, 1, 1, 0, 2, 3, 0, 0, 0]),\n",
       " array('B', [12, 36, 2, 4, 1, 2, 0, 1, 1, 0, 0, 0]),\n",
       " array('B', [9, 36, 3, 3, 1, 3, 0, 6, 0]),\n",
       " array('B', [9, 36, 3, 2, 1, 1, 0, 9, 0]),\n",
       " array('B', [7, 36, 5, 9, 1, 5, 0]),\n",
       " array('B', [10, 36, 6, 6, 8, 1, 1, 2, 2, 0]),\n",
       " array('B', [9, 36, 6, 5, 4, 1, 67, 0, 0]),\n",
       " array('B', [9, 36, 6, 7, 4, 1, 3, 0, 0]),\n",
       " array('B', [13, 36, 4, 8, 2, 1, 7, 2, 3, 0, 0, 0, 0]),\n",
       " array('B', [9, 4, 1, 0, 0, 1, 2, 0, 0]),\n",
       " array('B', [9, 4, 1, 1, 1, 1, 2, 0, 0]),\n",
       " array('B', [7, 36, 1, 1, 1, 1, 0]),\n",
       " array('B', [14, 36, 2, 1, 2, 2, 16, 2, 68, 172, 0, 128, 187, 0]),\n",
       " array('B', [9, 5, 5, 1, 192, 0, 1, 0, 0]),\n",
       " array('B', [7, 37, 1, 1, 0, 0, 0]),\n",
       " array('B', [9, 4, 2, 0, 0, 1, 2, 0, 0]),\n",
       " array('B', [9, 4, 2, 1, 1, 1, 2, 0, 0]),\n",
       " array('B', [7, 36, 1, 2, 1, 1, 0]),\n",
       " array('B', [14, 36, 2, 1, 1, 2, 16, 2, 68, 172, 0, 128, 187, 0]),\n",
       " array('B', [9, 5, 134, 1, 100, 0, 1, 0, 0]),\n",
       " array('B', [7, 37, 1, 1, 0, 0, 0]),\n",
       " array('B', [9, 4, 3, 0, 1, 3, 0, 0, 0]),\n",
       " array('B', [9, 33, 1, 2, 0, 1, 34, 41, 0]),\n",
       " array('B', [7, 5, 131, 3, 8, 0, 32])]"
      ]
     },
     "execution_count": 29,
     "metadata": {},
     "output_type": "execute_result"
    }
   ],
   "source": [
    "device.descriptors"
   ]
  },
  {
   "cell_type": "code",
   "execution_count": 30,
   "metadata": {
    "scrolled": false
   },
   "outputs": [
    {
     "data": {
      "text/plain": [
       "[<universal_serial_bus.orm.usb20.descriptors.StandardDeviceDescriptor at 0x1ebdd4f8c18>,\n",
       " <universal_serial_bus.orm.usb20.descriptors.StandardConfigurationDescriptor at 0x1ebdd519080>,\n",
       " <universal_serial_bus.orm.usb20.descriptors.StandardInterfaceDescriptor at 0x1ebdd5192e8>,\n",
       " <universal_serial_bus.orm.usb20.descriptors.StandardInterfaceDescriptor at 0x1ebdd519550>,\n",
       " <universal_serial_bus.orm.usb20.descriptors.StandardInterfaceDescriptor at 0x1ebdd5197b8>,\n",
       " <universal_serial_bus.orm.usb20.descriptors.StandardEndpointDescriptor at 0x1ebdd519978>,\n",
       " <universal_serial_bus.orm.usb20.descriptors.StandardInterfaceDescriptor at 0x1ebdd519be0>,\n",
       " <universal_serial_bus.orm.usb20.descriptors.StandardInterfaceDescriptor at 0x1ebdd519e48>,\n",
       " <universal_serial_bus.orm.usb20.descriptors.StandardEndpointDescriptor at 0x1ebdd531048>,\n",
       " <universal_serial_bus.orm.usb20.descriptors.StandardInterfaceDescriptor at 0x1ebdd5312b0>,\n",
       " <usb_hid.orm.hid111.descriptors.HidDescriptor at 0x1ebdd5314a8>,\n",
       " <universal_serial_bus.orm.usb20.descriptors.StandardEndpointDescriptor at 0x1ebdd531668>]"
      ]
     },
     "execution_count": 30,
     "metadata": {},
     "output_type": "execute_result"
    }
   ],
   "source": [
    "descriptors_dbos = device.descriptors_dbos\n",
    "descriptors_dbos"
   ]
  },
  {
   "cell_type": "code",
   "execution_count": 31,
   "metadata": {},
   "outputs": [
    {
     "data": {
      "text/plain": [
       "{'_sa_instance_state': <sqlalchemy.orm.state.InstanceState at 0x1ebdd531b00>,\n",
       " 'parent_id': None,\n",
       " 'bLength': '12',\n",
       " 'bDescriptorType': '01',\n",
       " 'bcdUSB': '1001',\n",
       " 'bDeviceClass': '00',\n",
       " 'bDeviceSubClass': '00',\n",
       " 'bDeviceProtocol': '00',\n",
       " 'bMaxPacketSize0': '08',\n",
       " 'idVendor': '3f1b',\n",
       " 'idProduct': '0820',\n",
       " 'bcdDevice': '0001',\n",
       " 'iManufacturer': '01',\n",
       " 'iProduct': '02',\n",
       " 'iSerialNumber': '00',\n",
       " 'bNumConfigurations': '01'}"
      ]
     },
     "execution_count": 31,
     "metadata": {},
     "output_type": "execute_result"
    }
   ],
   "source": [
    "device.device_descriptor_dbo.__dict__"
   ]
  },
  {
   "cell_type": "code",
   "execution_count": 32,
   "metadata": {},
   "outputs": [
    {
     "data": {
      "text/plain": [
       "{'_sa_instance_state': <sqlalchemy.orm.state.InstanceState at 0x1ebdd5381d0>,\n",
       " 'parent_id': None,\n",
       " 'bLength': '09',\n",
       " 'bDescriptorType': '02',\n",
       " 'wTotalLength': 'fd00',\n",
       " 'bNumInterfaces': '04',\n",
       " 'bConfigurationValue': '01',\n",
       " 'iConfiguration': '00',\n",
       " 'bmAttributes': '80',\n",
       " 'bMaxPower': '32'}"
      ]
     },
     "execution_count": 32,
     "metadata": {},
     "output_type": "execute_result"
    }
   ],
   "source": [
    "device.configuration_descriptor_dbo.__dict__"
   ]
  },
  {
   "cell_type": "code",
   "execution_count": 33,
   "metadata": {
    "scrolled": false
   },
   "outputs": [
    {
     "data": {
      "text/plain": [
       "[array('B', [9, 33, 1, 2, 0, 1, 34, 41, 0])]"
      ]
     },
     "execution_count": 33,
     "metadata": {},
     "output_type": "execute_result"
    }
   ],
   "source": [
    "hid_descriptors = device.hid_descriptors \n",
    "hid_descriptors"
   ]
  },
  {
   "cell_type": "code",
   "execution_count": 34,
   "metadata": {},
   "outputs": [
    {
     "data": {
      "text/plain": [
       "{'_sa_instance_state': <sqlalchemy.orm.state.InstanceState at 0x1ebdd5383c8>,\n",
       " 'parent_id': None,\n",
       " 'bLength': '09',\n",
       " 'bDescriptorType': '21',\n",
       " 'bcdHID': '0102',\n",
       " 'bCountryCode': '00',\n",
       " 'bNumDescriptors': '01',\n",
       " 'bReportDescriptorType': '22',\n",
       " 'wReportDescriptorLength': '2900'}"
      ]
     },
     "execution_count": 34,
     "metadata": {},
     "output_type": "execute_result"
    }
   ],
   "source": [
    "hid_descriptor_dbos = device.hid_descriptor_dbos\n",
    "hid_descriptor_dbos[0].__dict__"
   ]
  },
  {
   "cell_type": "code",
   "execution_count": 35,
   "metadata": {
    "scrolled": false
   },
   "outputs": [
    {
     "data": {
      "text/plain": [
       "[array('B', [5, 12, 9, 1, 161, 1, 21, 0, 37, 1, 9, 233, 9, 234, 117, 1, 149, 2, 129, 2, 9, 226, 9, 205, 9, 181, 9, 182, 9, 140, 149, 5, 129, 6, 9, 0, 149, 1, 129, 2, 192])]"
      ]
     },
     "execution_count": 35,
     "metadata": {},
     "output_type": "execute_result"
    }
   ],
   "source": [
    "report_descriptors = device.report_descriptors \n",
    "report_descriptors"
   ]
  },
  {
   "cell_type": "markdown",
   "metadata": {},
   "source": [
    "## Report Descriptor 範本"
   ]
  },
  {
   "cell_type": "markdown",
   "metadata": {},
   "source": [
    "```\n",
    "\n",
    "###### HID ######\n",
    "\n",
    "HID Descriptor\n",
    "Usage Page: 12 (Consumer)\n",
    "Usage: 1 (Consumer Control)\n",
    "\n",
    "Collection \n",
    "\n",
    "Logical Minimum: 0\n",
    "Logical Maximum: 1\n",
    "\n",
    "Usage: 233 (Volume Increment)\n",
    "Usage: 234 (Volume Decrement)\n",
    "Report Size: 1\n",
    "Report Count: 2\n",
    "Input: 2 (Data,Variable,Absolute,No Wrap,Linear,Preferred State,No Null Position)\n",
    "\n",
    "Usage: 226 (Mute)\n",
    "Usage: 205 (Play/Pause)\n",
    "Usage: 181 (Scan Next Track)\n",
    "Usage: 182 (Scan Previous Track)\n",
    "Usage: 140 (Media Select Telephone)\n",
    "Report Count: 5\n",
    "Input: 6 (Data,Variable,Relative,No Wrap,Linear,Preferred State,No Null Position)\n",
    "\n",
    "Usage: 0 (Unassigned)\n",
    "Report Count: 1\n",
    "Input: 2 (Data,Variable,Absolute,No Wrap,Linear,Preferred State,No Null Position)\n",
    "\n",
    "End Collection \n",
    "```"
   ]
  },
  {
   "cell_type": "code",
   "execution_count": 36,
   "metadata": {},
   "outputs": [
    {
     "data": {
      "text/plain": [
       "{'id': 6, 'item_name': 'Usage Page', 'bType': '01', 'bTag': '00'}"
      ]
     },
     "execution_count": 36,
     "metadata": {},
     "output_type": "execute_result"
    }
   ],
   "source": [
    "PREFIX_TYPES.Usage_Page"
   ]
  },
  {
   "cell_type": "code",
   "execution_count": 37,
   "metadata": {},
   "outputs": [
    {
     "data": {
      "text/plain": [
       "{'id': 7, 'item_name': 'Logical Minimum', 'bType': '01', 'bTag': '01'}"
      ]
     },
     "execution_count": 37,
     "metadata": {},
     "output_type": "execute_result"
    }
   ],
   "source": [
    "PREFIX_TYPES.Logical_Minimum"
   ]
  },
  {
   "cell_type": "code",
   "execution_count": 38,
   "metadata": {},
   "outputs": [
    {
     "data": {
      "text/plain": [
       "'01'"
      ]
     },
     "execution_count": 38,
     "metadata": {},
     "output_type": "execute_result"
    }
   ],
   "source": [
    "USAGES.consumer.Consumer_Control.usage_id"
   ]
  },
  {
   "cell_type": "code",
   "execution_count": 39,
   "metadata": {},
   "outputs": [],
   "source": [
    "idx_usages = get_idx_usage_names(USAGES)        \n",
    "# idx_usages"
   ]
  },
  {
   "cell_type": "code",
   "execution_count": 40,
   "metadata": {},
   "outputs": [
    {
     "data": {
      "text/plain": [
       "'8A01'"
      ]
     },
     "execution_count": 40,
     "metadata": {},
     "output_type": "execute_result"
    }
   ],
   "source": [
    "USAGES.consumer.AL_Email_Reader.usage_id"
   ]
  },
  {
   "cell_type": "code",
   "execution_count": 41,
   "metadata": {},
   "outputs": [
    {
     "data": {
      "text/plain": [
       "'01'"
      ]
     },
     "execution_count": 41,
     "metadata": {},
     "output_type": "execute_result"
    }
   ],
   "source": [
    "COLLECTION_TYPES.Application"
   ]
  },
  {
   "cell_type": "code",
   "execution_count": 42,
   "metadata": {},
   "outputs": [
    {
     "data": {
      "text/plain": [
       "array('B', [5, 12, 9, 1, 161, 1, 21, 0, 37, 1, 9, 233, 9, 234, 117, 1, 149, 2, 129, 2, 9, 226, 9, 205, 9, 181, 9, 182, 9, 140, 149, 5, 129, 6, 9, 0, 149, 1, 129, 2, 192])"
      ]
     },
     "execution_count": 42,
     "metadata": {},
     "output_type": "execute_result"
    }
   ],
   "source": [
    "from usb_hid.orm.hid111.reports import ReportDescriptor\n",
    "from usb_hid.orm.hid111.items import Item\n",
    "\n",
    "\n",
    "items = []\n",
    "items.append(Item(PREFIX_TYPES.Usage_Page, USAGES.usage_pages.Consumer.code))   # Usage Page: 12 (Consumer)\n",
    "items.append(Item(PREFIX_TYPES.Usage, USAGES.consumer.Consumer_Control.usage_id))  # Usage: 1 (Consumer Control)\n",
    "items.append(Item(PREFIX_TYPES.Collection, COLLECTION_TYPES.Application))  # Collection\n",
    "items.append(Item(PREFIX_TYPES.Logical_Minimum, 0))  # Logical Minimum: 0\n",
    "items.append(Item(PREFIX_TYPES.Logical_Maximum, 1))  # Logical Maximum: 1\n",
    "items.append(Item(PREFIX_TYPES.Usage, USAGES.consumer.Volume_Increment.usage_id))  # Usage: 233 (Volume Increment)\n",
    "items.append(Item(PREFIX_TYPES.Usage, USAGES.consumer.Volume_Decrement.usage_id))  #  Usage: 234 (Volume Decrement)\n",
    "items.append(Item(PREFIX_TYPES.Report_Size, 1))  #  Report Size: 1\n",
    "items.append(Item(PREFIX_TYPES.Report_Count, 2))  #  Report Count: 2\n",
    "items.append(Item(PREFIX_TYPES.Input, 2))  #  Input: 2 (Data,Variable,Absolute,No Wrap,Linear,Preferred State,No Null Position)\n",
    "items.append(Item(PREFIX_TYPES.Usage, USAGES.consumer.Mute.usage_id))  #  Usage: 226 (Mute)\n",
    "items.append(Item(PREFIX_TYPES.Usage, USAGES.consumer.Play_Pause.usage_id))  #  Usage: 205 (Play/Pause)\n",
    "items.append(Item(PREFIX_TYPES.Usage, USAGES.consumer.Scan_Next_Track.usage_id))  #  Usage: 181 (Scan Next Track)\n",
    "items.append(Item(PREFIX_TYPES.Usage, USAGES.consumer.Scan_Previous_Track.usage_id))  #  Usage: 182 (Scan Previous Track)\n",
    "items.append(Item(PREFIX_TYPES.Usage, USAGES.consumer.Media_Select_Telephone.usage_id))  #  Usage: 140 (Media Select Telephone) \n",
    "items.append(Item(PREFIX_TYPES.Report_Count, 5))  #  Report Count: 5\n",
    "items.append(Item(PREFIX_TYPES.Input, 6))  #  Input: 6 (Data,Variable,Relative,No Wrap,Linear,Preferred State,No Null Position)\n",
    "items.append(Item(PREFIX_TYPES.Usage, USAGES.consumer.Unassigned.usage_id))  #  Usage: 0 (Unassigned)\n",
    "items.append(Item(PREFIX_TYPES.Report_Count, 1))  #  Report Count: 1\n",
    "items.append(Item(PREFIX_TYPES.Input, 2))  #  Input: 2 (Data,Variable,Absolute,No Wrap,Linear,Preferred State,No Null Position)\n",
    "items.append(Item(PREFIX_TYPES.End_Collection))  # End Collection \n",
    "\n",
    "rpt_dscpt = ReportDescriptor(items)\n",
    "rpt_dscpt.byte_array"
   ]
  },
  {
   "cell_type": "code",
   "execution_count": 43,
   "metadata": {
    "scrolled": false
   },
   "outputs": [
    {
     "data": {
      "text/plain": [
       "[array('B', [5, 12, 9, 1, 161, 1, 21, 0, 37, 1, 9, 233, 9, 234, 117, 1, 149, 2, 129, 2, 9, 226, 9, 205, 9, 181, 9, 182, 9, 140, 149, 5, 129, 6, 9, 0, 149, 1, 129, 2, 192])]"
      ]
     },
     "execution_count": 43,
     "metadata": {},
     "output_type": "execute_result"
    }
   ],
   "source": [
    "report_descriptors = device.report_descriptors\n",
    "report_descriptors"
   ]
  },
  {
   "cell_type": "code",
   "execution_count": 44,
   "metadata": {},
   "outputs": [
    {
     "data": {
      "text/plain": [
       "{'bTag': 0, 'bType': 1, 'value': array('B', [12])}"
      ]
     },
     "execution_count": 44,
     "metadata": {},
     "output_type": "execute_result"
    }
   ],
   "source": [
    "it = Item.from_byte_array(rpt_dscpt.byte_array)\n",
    "it.__dict__"
   ]
  },
  {
   "cell_type": "code",
   "execution_count": 45,
   "metadata": {},
   "outputs": [
    {
     "data": {
      "text/plain": [
       "{'id': 6, 'item_name': 'Usage Page', 'bType': '01', 'bTag': '00'}"
      ]
     },
     "execution_count": 45,
     "metadata": {},
     "output_type": "execute_result"
    }
   ],
   "source": [
    "it.prefix_type"
   ]
  },
  {
   "cell_type": "code",
   "execution_count": 46,
   "metadata": {},
   "outputs": [
    {
     "data": {
      "text/plain": [
       "'Usage_Page'"
      ]
     },
     "execution_count": 46,
     "metadata": {},
     "output_type": "execute_result"
    }
   ],
   "source": [
    "it.prefix_type_name"
   ]
  },
  {
   "cell_type": "code",
   "execution_count": 47,
   "metadata": {
    "scrolled": false
   },
   "outputs": [
    {
     "data": {
      "text/plain": [
       "[<usb_hid.orm.hid111.reports.ReportDescriptor at 0x1ebdd538908>]"
      ]
     },
     "execution_count": 47,
     "metadata": {},
     "output_type": "execute_result"
    }
   ],
   "source": [
    "report_descriptor_dbos = device.report_descriptor_dbos \n",
    "report_descriptor_dbos"
   ]
  },
  {
   "cell_type": "code",
   "execution_count": 48,
   "metadata": {},
   "outputs": [
    {
     "data": {
      "text/plain": [
       "{('08', '00'): 'Input',\n",
       " ('09', '00'): 'Output',\n",
       " ('0B', '00'): 'Feature',\n",
       " ('0A', '00'): 'Collection',\n",
       " ('0C', '00'): 'End_Collection',\n",
       " ('00', '01'): 'Usage_Page',\n",
       " ('01', '01'): 'Logical_Minimum',\n",
       " ('02', '01'): 'Logical_Maximum',\n",
       " ('03', '01'): 'Physical_Minimum',\n",
       " ('04', '01'): 'Physical_Maximum',\n",
       " ('05', '01'): 'Unit_Exponent',\n",
       " ('06', '01'): 'Unit',\n",
       " ('07', '01'): 'Report_Size',\n",
       " ('08', '01'): 'Report_ID',\n",
       " ('09', '01'): 'Report_Count',\n",
       " ('0A', '01'): 'Push',\n",
       " ('0B', '01'): 'Pop',\n",
       " ('00', '02'): 'Usage',\n",
       " ('01', '02'): 'Usage_Minimum',\n",
       " ('02', '02'): 'Usage_Maximum',\n",
       " ('03', '02'): 'Designator_Index',\n",
       " ('04', '02'): 'Designator_Minimum',\n",
       " ('05', '02'): 'Designator_Maximum',\n",
       " ('07', '02'): 'String_Index',\n",
       " ('08', '02'): 'String_Minimum',\n",
       " ('09', '02'): 'String_Maximum',\n",
       " ('0A', '02'): 'Delimiter'}"
      ]
     },
     "execution_count": 48,
     "metadata": {},
     "output_type": "execute_result"
    }
   ],
   "source": [
    "TAG_TYPE_PREFIX_TYPES"
   ]
  },
  {
   "cell_type": "code",
   "execution_count": 49,
   "metadata": {},
   "outputs": [
    {
     "data": {
      "text/plain": [
       "array('B', [5, 12, 9, 1, 161, 1, 21, 0, 37, 1, 9, 233, 9, 234, 117, 1, 149, 2, 129, 2, 9, 226, 9, 205, 9, 181, 9, 182, 9, 140, 149, 5, 129, 6, 9, 0, 149, 1, 129, 2, 192])"
      ]
     },
     "execution_count": 49,
     "metadata": {},
     "output_type": "execute_result"
    }
   ],
   "source": [
    "device.report_descriptors[0]"
   ]
  },
  {
   "cell_type": "code",
   "execution_count": 50,
   "metadata": {
    "scrolled": false
   },
   "outputs": [
    {
     "name": "stdout",
     "output_type": "stream",
     "text": [
      "\n",
      "###################################################\n",
      "array('B', [5, 12, 9, 1, 161, 1, 21, 0, 37, 1, 9, 233, 9, 234, 117, 1, 149, 2, 129, 2, 9, 226, 9, 205, 9, 181, 9, 182, 9, 140, 149, 5, 129, 6, 9, 0, 149, 1, 129, 2, 192])\n",
      "###################################################\n",
      "\n",
      " Usage_Page 12 (Consumer)\n",
      " Usage 1 (Consumer_Control)\n",
      " Collection 1 (Application)\n",
      "   Logical_Minimum 0 \n",
      "   Logical_Maximum 1 \n",
      "   Usage 233 (Volume_Increment)\n",
      "   Usage 234 (Volume_Decrement)\n",
      "   Report_Size 1 \n",
      "   Report_Count 2 \n",
      "   Input 2 (Data | Variable | Absolute | No Wrap | Linear | Preferred State | No Null position | Non Volatile | Bit Field)\n",
      "   Usage 226 (Mute)\n",
      "   Usage 205 (Play_Pause)\n",
      "   Usage 181 (Scan_Next_Track)\n",
      "   Usage 182 (Scan_Previous_Track)\n",
      "   Usage 140 (Media_Select_Telephone)\n",
      "   Report_Count 5 \n",
      "   Input 6 (Data | Variable | Relative | No Wrap | Linear | Preferred State | No Null position | Non Volatile | Bit Field)\n",
      "   Usage 0 (Unassigned)\n",
      "   Report_Count 1 \n",
      "   Input 2 (Data | Variable | Absolute | No Wrap | Linear | Preferred State | No Null position | Non Volatile | Bit Field)\n",
      " End_Collection  \n",
      "\n"
     ]
    }
   ],
   "source": [
    "report_descriptor_dbo = report_descriptor_dbos[0]\n",
    "_ = report_descriptor_dbo.parse(print_out = True)\n",
    "# print(report_descriptor_dbo.parse(print_out = True)"
   ]
  },
  {
   "cell_type": "code",
   "execution_count": 51,
   "metadata": {},
   "outputs": [],
   "source": [
    "device.reset()"
   ]
  }
 ],
 "metadata": {
  "kernelspec": {
   "display_name": "Python 3",
   "language": "python",
   "name": "python3"
  },
  "language_info": {
   "codemirror_mode": {
    "name": "ipython",
    "version": 3
   },
   "file_extension": ".py",
   "mimetype": "text/x-python",
   "name": "python",
   "nbconvert_exporter": "python",
   "pygments_lexer": "ipython3",
   "version": "3.6.8"
  }
 },
 "nbformat": 4,
 "nbformat_minor": 2
}
