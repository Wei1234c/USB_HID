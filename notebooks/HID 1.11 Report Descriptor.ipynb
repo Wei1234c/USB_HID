{
 "cells": [
  {
   "cell_type": "code",
   "execution_count": null,
   "metadata": {},
   "outputs": [],
   "source": [
    "bin(0x80 | 0x21)"
   ]
  },
  {
   "cell_type": "markdown",
   "metadata": {},
   "source": [
    "# HID 1.11 Report Descriptor"
   ]
  },
  {
   "cell_type": "markdown",
   "metadata": {},
   "source": [
    "### 需安裝\n",
    "\n",
    "```\n",
    "pip install pyusb\n",
    "\n",
    "```\n",
    "\n",
    "### Windows DLL\n",
    "[libusb-win32-devel-filter-1.2.6.0.exe](https://sourceforge.net/projects/libusb-win32/files/libusb-win32-releases/1.2.6.0/)  \n",
    "\n",
    "https://sourceforge.net/projects/libusb-win32/  \n",
    "\n",
    "\n",
    "\n",
    "### Linux 權限\n",
    "https://ubuntuforums.org/showthread.php?t=1682084  \n",
    "https://linuxconfig.org/tutorial-on-how-to-write-basic-udev-rules-in-linux  \n",
    "```\n",
    "If anyone is interested.. fixed with udev rule:\n",
    "\n",
    "cd /etc/udev/rules.d/\n",
    "\n",
    "nano 70-ch341.rules\n",
    "\n",
    "SUBSYSTEM==\"usb\", ATTRS{idVendor}==\"1a86\", GROUP=\"dialout\"\n",
    "SUBSYSTEM==\"usb\", ATTRS{idVendor}==\"1a86\", MODE=\"666\"\n",
    "\n",
    "then reloaded udev rules:\n",
    "\n",
    "$ sudo udevadm control --reload-rules  \n",
    "$ sudo udevadm trigger\n",
    "\n",
    "```"
   ]
  },
  {
   "cell_type": "code",
   "execution_count": null,
   "metadata": {},
   "outputs": [],
   "source": [
    "%pylab inline  "
   ]
  },
  {
   "cell_type": "code",
   "execution_count": 2,
   "metadata": {},
   "outputs": [],
   "source": [
    "import os\n",
    "import sys\n",
    "sys.path.append(os.path.abspath(os.path.join('..', 'codes')))\n",
    "\n",
    "path = os.sep.join(['..', '..', '..', '..', '..', '待處理', 'ORM', 'bitbucket', 'github', 'codes'])\n",
    "sys.path.append(path) \n",
    "\n",
    "path = os.sep.join(['..', '..', '..', '..', '..', '待處理', 'Universal Serial Bus', 'bitbucket', 'github', 'codes'])\n",
    "sys.path.append(path) \n",
    "\n",
    "from orm.alchemy import * "
   ]
  },
  {
   "cell_type": "markdown",
   "metadata": {},
   "source": [
    "## Prefix"
   ]
  },
  {
   "cell_type": "code",
   "execution_count": null,
   "metadata": {},
   "outputs": [],
   "source": [
    "from usb_hid.orm.hid111.items import *\n",
    "\n",
    "PREFIX_TYPES.Input"
   ]
  },
  {
   "cell_type": "markdown",
   "metadata": {},
   "source": [
    "## Usages"
   ]
  },
  {
   "cell_type": "code",
   "execution_count": null,
   "metadata": {},
   "outputs": [],
   "source": [
    "from usb_hid.orm.hid111.usages.dictionary import USAGES\n",
    "\n",
    "USAGES.usage_pages.Consumer.code"
   ]
  },
  {
   "cell_type": "code",
   "execution_count": null,
   "metadata": {},
   "outputs": [],
   "source": [
    "USAGES.consumer.Volume_Increment.usage_id"
   ]
  },
  {
   "cell_type": "markdown",
   "metadata": {},
   "source": [
    "## Device"
   ]
  },
  {
   "cell_type": "code",
   "execution_count": null,
   "metadata": {},
   "outputs": [],
   "source": [
    "from universal_serial_bus import find_all_devices_by_class\n",
    "\n",
    "devices, devices_ids = find_all_devices_by_class(0x03)\n",
    "devices_ids = [(hex(v), hex(p)) for (v, p) in devices_ids]\n",
    "devices_ids"
   ]
  },
  {
   "cell_type": "code",
   "execution_count": null,
   "metadata": {},
   "outputs": [],
   "source": [
    "from usb_hid.orm.hid111 import HIDdevice\n",
    " \n",
    "# device = HIDdevice(0x4d9, 0x2011) # Filco KB\n",
    "# device = HIDdevice(0x045e, 0x077b) # MS mouse \n",
    "device = HIDdevice(0x1b3f, 0x2008) # Sound Card \n",
    "  \n",
    "# print(dev)"
   ]
  },
  {
   "cell_type": "markdown",
   "metadata": {},
   "source": [
    "## 所有的 descriptors"
   ]
  },
  {
   "cell_type": "code",
   "execution_count": null,
   "metadata": {},
   "outputs": [],
   "source": [
    "descriptors = device.descriptors\n",
    "descriptors"
   ]
  },
  {
   "cell_type": "code",
   "execution_count": null,
   "metadata": {},
   "outputs": [],
   "source": [
    "device.get_class_descriptor(descriptor_type = HIDdevice.REPORT_DESCRIPTOR_TYPE_CODE,\n",
    "                            interface_idx = 0)"
   ]
  },
  {
   "cell_type": "code",
   "execution_count": null,
   "metadata": {},
   "outputs": [],
   "source": [
    "device.endpoints"
   ]
  },
  {
   "cell_type": "code",
   "execution_count": null,
   "metadata": {},
   "outputs": [],
   "source": [
    "# device.get_class_descriptor(descriptor_type = HIDdevice.REPORT_DESCRIPTOR_TYPE_CODE,\n",
    "#                             interface_idx = 1)"
   ]
  },
  {
   "cell_type": "code",
   "execution_count": null,
   "metadata": {},
   "outputs": [],
   "source": [
    "# device.device_descriptor_dbo.__dict__"
   ]
  },
  {
   "cell_type": "code",
   "execution_count": null,
   "metadata": {},
   "outputs": [],
   "source": [
    "# device.configuration_descriptor_dbo.__dict__"
   ]
  },
  {
   "cell_type": "code",
   "execution_count": null,
   "metadata": {
    "scrolled": false
   },
   "outputs": [],
   "source": [
    "descriptors_dbos = device.descriptors_dbos\n",
    "descriptors_dbos"
   ]
  },
  {
   "cell_type": "code",
   "execution_count": null,
   "metadata": {},
   "outputs": [],
   "source": [
    "device.dump_descriptors()"
   ]
  },
  {
   "cell_type": "code",
   "execution_count": null,
   "metadata": {
    "scrolled": false
   },
   "outputs": [],
   "source": [
    "hid_descriptors = device.hid_descriptors \n",
    "hid_descriptors"
   ]
  },
  {
   "cell_type": "code",
   "execution_count": null,
   "metadata": {},
   "outputs": [],
   "source": [
    "hid_descriptor_dbos = device.hid_descriptor_dbos\n",
    "hid_descriptor_dbos[0].__dict__"
   ]
  },
  {
   "cell_type": "code",
   "execution_count": null,
   "metadata": {
    "scrolled": false
   },
   "outputs": [],
   "source": [
    "report_descriptors = device.report_descriptors \n",
    "report_descriptors"
   ]
  },
  {
   "cell_type": "markdown",
   "metadata": {},
   "source": [
    "## Report Descriptor 範本"
   ]
  },
  {
   "cell_type": "markdown",
   "metadata": {},
   "source": [
    "```\n",
    "\n",
    "###### HID ######\n",
    "\n",
    "HID Descriptor\n",
    "Usage Page: 12 (Consumer)\n",
    "Usage: 1 (Consumer Control)\n",
    "\n",
    "Collection \n",
    "\n",
    "Logical Minimum: 0\n",
    "Logical Maximum: 1\n",
    "\n",
    "Usage: 233 (Volume Increment)\n",
    "Usage: 234 (Volume Decrement)\n",
    "Report Size: 1\n",
    "Report Count: 2\n",
    "Input: 2 (Data,Variable,Absolute,No Wrap,Linear,Preferred State,No Null Position)\n",
    "\n",
    "Usage: 226 (Mute)\n",
    "Usage: 205 (Play/Pause)\n",
    "Usage: 181 (Scan Next Track)\n",
    "Usage: 182 (Scan Previous Track)\n",
    "Usage: 140 (Media Select Telephone)\n",
    "Report Count: 5\n",
    "Input: 6 (Data,Variable,Relative,No Wrap,Linear,Preferred State,No Null Position)\n",
    "\n",
    "Usage: 0 (Unassigned)\n",
    "Report Count: 1\n",
    "Input: 2 (Data,Variable,Absolute,No Wrap,Linear,Preferred State,No Null Position)\n",
    "\n",
    "End Collection \n",
    "```"
   ]
  },
  {
   "cell_type": "code",
   "execution_count": null,
   "metadata": {},
   "outputs": [],
   "source": [
    "from usb_hid.orm.hid111.reports import ReportDescriptor\n",
    "from usb_hid.orm.hid111.items import Item\n",
    "\n",
    "\n",
    "items = []\n",
    "items.append(Item(PREFIX_TYPES.Usage_Page, USAGES.usage_pages.Consumer.code))   # Usage Page: 12 (Consumer)\n",
    "items.append(Item(PREFIX_TYPES.Usage, USAGES.consumer.Consumer_Control.usage_id))  # Usage: 1 (Consumer Control)\n",
    "items.append(Item(PREFIX_TYPES.Collection, COLLECTION_TYPES.Application))  # Collection\n",
    "items.append(Item(PREFIX_TYPES.Logical_Minimum, 0))  # Logical Minimum: 0\n",
    "items.append(Item(PREFIX_TYPES.Logical_Maximum, 1))  # Logical Maximum: 1\n",
    "items.append(Item(PREFIX_TYPES.Usage, USAGES.consumer.Volume_Increment.usage_id))  # Usage: 233 (Volume Increment)\n",
    "items.append(Item(PREFIX_TYPES.Usage, USAGES.consumer.Volume_Decrement.usage_id))  #  Usage: 234 (Volume Decrement)\n",
    "items.append(Item(PREFIX_TYPES.Report_Size, 1))  #  Report Size: 1\n",
    "items.append(Item(PREFIX_TYPES.Report_Count, 2))  #  Report Count: 2\n",
    "items.append(Item(PREFIX_TYPES.Input, 2))  #  Input: 2 (Data,Variable,Absolute,No Wrap,Linear,Preferred State,No Null Position)\n",
    "items.append(Item(PREFIX_TYPES.Usage, USAGES.consumer.Mute.usage_id))  #  Usage: 226 (Mute)\n",
    "items.append(Item(PREFIX_TYPES.Usage, USAGES.consumer.Play_Pause.usage_id))  #  Usage: 205 (Play/Pause)\n",
    "items.append(Item(PREFIX_TYPES.Usage, USAGES.consumer.Scan_Next_Track.usage_id))  #  Usage: 181 (Scan Next Track)\n",
    "items.append(Item(PREFIX_TYPES.Usage, USAGES.consumer.Scan_Previous_Track.usage_id))  #  Usage: 182 (Scan Previous Track)\n",
    "items.append(Item(PREFIX_TYPES.Usage, USAGES.consumer.Media_Select_Telephone.usage_id))  #  Usage: 140 (Media Select Telephone) \n",
    "items.append(Item(PREFIX_TYPES.Report_Count, 5))  #  Report Count: 5\n",
    "items.append(Item(PREFIX_TYPES.Input, 6))  #  Input: 6 (Data,Variable,Relative,No Wrap,Linear,Preferred State,No Null Position)\n",
    "items.append(Item(PREFIX_TYPES.Usage, USAGES.consumer.Unassigned.usage_id))  #  Usage: 0 (Unassigned)\n",
    "items.append(Item(PREFIX_TYPES.Report_Count, 1))  #  Report Count: 1\n",
    "items.append(Item(PREFIX_TYPES.Input, 2))  #  Input: 2 (Data,Variable,Absolute,No Wrap,Linear,Preferred State,No Null Position)\n",
    "items.append(Item(PREFIX_TYPES.End_Collection))  # End Collection \n",
    "\n",
    "rpt_dscpt = ReportDescriptor(items)\n",
    "rpt_dscpt.byte_array"
   ]
  },
  {
   "cell_type": "code",
   "execution_count": null,
   "metadata": {
    "scrolled": false
   },
   "outputs": [],
   "source": [
    "report_descriptors = device.report_descriptors\n",
    "report_descriptors"
   ]
  },
  {
   "cell_type": "markdown",
   "metadata": {},
   "source": [
    "## 各種 codes"
   ]
  },
  {
   "cell_type": "code",
   "execution_count": null,
   "metadata": {},
   "outputs": [],
   "source": [
    "TAG_TYPE_PREFIX_TYPES"
   ]
  },
  {
   "cell_type": "code",
   "execution_count": null,
   "metadata": {},
   "outputs": [],
   "source": [
    "from usb_hid.orm.hid111.reports import *"
   ]
  },
  {
   "cell_type": "code",
   "execution_count": null,
   "metadata": {},
   "outputs": [],
   "source": [
    "USAGES_PAGES"
   ]
  },
  {
   "cell_type": "code",
   "execution_count": null,
   "metadata": {},
   "outputs": [],
   "source": [
    "DATA_TYPE_BIT_MAP"
   ]
  },
  {
   "cell_type": "code",
   "execution_count": null,
   "metadata": {
    "scrolled": false
   },
   "outputs": [],
   "source": [
    "# parser = Parser()\n",
    "\n",
    "# for report_descriptor in  device.report_descriptors:\n",
    "#     lines, report_descriptor_obj = parser.parse(report_descriptor, print_out = True)"
   ]
  },
  {
   "cell_type": "code",
   "execution_count": null,
   "metadata": {},
   "outputs": [],
   "source": [
    "device.reset()"
   ]
  },
  {
   "cell_type": "code",
   "execution_count": null,
   "metadata": {},
   "outputs": [],
   "source": []
  },
  {
   "cell_type": "markdown",
   "metadata": {},
   "source": [
    "## Profile devices"
   ]
  },
  {
   "cell_type": "code",
   "execution_count": 3,
   "metadata": {},
   "outputs": [],
   "source": [
    "from universal_serial_bus import find_all_devices_by_class\n",
    "from usb_hid.orm.hid111 import HIDdevice"
   ]
  },
  {
   "cell_type": "code",
   "execution_count": 23,
   "metadata": {
    "scrolled": false
   },
   "outputs": [],
   "source": [
    "def profile_device(device, path):\n",
    "    \n",
    "    for i in range(len(device.report_descriptor_dbos)):\n",
    "        fn = '{}{} {} {}{}'.format(path, device.manufacturer_product,'HID_report_descriptor', i, '.txt')\n",
    "        device.report_descriptor_dbos[i].parse(print_out = True, save_as_file = True, fn = fn)\n",
    "        \n",
    "        fn = '{}{} {} {}{}'.format(path, device.manufacturer_product, 'HID_report_descriptor', i, '.json')\n",
    "        device.report_descriptor_dbos[i].dump(fn = fn)\n",
    "        \n",
    "    fn = '{}{} {}{}'.format(path, device.manufacturer_product, 'descriptors', '.json' )\n",
    "    device.dump_descriptors(fn = fn)"
   ]
  },
  {
   "cell_type": "code",
   "execution_count": 33,
   "metadata": {
    "scrolled": false
   },
   "outputs": [
    {
     "name": "stdout",
     "output_type": "stream",
     "text": [
      "\n",
      "###################################################\n",
      "array('B', [5, 12, 9, 1, 161, 1, 5, 1, 9, 2, 161, 2, 133, 19, 5, 12, 10, 56, 2, 149, 1, 117, 8, 21, 129, 37, 127, 129, 6, 192, 133, 32, 6, 0, 255, 21, 0, 38, 255, 0, 117, 8, 149, 18, 10, 10, 250, 177, 2, 133, 46, 6, 0, 255, 21, 0, 38, 255, 0, 117, 8, 149, 7, 10, 10, 250, 177, 2, 133, 47, 6, 0, 255, 21, 0, 38, 255, 0, 117, 8, 149, 7, 10, 10, 250, 129, 2, 133, 24, 6, 0, 255, 21, 0, 38, 255, 0, 117, 8, 149, 1, 10, 10, 250, 177, 2, 133, 22, 5, 12, 25, 0, 42, 255, 3, 149, 1, 117, 16, 21, 0, 38, 255, 3, 129, 0, 6, 0, 255, 26, 1, 253, 42, 255, 253, 21, 1, 38, 255, 0, 117, 8, 129, 0, 129, 1, 133, 23, 10, 6, 255, 21, 0, 37, 1, 53, 1, 69, 1, 149, 1, 117, 2, 177, 2, 10, 15, 255, 69, 16, 149, 1, 117, 2, 177, 2, 10, 4, 255, 53, 0, 69, 0, 149, 1, 117, 1, 177, 2, 117, 3, 177, 1, 133, 28, 6, 0, 255, 10, 37, 255, 21, 0, 37, 4, 117, 8, 149, 1, 129, 2, 10, 38, 255, 117, 16, 21, 0, 39, 255, 255, 129, 2, 192, 5, 1, 9, 2, 161, 1, 5, 1, 9, 2, 161, 2, 133, 16, 9, 1, 161, 0, 5, 9, 25, 1, 41, 5, 149, 5, 117, 1, 37, 0, 37, 1, 129, 2, 117, 3, 149, 1, 129, 1, 5, 1, 9, 48, 9, 49, 149, 2, 117, 16, 22, 1, 128, 38, 255, 127, 129, 6, 161, 2, 133, 18, 9, 72, 149, 1, 117, 2, 21, 0, 37, 1, 53, 1, 69, 1, 177, 2, 133, 16, 9, 56, 53, 0, 69, 0, 21, 129, 37, 127, 117, 8, 129, 6, 192, 161, 2, 133, 18, 9, 72, 117, 2, 21, 0, 37, 1, 53, 1, 69, 16, 177, 2, 53, 0, 69, 0, 117, 4, 177, 1, 133, 16, 5, 12, 21, 129, 37, 127, 117, 8, 10, 56, 2, 129, 6, 192, 192, 192, 192])\n",
      "###################################################\n",
      "\n",
      " Usage_Page 12 (Consumer)\n",
      " Usage 1 (Consumer_Control)\n",
      " Collection 1 (Application)\n",
      "\n",
      "   Usage_Page 1 (Generic Desktop)\n",
      "   Usage 2 (Mouse)\n",
      "   Collection 2 (Logical)\n",
      "     Report_ID 19 \n",
      "\n",
      "     Usage_Page 12 (Consumer)\n",
      "     Usage 568 (AC_Pan)\n",
      "     Report_Count 1 \n",
      "     Report_Size 8 \n",
      "     Logical_Minimum 129 \n",
      "     Logical_Maximum 127 \n",
      "     Input 6 (Data | Variable | Relative | No Wrap | Linear | Preferred State | No Null position | Non Volatile | Bit Field)\n",
      "   End_Collection  \n",
      "   Report_ID 32 \n",
      "\n",
      "   Usage_Page 65280 (Unknown)\n",
      "   Logical_Minimum 0 \n",
      "   Logical_Maximum 255 \n",
      "   Report_Size 8 \n",
      "   Report_Count 18 \n",
      "   Usage 64010 \n",
      "   Feature 2 (Data | Variable | Absolute | No Wrap | Linear | Preferred State | No Null position | Non Volatile | Bit Field)\n",
      "   Report_ID 46 \n",
      "\n",
      "   Usage_Page 65280 (Unknown)\n",
      "   Logical_Minimum 0 \n",
      "   Logical_Maximum 255 \n",
      "   Report_Size 8 \n",
      "   Report_Count 7 \n",
      "   Usage 64010 \n",
      "   Feature 2 (Data | Variable | Absolute | No Wrap | Linear | Preferred State | No Null position | Non Volatile | Bit Field)\n",
      "   Report_ID 47 \n",
      "\n",
      "   Usage_Page 65280 (Unknown)\n",
      "   Logical_Minimum 0 \n",
      "   Logical_Maximum 255 \n",
      "   Report_Size 8 \n",
      "   Report_Count 7 \n",
      "   Usage 64010 \n",
      "   Input 2 (Data | Variable | Absolute | No Wrap | Linear | Preferred State | No Null position | Non Volatile | Bit Field)\n",
      "   Report_ID 24 \n",
      "\n",
      "   Usage_Page 65280 (Unknown)\n",
      "   Logical_Minimum 0 \n",
      "   Logical_Maximum 255 \n",
      "   Report_Size 8 \n",
      "   Report_Count 1 \n",
      "   Usage 64010 \n",
      "   Feature 2 (Data | Variable | Absolute | No Wrap | Linear | Preferred State | No Null position | Non Volatile | Bit Field)\n",
      "   Report_ID 22 \n",
      "\n",
      "   Usage_Page 12 (Consumer)\n",
      "   Usage_Minimum 0 \n",
      "   Usage_Maximum 1023 \n",
      "   Report_Count 1 \n",
      "   Report_Size 16 \n",
      "   Logical_Minimum 0 \n",
      "   Logical_Maximum 1023 \n",
      "   Input 0 (Data | Array | Absolute | No Wrap | Linear | Preferred State | No Null position | Non Volatile | Bit Field)\n",
      "\n",
      "   Usage_Page 65280 (Unknown)\n",
      "   Usage_Minimum 64769 \n",
      "   Usage_Maximum 65023 \n",
      "   Logical_Minimum 1 \n",
      "   Logical_Maximum 255 \n",
      "   Report_Size 8 \n",
      "   Input 0 (Data | Array | Absolute | No Wrap | Linear | Preferred State | No Null position | Non Volatile | Bit Field)\n",
      "   Input 1 (Constant | Array | Absolute | No Wrap | Linear | Preferred State | No Null position | Non Volatile | Bit Field)\n",
      "   Report_ID 23 \n",
      "   Usage 65286 \n",
      "   Logical_Minimum 0 \n",
      "   Logical_Maximum 1 \n",
      "   Physical_Minimum 1 \n",
      "   Physical_Maximum 1 \n",
      "   Report_Count 1 \n",
      "   Report_Size 2 \n",
      "   Feature 2 (Data | Variable | Absolute | No Wrap | Linear | Preferred State | No Null position | Non Volatile | Bit Field)\n",
      "   Usage 65295 \n",
      "   Physical_Maximum 16 \n",
      "   Report_Count 1 \n",
      "   Report_Size 2 \n",
      "   Feature 2 (Data | Variable | Absolute | No Wrap | Linear | Preferred State | No Null position | Non Volatile | Bit Field)\n",
      "   Usage 65284 \n",
      "   Physical_Minimum 0 \n",
      "   Physical_Maximum 0 \n",
      "   Report_Count 1 \n",
      "   Report_Size 1 \n",
      "   Feature 2 (Data | Variable | Absolute | No Wrap | Linear | Preferred State | No Null position | Non Volatile | Bit Field)\n",
      "   Report_Size 3 \n",
      "   Feature 1 (Constant | Array | Absolute | No Wrap | Linear | Preferred State | No Null position | Non Volatile | Bit Field)\n",
      "   Report_ID 28 \n",
      "\n",
      "   Usage_Page 65280 (Unknown)\n",
      "   Usage 65317 \n",
      "   Logical_Minimum 0 \n",
      "   Logical_Maximum 4 \n",
      "   Report_Size 8 \n",
      "   Report_Count 1 \n",
      "   Input 2 (Data | Variable | Absolute | No Wrap | Linear | Preferred State | No Null position | Non Volatile | Bit Field)\n",
      "   Usage 65318 \n",
      "   Report_Size 16 \n",
      "   Logical_Minimum 0 \n",
      "   Logical_Maximum 42074111 \n",
      " End_Collection  \n",
      "\n",
      " Usage_Page 1 (Generic Desktop)\n",
      " Usage 2 (Mouse)\n",
      " Collection 1 (Application)\n",
      "\n",
      "   Usage_Page 1 (Generic Desktop)\n",
      "   Usage 2 (Mouse)\n",
      "   Collection 2 (Logical)\n",
      "     Report_ID 16 \n",
      "     Usage 1 (Pointer)\n",
      "     Collection 0 (Physical)\n",
      "\n",
      "       Usage_Page 9 (Button)\n",
      "       Usage_Minimum 1 \n",
      "       Usage_Maximum 5 \n",
      "       Report_Count 5 \n",
      "       Report_Size 1 \n",
      "       Logical_Maximum 0 \n",
      "       Logical_Maximum 1 \n",
      "       Input 2 (Data | Variable | Absolute | No Wrap | Linear | Preferred State | No Null position | Non Volatile | Bit Field)\n",
      "       Report_Size 3 \n",
      "       Report_Count 1 \n",
      "       Input 1 (Constant | Array | Absolute | No Wrap | Linear | Preferred State | No Null position | Non Volatile | Bit Field)\n",
      "\n",
      "       Usage_Page 1 (Generic Desktop)\n",
      "       Usage 48 (X)\n",
      "       Usage 49 (Y)\n",
      "       Report_Count 2 \n",
      "       Report_Size 16 \n",
      "       Logical_Minimum 32769 \n",
      "       Logical_Maximum 32767 \n",
      "       Input 6 (Data | Variable | Relative | No Wrap | Linear | Preferred State | No Null position | Non Volatile | Bit Field)\n",
      "       Collection 2 (Logical)\n",
      "         Report_ID 18 \n",
      "         Usage 72 (Resolution_Multiplier)\n",
      "         Report_Count 1 \n",
      "         Report_Size 2 \n",
      "         Logical_Minimum 0 \n",
      "         Logical_Maximum 1 \n",
      "         Physical_Minimum 1 \n",
      "         Physical_Maximum 1 \n",
      "         Feature 2 (Data | Variable | Absolute | No Wrap | Linear | Preferred State | No Null position | Non Volatile | Bit Field)\n",
      "         Report_ID 16 \n",
      "         Usage 56 (Wheel)\n",
      "         Physical_Minimum 0 \n",
      "         Physical_Maximum 0 \n",
      "         Logical_Minimum 129 \n",
      "         Logical_Maximum 127 \n",
      "         Report_Size 8 \n",
      "         Input 6 (Data | Variable | Relative | No Wrap | Linear | Preferred State | No Null position | Non Volatile | Bit Field)\n",
      "       End_Collection  \n",
      "       Collection 2 (Logical)\n",
      "         Report_ID 18 \n",
      "         Usage 72 (Resolution_Multiplier)\n",
      "         Report_Size 2 \n",
      "         Logical_Minimum 0 \n",
      "         Logical_Maximum 1 \n",
      "         Physical_Minimum 1 \n",
      "         Physical_Maximum 16 \n",
      "         Feature 2 (Data | Variable | Absolute | No Wrap | Linear | Preferred State | No Null position | Non Volatile | Bit Field)\n",
      "         Physical_Minimum 0 \n",
      "         Physical_Maximum 0 \n",
      "         Report_Size 4 \n",
      "         Feature 1 (Constant | Array | Absolute | No Wrap | Linear | Preferred State | No Null position | Non Volatile | Bit Field)\n",
      "         Report_ID 16 \n",
      "\n",
      "         Usage_Page 12 (Consumer)\n",
      "         Logical_Minimum 129 \n",
      "         Logical_Maximum 127 \n",
      "         Report_Size 8 \n",
      "         Usage 568 (AC_Pan)\n",
      "         Input 6 (Data | Variable | Relative | No Wrap | Linear | Preferred State | No Null position | Non Volatile | Bit Field)\n",
      "       End_Collection  \n",
      "     End_Collection  \n",
      "   End_Collection  \n",
      " End_Collection  \n",
      "\n",
      "\n",
      "###################################################\n",
      "array('B', [5, 1, 9, 6, 161, 1, 149, 8, 117, 1, 21, 0, 37, 1, 5, 7, 25, 224, 41, 231, 129, 2, 129, 3, 149, 5, 5, 8, 25, 1, 41, 5, 145, 2, 149, 1, 117, 3, 145, 1, 149, 6, 117, 8, 21, 0, 38, 255, 0, 5, 7, 25, 0, 42, 255, 0, 129, 0, 192])\n",
      "###################################################\n",
      "\n",
      " Usage_Page 1 (Generic Desktop)\n",
      " Usage 6 (Keyboard)\n",
      " Collection 1 (Application)\n",
      "   Report_Count 8 \n",
      "   Report_Size 1 \n",
      "   Logical_Minimum 0 \n",
      "   Logical_Maximum 1 \n",
      "\n",
      "   Usage_Page 7 (Keyboard/Keypad)\n",
      "   Usage_Minimum 224 \n",
      "   Usage_Maximum 231 \n",
      "   Input 2 (Data | Variable | Absolute | No Wrap | Linear | Preferred State | No Null position | Non Volatile | Bit Field)\n",
      "   Input 3 (Constant | Variable | Absolute | No Wrap | Linear | Preferred State | No Null position | Non Volatile | Bit Field)\n",
      "   Report_Count 5 \n",
      "\n",
      "   Usage_Page 8 (LEDs)\n",
      "   Usage_Minimum 1 \n",
      "   Usage_Maximum 5 \n",
      "   Output 2 (Data | Variable | Absolute | No Wrap | Linear | Preferred State | No Null position | Non Volatile | Bit Field)\n",
      "   Report_Count 1 \n",
      "   Report_Size 3 \n",
      "   Output 1 (Constant | Array | Absolute | No Wrap | Linear | Preferred State | No Null position | Non Volatile | Bit Field)\n",
      "   Report_Count 6 \n",
      "   Report_Size 8 \n",
      "   Logical_Minimum 0 \n",
      "   Logical_Maximum 255 \n",
      "\n",
      "   Usage_Page 7 (Keyboard/Keypad)\n",
      "   Usage_Minimum 0 \n",
      "   Usage_Maximum 255 \n",
      "   Input 0 (Data | Array | Absolute | No Wrap | Linear | Preferred State | No Null position | Non Volatile | Bit Field)\n",
      " End_Collection  \n",
      "\n",
      "\n",
      "###################################################\n",
      "array('B', [5, 1, 9, 2, 161, 1, 133, 2, 9, 1, 161, 0, 149, 16, 117, 1, 21, 0, 37, 1, 5, 9, 25, 1, 41, 16, 129, 2, 149, 2, 117, 12, 22, 1, 248, 38, 255, 7, 5, 1, 9, 48, 9, 49, 129, 6, 149, 1, 117, 8, 21, 129, 37, 127, 9, 56, 129, 6, 149, 1, 5, 12, 10, 56, 2, 129, 6, 192, 192, 5, 12, 9, 1, 161, 1, 133, 3, 149, 2, 117, 16, 21, 1, 38, 255, 2, 25, 1, 42, 255, 2, 129, 0, 192, 5, 1, 9, 128, 161, 1, 133, 4, 149, 1, 117, 2, 21, 1, 37, 3, 9, 130, 9, 129, 9, 131, 129, 0, 117, 6, 129, 3, 192, 6, 188, 255, 9, 136, 161, 1, 133, 8, 149, 1, 117, 8, 21, 1, 38, 255, 0, 25, 1, 41, 255, 129, 0, 192])\n",
      "###################################################\n",
      "\n",
      " Usage_Page 1 (Generic Desktop)\n",
      " Usage 2 (Mouse)\n",
      " Collection 1 (Application)\n",
      "   Report_ID 2 \n",
      "   Usage 1 (Pointer)\n",
      "   Collection 0 (Physical)\n",
      "     Report_Count 16 \n",
      "     Report_Size 1 \n",
      "     Logical_Minimum 0 \n",
      "     Logical_Maximum 1 \n",
      "\n",
      "     Usage_Page 9 (Button)\n",
      "     Usage_Minimum 1 \n",
      "     Usage_Maximum 16 \n",
      "     Input 2 (Data | Variable | Absolute | No Wrap | Linear | Preferred State | No Null position | Non Volatile | Bit Field)\n",
      "     Report_Count 2 \n",
      "     Report_Size 12 \n",
      "     Logical_Minimum 63489 \n",
      "     Logical_Maximum 2047 \n",
      "\n",
      "     Usage_Page 1 (Generic Desktop)\n",
      "     Usage 48 (X)\n",
      "     Usage 49 (Y)\n",
      "     Input 6 (Data | Variable | Relative | No Wrap | Linear | Preferred State | No Null position | Non Volatile | Bit Field)\n",
      "     Report_Count 1 \n",
      "     Report_Size 8 \n",
      "     Logical_Minimum 129 \n",
      "     Logical_Maximum 127 \n",
      "     Usage 56 (Wheel)\n",
      "     Input 6 (Data | Variable | Relative | No Wrap | Linear | Preferred State | No Null position | Non Volatile | Bit Field)\n",
      "     Report_Count 1 \n",
      "\n",
      "     Usage_Page 12 (Consumer)\n",
      "     Usage 568 (AC_Pan)\n",
      "     Input 6 (Data | Variable | Relative | No Wrap | Linear | Preferred State | No Null position | Non Volatile | Bit Field)\n",
      "   End_Collection  \n",
      " End_Collection  \n",
      "\n",
      " Usage_Page 12 (Consumer)\n",
      " Usage 1 (Consumer_Control)\n",
      " Collection 1 (Application)\n",
      "   Report_ID 3 \n",
      "   Report_Count 2 \n",
      "   Report_Size 16 \n",
      "   Logical_Minimum 1 \n",
      "   Logical_Maximum 767 \n",
      "   Usage_Minimum 1 \n",
      "   Usage_Maximum 767 \n",
      "   Input 0 (Data | Array | Absolute | No Wrap | Linear | Preferred State | No Null position | Non Volatile | Bit Field)\n",
      " End_Collection  \n",
      "\n",
      " Usage_Page 1 (Generic Desktop)\n",
      " Usage 128 (System_Control)\n",
      " Collection 1 (Application)\n",
      "   Report_ID 4 \n",
      "   Report_Count 1 \n",
      "   Report_Size 2 \n",
      "   Logical_Minimum 1 \n",
      "   Logical_Maximum 3 \n",
      "   Usage 130 (System_Sleep)\n",
      "   Usage 129 (System_Power_Down)\n",
      "   Usage 131 (System_Wake_Up)\n",
      "   Input 0 (Data | Array | Absolute | No Wrap | Linear | Preferred State | No Null position | Non Volatile | Bit Field)\n",
      "   Report_Size 6 \n",
      "   Input 3 (Constant | Variable | Absolute | No Wrap | Linear | Preferred State | No Null position | Non Volatile | Bit Field)\n",
      " End_Collection  \n",
      "\n",
      " Usage_Page 65468 (Unknown)\n",
      " Usage 136 \n",
      " Collection 1 (Application)\n",
      "   Report_ID 8 \n",
      "   Report_Count 1 \n",
      "   Report_Size 8 \n",
      "   Logical_Minimum 1 \n",
      "   Logical_Maximum 255 \n",
      "   Usage_Minimum 1 \n",
      "   Usage_Maximum 255 \n",
      "   Input 0 (Data | Array | Absolute | No Wrap | Linear | Preferred State | No Null position | Non Volatile | Bit Field)\n",
      " End_Collection  \n",
      "\n",
      "\n",
      "###################################################\n",
      "array('B', [6, 0, 255, 9, 1, 161, 1, 133, 16, 149, 6, 117, 8, 21, 0, 38, 255, 0, 9, 1, 129, 0, 9, 1, 145, 0, 192, 6, 0, 255, 9, 2, 161, 1, 133, 17, 149, 19, 117, 8, 21, 0, 38, 255, 0, 9, 2, 129, 0, 9, 2, 145, 0, 192, 6, 0, 255, 9, 4, 161, 1, 133, 32, 149, 14, 117, 8, 21, 0, 38, 255, 0, 9, 65, 129, 0, 9, 65, 145, 0, 133, 33, 149, 31, 9, 66, 129, 0, 9, 66, 145, 0, 192])\n",
      "###################################################\n",
      "\n",
      " Usage_Page 65280 (Unknown)\n",
      " Usage 1 \n",
      " Collection 1 (Application)\n",
      "   Report_ID 16 \n",
      "   Report_Count 6 \n",
      "   Report_Size 8 \n",
      "   Logical_Minimum 0 \n",
      "   Logical_Maximum 255 \n",
      "   Usage 1 \n",
      "   Input 0 (Data | Array | Absolute | No Wrap | Linear | Preferred State | No Null position | Non Volatile | Bit Field)\n",
      "   Usage 1 \n",
      "   Output 0 (Data | Array | Absolute | No Wrap | Linear | Preferred State | No Null position | Non Volatile | Bit Field)\n",
      " End_Collection  \n",
      "\n",
      " Usage_Page 65280 (Unknown)\n",
      " Usage 2 \n",
      " Collection 1 (Application)\n",
      "   Report_ID 17 \n",
      "   Report_Count 19 \n",
      "   Report_Size 8 \n",
      "   Logical_Minimum 0 \n",
      "   Logical_Maximum 255 \n",
      "   Usage 2 \n",
      "   Input 0 (Data | Array | Absolute | No Wrap | Linear | Preferred State | No Null position | Non Volatile | Bit Field)\n",
      "   Usage 2 \n",
      "   Output 0 (Data | Array | Absolute | No Wrap | Linear | Preferred State | No Null position | Non Volatile | Bit Field)\n",
      " End_Collection  \n",
      "\n",
      " Usage_Page 65280 (Unknown)\n",
      " Usage 4 \n",
      " Collection 1 (Application)\n",
      "   Report_ID 32 \n",
      "   Report_Count 14 \n",
      "   Report_Size 8 \n",
      "   Logical_Minimum 0 \n",
      "   Logical_Maximum 255 \n",
      "   Usage 65 \n",
      "   Input 0 (Data | Array | Absolute | No Wrap | Linear | Preferred State | No Null position | Non Volatile | Bit Field)\n",
      "   Usage 65 \n",
      "   Output 0 (Data | Array | Absolute | No Wrap | Linear | Preferred State | No Null position | Non Volatile | Bit Field)\n",
      "   Report_ID 33 \n",
      "   Report_Count 31 \n",
      "   Usage 66 \n",
      "   Input 0 (Data | Array | Absolute | No Wrap | Linear | Preferred State | No Null position | Non Volatile | Bit Field)\n",
      "   Usage 66 \n",
      "   Output 0 (Data | Array | Absolute | No Wrap | Linear | Preferred State | No Null position | Non Volatile | Bit Field)\n",
      " End_Collection  \n",
      "\n"
     ]
    }
   ],
   "source": [
    "path = '.\\\\devices\\\\'\n",
    "\n",
    "_, devices_ids = find_all_devices_by_class(0x03)\n",
    "[(hex(v), hex(p)) for (v, p) in devices_ids]\n",
    "\n",
    "for (idVendor, idProduct) in devices_ids:\n",
    "    device = HIDdevice(idVendor, idProduct)  \n",
    "    profile_device(device, path)\n",
    "    device.reset()"
   ]
  },
  {
   "cell_type": "code",
   "execution_count": null,
   "metadata": {
    "scrolled": false
   },
   "outputs": [],
   "source": [
    "# fn = '{}{} {} {}{}'.format(path, device.manufacturer_product, 'HID_report_descriptor', 0, '.json')\n",
    "\n",
    "# rd = ReportDescriptor.load(fn)\n",
    "# print(rd.parse())"
   ]
  }
 ],
 "metadata": {
  "kernelspec": {
   "display_name": "Python 3",
   "language": "python",
   "name": "python3"
  },
  "language_info": {
   "codemirror_mode": {
    "name": "ipython",
    "version": 3
   },
   "file_extension": ".py",
   "mimetype": "text/x-python",
   "name": "python",
   "nbconvert_exporter": "python",
   "pygments_lexer": "ipython3",
   "version": "3.6.8"
  }
 },
 "nbformat": 4,
 "nbformat_minor": 2
}
