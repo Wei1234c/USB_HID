{
 "cells": [
  {
   "cell_type": "code",
   "execution_count": 1,
   "metadata": {},
   "outputs": [
    {
     "data": {
      "text/plain": [
       "'0b10100001'"
      ]
     },
     "execution_count": 1,
     "metadata": {},
     "output_type": "execute_result"
    }
   ],
   "source": [
    "bin(0x80 | 0x21)"
   ]
  },
  {
   "cell_type": "markdown",
   "metadata": {},
   "source": [
    "# HID 1.11 Report Descriptor"
   ]
  },
  {
   "cell_type": "markdown",
   "metadata": {},
   "source": [
    "### 需安裝\n",
    "\n",
    "```\n",
    "pip install pyusb\n",
    "\n",
    "```\n",
    "\n",
    "### Windows DLL\n",
    "[libusb-win32-devel-filter-1.2.6.0.exe](https://sourceforge.net/projects/libusb-win32/files/libusb-win32-releases/1.2.6.0/)  \n",
    "\n",
    "https://sourceforge.net/projects/libusb-win32/  \n",
    "\n",
    "\n",
    "\n",
    "### Linux 權限\n",
    "https://ubuntuforums.org/showthread.php?t=1682084  \n",
    "https://linuxconfig.org/tutorial-on-how-to-write-basic-udev-rules-in-linux  \n",
    "```\n",
    "If anyone is interested.. fixed with udev rule:\n",
    "\n",
    "cd /etc/udev/rules.d/\n",
    "\n",
    "nano 70-ch341.rules\n",
    "\n",
    "SUBSYSTEM==\"usb\", ATTRS{idVendor}==\"1a86\", GROUP=\"dialout\"\n",
    "SUBSYSTEM==\"usb\", ATTRS{idVendor}==\"1a86\", MODE=\"666\"\n",
    "\n",
    "then reloaded udev rules:\n",
    "\n",
    "$ sudo udevadm control --reload-rules  \n",
    "$ sudo udevadm trigger\n",
    "\n",
    "```"
   ]
  },
  {
   "cell_type": "code",
   "execution_count": 2,
   "metadata": {},
   "outputs": [
    {
     "name": "stdout",
     "output_type": "stream",
     "text": [
      "Populating the interactive namespace from numpy and matplotlib\n"
     ]
    }
   ],
   "source": [
    "%pylab inline  "
   ]
  },
  {
   "cell_type": "code",
   "execution_count": 3,
   "metadata": {},
   "outputs": [],
   "source": [
    "import os\n",
    "import sys\n",
    "sys.path.append(os.path.abspath(os.path.join('..', 'codes')))\n",
    "\n",
    "path = os.sep.join(['..', '..', '..', '..', '..', '待處理', 'ORM', 'bitbucket', 'github', 'codes'])\n",
    "sys.path.append(path) \n",
    "\n",
    "path = os.sep.join(['..', '..', '..', '..', '..', '待處理', 'Universal Serial Bus', 'bitbucket', 'github', 'codes'])\n",
    "sys.path.append(path) \n",
    "\n",
    "from orm.alchemy import * "
   ]
  },
  {
   "cell_type": "markdown",
   "metadata": {},
   "source": [
    "## Prefix"
   ]
  },
  {
   "cell_type": "code",
   "execution_count": 4,
   "metadata": {},
   "outputs": [
    {
     "data": {
      "text/plain": [
       "{'id': 1, 'item_name': 'Input', 'bType': '00', 'bTag': '08'}"
      ]
     },
     "execution_count": 4,
     "metadata": {},
     "output_type": "execute_result"
    }
   ],
   "source": [
    "from usb_hid.orm.hid111.items import *\n",
    "\n",
    "PREFIX_TYPES.Input"
   ]
  },
  {
   "cell_type": "markdown",
   "metadata": {},
   "source": [
    "## Usages"
   ]
  },
  {
   "cell_type": "code",
   "execution_count": 5,
   "metadata": {},
   "outputs": [
    {
     "data": {
      "text/plain": [
       "'0C'"
      ]
     },
     "execution_count": 5,
     "metadata": {},
     "output_type": "execute_result"
    }
   ],
   "source": [
    "from usb_hid.orm.hid111.usages.dictionary import USAGES\n",
    "\n",
    "USAGES.usage_pages.Consumer.code"
   ]
  },
  {
   "cell_type": "code",
   "execution_count": 6,
   "metadata": {},
   "outputs": [
    {
     "data": {
      "text/plain": [
       "'E9'"
      ]
     },
     "execution_count": 6,
     "metadata": {},
     "output_type": "execute_result"
    }
   ],
   "source": [
    "USAGES.consumer.Volume_Increment.usage_id"
   ]
  },
  {
   "cell_type": "markdown",
   "metadata": {},
   "source": [
    "## Device"
   ]
  },
  {
   "cell_type": "code",
   "execution_count": 7,
   "metadata": {},
   "outputs": [],
   "source": [
    "from usb_hid.orm.hid111 import HIDdevice\n",
    " \n",
    "device = HIDdevice(0x4d9, 0x2011) # Filco KB\n",
    "# device = HIDdevice(0x045e, 0x077b) # MS mouse \n",
    "# device = HIDdevice(0x1b3f, 0x2008) # Sound Card \n",
    "  \n",
    "# print(dev)"
   ]
  },
  {
   "cell_type": "markdown",
   "metadata": {},
   "source": [
    "## 所有的 descriptors"
   ]
  },
  {
   "cell_type": "code",
   "execution_count": 8,
   "metadata": {},
   "outputs": [
    {
     "data": {
      "text/plain": [
       "[array('B', [18, 1, 16, 1, 0, 0, 0, 8, 217, 4, 17, 32, 144, 3, 0, 2, 0, 1]),\n",
       " array('B', [9, 2, 59, 0, 2, 1, 0, 160, 50]),\n",
       " array('B', [9, 4, 0, 0, 1, 3, 1, 1, 0]),\n",
       " array('B', [9, 33, 16, 1, 0, 1, 34, 62, 0]),\n",
       " array('B', [7, 5, 129, 3, 8, 0, 10]),\n",
       " array('B', [9, 4, 1, 0, 1, 3, 1, 2, 0]),\n",
       " array('B', [9, 33, 16, 1, 0, 1, 34, 166, 0]),\n",
       " array('B', [7, 5, 130, 3, 8, 0, 10])]"
      ]
     },
     "execution_count": 8,
     "metadata": {},
     "output_type": "execute_result"
    }
   ],
   "source": [
    "descriptors = device.descriptors\n",
    "descriptors"
   ]
  },
  {
   "cell_type": "code",
   "execution_count": 9,
   "metadata": {},
   "outputs": [
    {
     "data": {
      "text/plain": [
       "array('B', [5, 1, 9, 6, 161, 1, 5, 7, 25, 224, 41, 231, 21, 0, 37, 1, 117, 1, 149, 8, 129, 2, 149, 1, 117, 8, 129, 1, 149, 3, 117, 1, 5, 8, 25, 1, 41, 3, 145, 2, 149, 5, 117, 1, 145, 1, 149, 6, 117, 8, 38, 255, 0, 5, 7, 25, 0, 41, 145, 129, 0, 192])"
      ]
     },
     "execution_count": 9,
     "metadata": {},
     "output_type": "execute_result"
    }
   ],
   "source": [
    "device.get_class_descriptor(descriptor_type = HIDdevice.REPORT_DESCRIPTOR_TYPE_CODE,\n",
    "                            interface_idx = 0)"
   ]
  },
  {
   "cell_type": "code",
   "execution_count": 10,
   "metadata": {},
   "outputs": [
    {
     "data": {
      "text/plain": [
       "{129: <ENDPOINT 0x81: Interrupt IN>, 130: <ENDPOINT 0x82: Interrupt IN>}"
      ]
     },
     "execution_count": 10,
     "metadata": {},
     "output_type": "execute_result"
    }
   ],
   "source": [
    "device.endpoints"
   ]
  },
  {
   "cell_type": "code",
   "execution_count": 11,
   "metadata": {},
   "outputs": [],
   "source": [
    "# device.get_class_descriptor(descriptor_type = HIDdevice.REPORT_DESCRIPTOR_TYPE_CODE,\n",
    "#                             interface_idx = 1)"
   ]
  },
  {
   "cell_type": "code",
   "execution_count": 12,
   "metadata": {},
   "outputs": [],
   "source": [
    "# device.device_descriptor_dbo.__dict__"
   ]
  },
  {
   "cell_type": "code",
   "execution_count": 13,
   "metadata": {},
   "outputs": [],
   "source": [
    "# device.configuration_descriptor_dbo.__dict__"
   ]
  },
  {
   "cell_type": "code",
   "execution_count": 14,
   "metadata": {
    "scrolled": false
   },
   "outputs": [
    {
     "data": {
      "text/plain": [
       "[<universal_serial_bus.orm.usb20.descriptors.StandardDeviceDescriptor at 0x2161337dc18>,\n",
       " <universal_serial_bus.orm.usb20.descriptors.StandardConfigurationDescriptor at 0x2161337de10>,\n",
       " <universal_serial_bus.orm.usb20.descriptors.StandardInterfaceDescriptor at 0x21613386080>,\n",
       " <usb_hid.orm.hid111.descriptors.HidDescriptor at 0x21613386240>,\n",
       " <universal_serial_bus.orm.usb20.descriptors.StandardEndpointDescriptor at 0x216133863c8>,\n",
       " <universal_serial_bus.orm.usb20.descriptors.StandardInterfaceDescriptor at 0x216133865f8>,\n",
       " <usb_hid.orm.hid111.descriptors.HidDescriptor at 0x216133867b8>,\n",
       " <universal_serial_bus.orm.usb20.descriptors.StandardEndpointDescriptor at 0x21613386940>]"
      ]
     },
     "execution_count": 14,
     "metadata": {},
     "output_type": "execute_result"
    }
   ],
   "source": [
    "descriptors_dbos = device.descriptors_dbos\n",
    "descriptors_dbos"
   ]
  },
  {
   "cell_type": "code",
   "execution_count": 15,
   "metadata": {},
   "outputs": [],
   "source": [
    "device.dump_descriptors()"
   ]
  },
  {
   "cell_type": "code",
   "execution_count": 16,
   "metadata": {
    "scrolled": false
   },
   "outputs": [
    {
     "data": {
      "text/plain": [
       "[array('B', [9, 33, 16, 1, 0, 1, 34, 62, 0]),\n",
       " array('B', [9, 33, 16, 1, 0, 1, 34, 166, 0])]"
      ]
     },
     "execution_count": 16,
     "metadata": {},
     "output_type": "execute_result"
    }
   ],
   "source": [
    "hid_descriptors = device.hid_descriptors \n",
    "hid_descriptors"
   ]
  },
  {
   "cell_type": "code",
   "execution_count": 17,
   "metadata": {},
   "outputs": [
    {
     "data": {
      "text/plain": [
       "{'parent_id': None,\n",
       " 'bLength': '09',\n",
       " 'bDescriptorType': '21',\n",
       " 'bcdHID': '1001',\n",
       " 'bCountryCode': '00',\n",
       " 'bNumDescriptors': '01',\n",
       " 'bReportDescriptorType': '22',\n",
       " 'wReportDescriptorLength': '3e00'}"
      ]
     },
     "execution_count": 17,
     "metadata": {},
     "output_type": "execute_result"
    }
   ],
   "source": [
    "hid_descriptor_dbos = device.hid_descriptor_dbos\n",
    "hid_descriptor_dbos[0].__dict__"
   ]
  },
  {
   "cell_type": "code",
   "execution_count": 18,
   "metadata": {
    "scrolled": false
   },
   "outputs": [
    {
     "data": {
      "text/plain": [
       "[array('B', [5, 1, 9, 6, 161, 1, 5, 7, 25, 224, 41, 231, 21, 0, 37, 1, 117, 1, 149, 8, 129, 2, 149, 1, 117, 8, 129, 1, 149, 3, 117, 1, 5, 8, 25, 1, 41, 3, 145, 2, 149, 5, 117, 1, 145, 1, 149, 6, 117, 8, 38, 255, 0, 5, 7, 25, 0, 41, 145, 129, 0, 192]),\n",
       " array('B', [5, 12, 9, 1, 161, 1, 133, 1, 21, 0, 37, 1, 117, 1, 149, 42, 9, 149, 9, 226, 9, 234, 9, 233, 10, 132, 1, 10, 134, 1, 10, 138, 1, 10, 142, 1, 10, 146, 1, 10, 156, 1, 10, 163, 1, 10, 164, 1, 10, 158, 2, 10, 171, 1, 10, 180, 1, 10, 1, 2, 10, 2, 2, 10, 3, 2, 10, 7, 2, 10, 8, 2, 10, 26, 2, 10, 27, 2, 10, 28, 2, 10, 29, 2, 10, 157, 2, 10, 35, 2, 10, 36, 2, 10, 37, 2, 10, 121, 2, 10, 137, 2, 10, 139, 2, 10, 140, 2, 9, 181, 9, 182, 9, 183, 9, 205, 10, 131, 1, 10, 148, 1, 10, 33, 2, 10, 38, 2, 10, 39, 2, 10, 42, 2, 129, 6, 149, 6, 129, 1, 192, 5, 1, 9, 128, 161, 1, 133, 2, 25, 129, 41, 131, 37, 1, 117, 1, 149, 3, 129, 6, 149, 5, 129, 1, 192])]"
      ]
     },
     "execution_count": 18,
     "metadata": {},
     "output_type": "execute_result"
    }
   ],
   "source": [
    "report_descriptors = device.report_descriptors \n",
    "report_descriptors"
   ]
  },
  {
   "cell_type": "markdown",
   "metadata": {},
   "source": [
    "## Report Descriptor 範本"
   ]
  },
  {
   "cell_type": "markdown",
   "metadata": {},
   "source": [
    "```\n",
    "\n",
    "###### HID ######\n",
    "\n",
    "HID Descriptor\n",
    "Usage Page: 12 (Consumer)\n",
    "Usage: 1 (Consumer Control)\n",
    "\n",
    "Collection \n",
    "\n",
    "Logical Minimum: 0\n",
    "Logical Maximum: 1\n",
    "\n",
    "Usage: 233 (Volume Increment)\n",
    "Usage: 234 (Volume Decrement)\n",
    "Report Size: 1\n",
    "Report Count: 2\n",
    "Input: 2 (Data,Variable,Absolute,No Wrap,Linear,Preferred State,No Null Position)\n",
    "\n",
    "Usage: 226 (Mute)\n",
    "Usage: 205 (Play/Pause)\n",
    "Usage: 181 (Scan Next Track)\n",
    "Usage: 182 (Scan Previous Track)\n",
    "Usage: 140 (Media Select Telephone)\n",
    "Report Count: 5\n",
    "Input: 6 (Data,Variable,Relative,No Wrap,Linear,Preferred State,No Null Position)\n",
    "\n",
    "Usage: 0 (Unassigned)\n",
    "Report Count: 1\n",
    "Input: 2 (Data,Variable,Absolute,No Wrap,Linear,Preferred State,No Null Position)\n",
    "\n",
    "End Collection \n",
    "```"
   ]
  },
  {
   "cell_type": "code",
   "execution_count": 19,
   "metadata": {},
   "outputs": [
    {
     "data": {
      "text/plain": [
       "array('B', [5, 12, 9, 1, 161, 1, 21, 0, 37, 1, 9, 233, 9, 234, 117, 1, 149, 2, 129, 2, 9, 226, 9, 205, 9, 181, 9, 182, 9, 140, 149, 5, 129, 6, 9, 0, 149, 1, 129, 2, 192])"
      ]
     },
     "execution_count": 19,
     "metadata": {},
     "output_type": "execute_result"
    }
   ],
   "source": [
    "from usb_hid.orm.hid111.reports import ReportDescriptor\n",
    "from usb_hid.orm.hid111.items import Item\n",
    "\n",
    "\n",
    "items = []\n",
    "items.append(Item(PREFIX_TYPES.Usage_Page, USAGES.usage_pages.Consumer.code))   # Usage Page: 12 (Consumer)\n",
    "items.append(Item(PREFIX_TYPES.Usage, USAGES.consumer.Consumer_Control.usage_id))  # Usage: 1 (Consumer Control)\n",
    "items.append(Item(PREFIX_TYPES.Collection, COLLECTION_TYPES.Application))  # Collection\n",
    "items.append(Item(PREFIX_TYPES.Logical_Minimum, 0))  # Logical Minimum: 0\n",
    "items.append(Item(PREFIX_TYPES.Logical_Maximum, 1))  # Logical Maximum: 1\n",
    "items.append(Item(PREFIX_TYPES.Usage, USAGES.consumer.Volume_Increment.usage_id))  # Usage: 233 (Volume Increment)\n",
    "items.append(Item(PREFIX_TYPES.Usage, USAGES.consumer.Volume_Decrement.usage_id))  #  Usage: 234 (Volume Decrement)\n",
    "items.append(Item(PREFIX_TYPES.Report_Size, 1))  #  Report Size: 1\n",
    "items.append(Item(PREFIX_TYPES.Report_Count, 2))  #  Report Count: 2\n",
    "items.append(Item(PREFIX_TYPES.Input, 2))  #  Input: 2 (Data,Variable,Absolute,No Wrap,Linear,Preferred State,No Null Position)\n",
    "items.append(Item(PREFIX_TYPES.Usage, USAGES.consumer.Mute.usage_id))  #  Usage: 226 (Mute)\n",
    "items.append(Item(PREFIX_TYPES.Usage, USAGES.consumer.Play_Pause.usage_id))  #  Usage: 205 (Play/Pause)\n",
    "items.append(Item(PREFIX_TYPES.Usage, USAGES.consumer.Scan_Next_Track.usage_id))  #  Usage: 181 (Scan Next Track)\n",
    "items.append(Item(PREFIX_TYPES.Usage, USAGES.consumer.Scan_Previous_Track.usage_id))  #  Usage: 182 (Scan Previous Track)\n",
    "items.append(Item(PREFIX_TYPES.Usage, USAGES.consumer.Media_Select_Telephone.usage_id))  #  Usage: 140 (Media Select Telephone) \n",
    "items.append(Item(PREFIX_TYPES.Report_Count, 5))  #  Report Count: 5\n",
    "items.append(Item(PREFIX_TYPES.Input, 6))  #  Input: 6 (Data,Variable,Relative,No Wrap,Linear,Preferred State,No Null Position)\n",
    "items.append(Item(PREFIX_TYPES.Usage, USAGES.consumer.Unassigned.usage_id))  #  Usage: 0 (Unassigned)\n",
    "items.append(Item(PREFIX_TYPES.Report_Count, 1))  #  Report Count: 1\n",
    "items.append(Item(PREFIX_TYPES.Input, 2))  #  Input: 2 (Data,Variable,Absolute,No Wrap,Linear,Preferred State,No Null Position)\n",
    "items.append(Item(PREFIX_TYPES.End_Collection))  # End Collection \n",
    "\n",
    "rpt_dscpt = ReportDescriptor(items)\n",
    "rpt_dscpt.byte_array"
   ]
  },
  {
   "cell_type": "code",
   "execution_count": 20,
   "metadata": {
    "scrolled": false
   },
   "outputs": [
    {
     "data": {
      "text/plain": [
       "[array('B', [5, 1, 9, 6, 161, 1, 5, 7, 25, 224, 41, 231, 21, 0, 37, 1, 117, 1, 149, 8, 129, 2, 149, 1, 117, 8, 129, 1, 149, 3, 117, 1, 5, 8, 25, 1, 41, 3, 145, 2, 149, 5, 117, 1, 145, 1, 149, 6, 117, 8, 38, 255, 0, 5, 7, 25, 0, 41, 145, 129, 0, 192]),\n",
       " array('B', [5, 12, 9, 1, 161, 1, 133, 1, 21, 0, 37, 1, 117, 1, 149, 42, 9, 149, 9, 226, 9, 234, 9, 233, 10, 132, 1, 10, 134, 1, 10, 138, 1, 10, 142, 1, 10, 146, 1, 10, 156, 1, 10, 163, 1, 10, 164, 1, 10, 158, 2, 10, 171, 1, 10, 180, 1, 10, 1, 2, 10, 2, 2, 10, 3, 2, 10, 7, 2, 10, 8, 2, 10, 26, 2, 10, 27, 2, 10, 28, 2, 10, 29, 2, 10, 157, 2, 10, 35, 2, 10, 36, 2, 10, 37, 2, 10, 121, 2, 10, 137, 2, 10, 139, 2, 10, 140, 2, 9, 181, 9, 182, 9, 183, 9, 205, 10, 131, 1, 10, 148, 1, 10, 33, 2, 10, 38, 2, 10, 39, 2, 10, 42, 2, 129, 6, 149, 6, 129, 1, 192, 5, 1, 9, 128, 161, 1, 133, 2, 25, 129, 41, 131, 37, 1, 117, 1, 149, 3, 129, 6, 149, 5, 129, 1, 192])]"
      ]
     },
     "execution_count": 20,
     "metadata": {},
     "output_type": "execute_result"
    }
   ],
   "source": [
    "report_descriptors = device.report_descriptors\n",
    "report_descriptors"
   ]
  },
  {
   "cell_type": "markdown",
   "metadata": {},
   "source": [
    "## 各種 codes"
   ]
  },
  {
   "cell_type": "code",
   "execution_count": 21,
   "metadata": {},
   "outputs": [
    {
     "data": {
      "text/plain": [
       "{('08', '00'): 'Input',\n",
       " ('09', '00'): 'Output',\n",
       " ('0B', '00'): 'Feature',\n",
       " ('0A', '00'): 'Collection',\n",
       " ('0C', '00'): 'End_Collection',\n",
       " ('00', '01'): 'Usage_Page',\n",
       " ('01', '01'): 'Logical_Minimum',\n",
       " ('02', '01'): 'Logical_Maximum',\n",
       " ('03', '01'): 'Physical_Minimum',\n",
       " ('04', '01'): 'Physical_Maximum',\n",
       " ('05', '01'): 'Unit_Exponent',\n",
       " ('06', '01'): 'Unit',\n",
       " ('07', '01'): 'Report_Size',\n",
       " ('08', '01'): 'Report_ID',\n",
       " ('09', '01'): 'Report_Count',\n",
       " ('0A', '01'): 'Push',\n",
       " ('0B', '01'): 'Pop',\n",
       " ('00', '02'): 'Usage',\n",
       " ('01', '02'): 'Usage_Minimum',\n",
       " ('02', '02'): 'Usage_Maximum',\n",
       " ('03', '02'): 'Designator_Index',\n",
       " ('04', '02'): 'Designator_Minimum',\n",
       " ('05', '02'): 'Designator_Maximum',\n",
       " ('07', '02'): 'String_Index',\n",
       " ('08', '02'): 'String_Minimum',\n",
       " ('09', '02'): 'String_Maximum',\n",
       " ('0A', '02'): 'Delimiter'}"
      ]
     },
     "execution_count": 21,
     "metadata": {},
     "output_type": "execute_result"
    }
   ],
   "source": [
    "TAG_TYPE_PREFIX_TYPES"
   ]
  },
  {
   "cell_type": "code",
   "execution_count": 22,
   "metadata": {},
   "outputs": [],
   "source": [
    "from usb_hid.orm.hid111.reports import *"
   ]
  },
  {
   "cell_type": "code",
   "execution_count": 23,
   "metadata": {},
   "outputs": [
    {
     "data": {
      "text/plain": [
       "{'00': 'Undefined',\n",
       " '01': 'Generic Desktop',\n",
       " '02': 'Simulation Controls',\n",
       " '03': 'VR Controls',\n",
       " '04': 'Sport Controls',\n",
       " '05': 'Game Controls',\n",
       " '06': 'Generic Device Controls',\n",
       " '07': 'Keyboard/Keypad',\n",
       " '08': 'LEDs',\n",
       " '09': 'Button',\n",
       " '0A': 'Ordinal',\n",
       " '0B': 'Telephony',\n",
       " '0C': 'Consumer',\n",
       " '0D': 'Digitizer',\n",
       " '0F': 'PID',\n",
       " '10': 'Unicode',\n",
       " '14': 'Alphanumeric Display',\n",
       " '40': 'Medical Instruments',\n",
       " '8C': 'Bar Code Scanner',\n",
       " '8D': 'Scale',\n",
       " '8E': 'Magnetic Stripe Reading (MSR) Devices',\n",
       " '8F': 'Reserved Point of Sales',\n",
       " '90': 'Camera Control',\n",
       " '91': 'Arcade'}"
      ]
     },
     "execution_count": 23,
     "metadata": {},
     "output_type": "execute_result"
    }
   ],
   "source": [
    "USAGES_PAGES"
   ]
  },
  {
   "cell_type": "code",
   "execution_count": 24,
   "metadata": {},
   "outputs": [
    {
     "data": {
      "text/plain": [
       "{0: {0: 'Data', 1: 'Constant'},\n",
       " 1: {0: 'Array', 1: 'Variable'},\n",
       " 2: {0: 'Absolute', 1: 'Relative'},\n",
       " 3: {0: 'No Wrap', 1: 'Wrap'},\n",
       " 4: {0: 'Linear', 1: 'Non Linear'},\n",
       " 5: {0: 'Preferred State', 1: 'No Preferred'},\n",
       " 6: {0: 'No Null position', 1: 'Null state'},\n",
       " 7: {0: 'Non Volatile', 1: 'Volatile'},\n",
       " 8: {0: 'Bit Field', 1: 'Buffered Bytes'}}"
      ]
     },
     "execution_count": 24,
     "metadata": {},
     "output_type": "execute_result"
    }
   ],
   "source": [
    "DATA_TYPE_BIT_MAP"
   ]
  },
  {
   "cell_type": "code",
   "execution_count": 25,
   "metadata": {
    "scrolled": false
   },
   "outputs": [],
   "source": [
    "# parser = Parser()\n",
    "\n",
    "# for report_descriptor in  device.report_descriptors:\n",
    "#     lines, report_descriptor_obj = parser.parse(report_descriptor, print_out = True)"
   ]
  },
  {
   "cell_type": "code",
   "execution_count": 26,
   "metadata": {
    "scrolled": false
   },
   "outputs": [
    {
     "name": "stdout",
     "output_type": "stream",
     "text": [
      "\n",
      "###################################################\n",
      "array('B', [5, 1, 9, 6, 161, 1, 5, 7, 25, 224, 41, 231, 21, 0, 37, 1, 117, 1, 149, 8, 129, 2, 149, 1, 117, 8, 129, 1, 149, 3, 117, 1, 5, 8, 25, 1, 41, 3, 145, 2, 149, 5, 117, 1, 145, 1, 149, 6, 117, 8, 38, 255, 0, 5, 7, 25, 0, 41, 145, 129, 0, 192])\n",
      "###################################################\n",
      "\n",
      " Usage_Page 1 (Generic Desktop)\n",
      " Usage 6 (Keyboard)\n",
      " Collection 1 (Application)\n",
      "\n",
      "   Usage_Page 7 (Keyboard/Keypad)\n",
      "   Usage_Minimum 224 \n",
      "   Usage_Maximum 231 \n",
      "   Logical_Minimum 0 \n",
      "   Logical_Maximum 1 \n",
      "   Report_Size 1 \n",
      "   Report_Count 8 \n",
      "   Input 2 (Data | Variable | Absolute | No Wrap | Linear | Preferred State | No Null position | Non Volatile | Bit Field)\n",
      "   Report_Count 1 \n",
      "   Report_Size 8 \n",
      "   Input 1 (Constant | Array | Absolute | No Wrap | Linear | Preferred State | No Null position | Non Volatile | Bit Field)\n",
      "   Report_Count 3 \n",
      "   Report_Size 1 \n",
      "\n",
      "   Usage_Page 8 (LEDs)\n",
      "   Usage_Minimum 1 \n",
      "   Usage_Maximum 3 \n",
      "   Output 2 (Data | Variable | Absolute | No Wrap | Linear | Preferred State | No Null position | Non Volatile | Bit Field)\n",
      "   Report_Count 5 \n",
      "   Report_Size 1 \n",
      "   Output 1 (Constant | Array | Absolute | No Wrap | Linear | Preferred State | No Null position | Non Volatile | Bit Field)\n",
      "   Report_Count 6 \n",
      "   Report_Size 8 \n",
      "   Logical_Maximum 255 \n",
      "\n",
      "   Usage_Page 7 (Keyboard/Keypad)\n",
      "   Usage_Minimum 0 \n",
      "   Usage_Maximum 145 \n",
      "   Input 0 (Data | Array | Absolute | No Wrap | Linear | Preferred State | No Null position | Non Volatile | Bit Field)\n",
      " End_Collection  \n",
      "\n",
      "\n",
      "###################################################\n",
      "array('B', [5, 12, 9, 1, 161, 1, 133, 1, 21, 0, 37, 1, 117, 1, 149, 42, 9, 149, 9, 226, 9, 234, 9, 233, 10, 132, 1, 10, 134, 1, 10, 138, 1, 10, 142, 1, 10, 146, 1, 10, 156, 1, 10, 163, 1, 10, 164, 1, 10, 158, 2, 10, 171, 1, 10, 180, 1, 10, 1, 2, 10, 2, 2, 10, 3, 2, 10, 7, 2, 10, 8, 2, 10, 26, 2, 10, 27, 2, 10, 28, 2, 10, 29, 2, 10, 157, 2, 10, 35, 2, 10, 36, 2, 10, 37, 2, 10, 121, 2, 10, 137, 2, 10, 139, 2, 10, 140, 2, 9, 181, 9, 182, 9, 183, 9, 205, 10, 131, 1, 10, 148, 1, 10, 33, 2, 10, 38, 2, 10, 39, 2, 10, 42, 2, 129, 6, 149, 6, 129, 1, 192, 5, 1, 9, 128, 161, 1, 133, 2, 25, 129, 41, 131, 37, 1, 117, 1, 149, 3, 129, 6, 149, 5, 129, 1, 192])\n",
      "###################################################\n",
      "\n",
      " Usage_Page 12 (Consumer)\n",
      " Usage 1 (Consumer_Control)\n",
      " Collection 1 (Application)\n",
      "   Report_ID 1 \n",
      "   Logical_Minimum 0 \n",
      "   Logical_Maximum 1 \n",
      "   Report_Size 1 \n",
      "   Report_Count 42 \n",
      "   Usage 149 (Help)\n",
      "   Usage 226 (Mute)\n",
      "   Usage 234 (Volume_Decrement)\n",
      "   Usage 233 (Volume_Increment)\n",
      "   Usage 388 (AL_Word_Processor)\n",
      "   Usage 390 (AL_Spreadsheet)\n",
      "   Usage 394 (AL_Email_Reader)\n",
      "   Usage 398 (AL_Calendar_Schedule)\n",
      "   Usage 402 (AL_Calculator)\n",
      "   Usage 412 (AL_Logoff)\n",
      "   Usage 419 (AL_Next_Task_Application)\n",
      "   Usage 420 (AL_Previous_Task_Application)\n",
      "   Usage 670 \n",
      "   Usage 427 (AL_Spell_Check)\n",
      "   Usage 436 (AL_File_Browser)\n",
      "   Usage 513 (AC_New)\n",
      "   Usage 514 (AC_Open)\n",
      "   Usage 515 (AC_Close)\n",
      "   Usage 519 (AC_Save)\n",
      "   Usage 520 (AC_Print)\n",
      "   Usage 538 (AC_Undo)\n",
      "   Usage 539 (AC_Copy)\n",
      "   Usage 540 (AC_Cut)\n",
      "   Usage 541 (AC_Paste)\n",
      "   Usage 669 \n",
      "   Usage 547 (AC_Home)\n",
      "   Usage 548 (AC_Back)\n",
      "   Usage 549 (AC_Forward)\n",
      "   Usage 633 (AC_Redo_Repeat)\n",
      "   Usage 649 (AC_Reply)\n",
      "   Usage 651 (AC_Forward_Msg)\n",
      "   Usage 652 (AC_Send)\n",
      "   Usage 181 (Scan_Next_Track)\n",
      "   Usage 182 (Scan_Previous_Track)\n",
      "   Usage 183 (Stop)\n",
      "   Usage 205 (Play_Pause)\n",
      "   Usage 387 (AL_Consumer_Control_Configuration)\n",
      "   Usage 404 (AL_Local_Machine_Browser)\n",
      "   Usage 545 (AC_Search)\n",
      "   Usage 550 (AC_Stop)\n",
      "   Usage 551 (AC_Refresh)\n",
      "   Usage 554 (AC_Bookmarks)\n",
      "   Input 6 (Data | Variable | Relative | No Wrap | Linear | Preferred State | No Null position | Non Volatile | Bit Field)\n",
      "   Report_Count 6 \n",
      "   Input 1 (Constant | Array | Absolute | No Wrap | Linear | Preferred State | No Null position | Non Volatile | Bit Field)\n",
      " End_Collection  \n",
      "\n",
      " Usage_Page 1 (Generic Desktop)\n",
      " Usage 128 (System_Control)\n",
      " Collection 1 (Application)\n",
      "   Report_ID 2 \n",
      "   Usage_Minimum 129 \n",
      "   Usage_Maximum 131 \n",
      "   Logical_Maximum 1 \n",
      "   Report_Size 1 \n",
      "   Report_Count 3 \n",
      "   Input 6 (Data | Variable | Relative | No Wrap | Linear | Preferred State | No Null position | Non Volatile | Bit Field)\n",
      "   Report_Count 5 \n",
      "   Input 1 (Constant | Array | Absolute | No Wrap | Linear | Preferred State | No Null position | Non Volatile | Bit Field)\n",
      " End_Collection  \n",
      "\n"
     ]
    }
   ],
   "source": [
    "for i in range(len(device.report_descriptor_dbos)):\n",
    "    device.report_descriptor_dbos[i].parse(print_out = True, save_as_file = True, \n",
    "                                           fn = '{} {} {}{}'.format(device.manufacturer_product,'HID_report_descriptor', i, '.txt'))\n",
    "    \n",
    "    device.report_descriptor_dbos[i].dump(fn = '{} {} {}{}'.format(device.manufacturer_product, 'HID_report_descriptor', i, '.json'))"
   ]
  },
  {
   "cell_type": "code",
   "execution_count": 27,
   "metadata": {
    "scrolled": false
   },
   "outputs": [
    {
     "name": "stdout",
     "output_type": "stream",
     "text": [
      "\n",
      "###################################################\n",
      "array('B', [5, 1, 9, 6, 161, 1, 5, 7, 25, 224, 41, 231, 21, 0, 37, 1, 117, 1, 149, 8, 129, 2, 149, 1, 117, 8, 129, 1, 149, 3, 117, 1, 5, 8, 25, 1, 41, 3, 145, 2, 149, 5, 117, 1, 145, 1, 149, 6, 117, 8, 38, 255, 0, 5, 7, 25, 0, 41, 145, 129, 0, 192])\n",
      "###################################################\n",
      "\n",
      " Usage_Page 1 (Generic Desktop)\n",
      " Usage 6 (Keyboard)\n",
      " Collection 1 (Application)\n",
      "\n",
      "   Usage_Page 7 (Keyboard/Keypad)\n",
      "   Usage_Minimum 224 \n",
      "   Usage_Maximum 231 \n",
      "   Logical_Minimum 0 \n",
      "   Logical_Maximum 1 \n",
      "   Report_Size 1 \n",
      "   Report_Count 8 \n",
      "   Input 2 (Data | Variable | Absolute | No Wrap | Linear | Preferred State | No Null position | Non Volatile | Bit Field)\n",
      "   Report_Count 1 \n",
      "   Report_Size 8 \n",
      "   Input 1 (Constant | Array | Absolute | No Wrap | Linear | Preferred State | No Null position | Non Volatile | Bit Field)\n",
      "   Report_Count 3 \n",
      "   Report_Size 1 \n",
      "\n",
      "   Usage_Page 8 (LEDs)\n",
      "   Usage_Minimum 1 \n",
      "   Usage_Maximum 3 \n",
      "   Output 2 (Data | Variable | Absolute | No Wrap | Linear | Preferred State | No Null position | Non Volatile | Bit Field)\n",
      "   Report_Count 5 \n",
      "   Report_Size 1 \n",
      "   Output 1 (Constant | Array | Absolute | No Wrap | Linear | Preferred State | No Null position | Non Volatile | Bit Field)\n",
      "   Report_Count 6 \n",
      "   Report_Size 8 \n",
      "   Logical_Maximum 255 \n",
      "\n",
      "   Usage_Page 7 (Keyboard/Keypad)\n",
      "   Usage_Minimum 0 \n",
      "   Usage_Maximum 145 \n",
      "   Input 0 (Data | Array | Absolute | No Wrap | Linear | Preferred State | No Null position | Non Volatile | Bit Field)\n",
      " End_Collection  \n",
      "\n"
     ]
    }
   ],
   "source": [
    "fn = '{} {} {}{}'.format(device.manufacturer_product, 'HID_report_descriptor', 0, '.json')\n",
    "\n",
    "rd = ReportDescriptor.load(fn)\n",
    "print(rd.parse())"
   ]
  },
  {
   "cell_type": "code",
   "execution_count": 28,
   "metadata": {},
   "outputs": [],
   "source": [
    "device.reset()"
   ]
  }
 ],
 "metadata": {
  "kernelspec": {
   "display_name": "Python 3",
   "language": "python",
   "name": "python3"
  },
  "language_info": {
   "codemirror_mode": {
    "name": "ipython",
    "version": 3
   },
   "file_extension": ".py",
   "mimetype": "text/x-python",
   "name": "python",
   "nbconvert_exporter": "python",
   "pygments_lexer": "ipython3",
   "version": "3.6.8"
  }
 },
 "nbformat": 4,
 "nbformat_minor": 2
}
