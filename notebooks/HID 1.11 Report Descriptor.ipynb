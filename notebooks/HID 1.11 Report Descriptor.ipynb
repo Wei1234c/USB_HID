{
 "cells": [
  {
   "cell_type": "markdown",
   "metadata": {},
   "source": [
    "# HID 1.11 Report Descriptor"
   ]
  },
  {
   "cell_type": "markdown",
   "metadata": {},
   "source": [
    "### 需安裝\n",
    "\n",
    "```\n",
    "pip install pyusb\n",
    "\n",
    "```\n",
    "\n",
    "### Windows DLL\n",
    "[libusb-win32-devel-filter-1.2.6.0.exe](https://sourceforge.net/projects/libusb-win32/files/libusb-win32-releases/1.2.6.0/)  \n",
    "\n",
    "https://sourceforge.net/projects/libusb-win32/  \n",
    "\n",
    "\n",
    "\n",
    "### Linux 權限\n",
    "https://ubuntuforums.org/showthread.php?t=1682084  \n",
    "https://linuxconfig.org/tutorial-on-how-to-write-basic-udev-rules-in-linux  \n",
    "```\n",
    "If anyone is interested.. fixed with udev rule:\n",
    "\n",
    "cd /etc/udev/rules.d/\n",
    "\n",
    "nano 70-ch341.rules\n",
    "\n",
    "SUBSYSTEM==\"usb\", ATTRS{idVendor}==\"1a86\", GROUP=\"dialout\"\n",
    "SUBSYSTEM==\"usb\", ATTRS{idVendor}==\"1a86\", MODE=\"666\"\n",
    "\n",
    "then reloaded udev rules:\n",
    "\n",
    "$ sudo udevadm control --reload-rules  \n",
    "$ sudo udevadm trigger\n",
    "\n",
    "```"
   ]
  },
  {
   "cell_type": "code",
   "execution_count": 1,
   "metadata": {},
   "outputs": [
    {
     "name": "stdout",
     "output_type": "stream",
     "text": [
      "Populating the interactive namespace from numpy and matplotlib\n"
     ]
    }
   ],
   "source": [
    "%pylab inline  "
   ]
  },
  {
   "cell_type": "code",
   "execution_count": 2,
   "metadata": {},
   "outputs": [],
   "source": [
    "import os\n",
    "import sys\n",
    "sys.path.append(os.path.abspath(os.path.join('..', 'codes')))\n",
    "\n",
    "path = os.sep.join(['..', '..', '..', '..', '..', '待處理', 'ORM', 'bitbucket', 'github', 'codes'])\n",
    "sys.path.append(path) \n",
    "\n",
    "path = os.sep.join(['..', '..', '..', '..', '..', '待處理', 'Universal Serial Bus', 'bitbucket', 'github', 'codes'])\n",
    "sys.path.append(path) \n",
    "\n",
    "from orm.alchemy import * "
   ]
  },
  {
   "cell_type": "markdown",
   "metadata": {},
   "source": [
    "## Prefix"
   ]
  },
  {
   "cell_type": "code",
   "execution_count": 3,
   "metadata": {},
   "outputs": [
    {
     "data": {
      "text/plain": [
       "{'id': 1, 'item_name': 'Input', 'bType': '00', 'bTag': '08'}"
      ]
     },
     "execution_count": 3,
     "metadata": {},
     "output_type": "execute_result"
    }
   ],
   "source": [
    "from usb_hid.orm.hid111.items import *\n",
    "\n",
    "PREFIX_TYPES.Input"
   ]
  },
  {
   "cell_type": "markdown",
   "metadata": {},
   "source": [
    "## Usages"
   ]
  },
  {
   "cell_type": "code",
   "execution_count": 4,
   "metadata": {},
   "outputs": [
    {
     "data": {
      "text/plain": [
       "'0C'"
      ]
     },
     "execution_count": 4,
     "metadata": {},
     "output_type": "execute_result"
    }
   ],
   "source": [
    "from usb_hid.orm.hid111.usages.dictionary import USAGES\n",
    "\n",
    "USAGES.usage_pages.Consumer.code"
   ]
  },
  {
   "cell_type": "code",
   "execution_count": 5,
   "metadata": {},
   "outputs": [
    {
     "data": {
      "text/plain": [
       "'E9'"
      ]
     },
     "execution_count": 5,
     "metadata": {},
     "output_type": "execute_result"
    }
   ],
   "source": [
    "USAGES.consumer.Volume_Increment.usage_id"
   ]
  },
  {
   "cell_type": "markdown",
   "metadata": {},
   "source": [
    "## Device"
   ]
  },
  {
   "cell_type": "code",
   "execution_count": 6,
   "metadata": {},
   "outputs": [
    {
     "data": {
      "text/plain": [
       "[('0x45e', '0x77b'), ('0x46d', '0xc52b'), ('0x1b3f', '0x2008')]"
      ]
     },
     "execution_count": 6,
     "metadata": {},
     "output_type": "execute_result"
    }
   ],
   "source": [
    "from universal_serial_bus import find_all_devices_by_class\n",
    "\n",
    "devices, devices_ids = find_all_devices_by_class(0x03)\n",
    "devices_ids = [(hex(v), hex(p)) for (v, p) in devices_ids]\n",
    "devices_ids"
   ]
  },
  {
   "cell_type": "code",
   "execution_count": 7,
   "metadata": {},
   "outputs": [],
   "source": [
    "from usb_hid.orm.hid111 import HIDdevice\n",
    " \n",
    "# device = HIDdevice(0x4d9, 0x2011) # Filco KB\n",
    "# device = HIDdevice(0x045e, 0x077b) # MS mouse \n",
    "device = HIDdevice(0x1b3f, 0x2008) # Sound Card \n",
    "  \n",
    "# print(dev)"
   ]
  },
  {
   "cell_type": "code",
   "execution_count": 8,
   "metadata": {},
   "outputs": [
    {
     "data": {
      "text/plain": [
       "2.01"
      ]
     },
     "execution_count": 8,
     "metadata": {},
     "output_type": "execute_result"
    }
   ],
   "source": [
    "device.hid_version"
   ]
  },
  {
   "cell_type": "code",
   "execution_count": 9,
   "metadata": {},
   "outputs": [
    {
     "data": {
      "text/plain": [
       "{'_finalize_called': False,\n",
       " '_finalizer': <finalize object at 0x27b8c874dd0; for 'HIDdevice' at 0x27b8d9545c0>,\n",
       " '_ctx': <usb.core._ResourceManager at 0x27b8d954898>,\n",
       " '_Device__default_timeout': 1000,\n",
       " '_serial_number': None,\n",
       " '_product': None,\n",
       " '_manufacturer': None,\n",
       " '_langids': None,\n",
       " 'bLength': 18,\n",
       " 'bDescriptorType': 1,\n",
       " 'bcdUSB': 272,\n",
       " 'bDeviceClass': 0,\n",
       " 'bDeviceSubClass': 0,\n",
       " 'bDeviceProtocol': 0,\n",
       " 'bMaxPacketSize0': 8,\n",
       " 'idVendor': 6975,\n",
       " 'idProduct': 8200,\n",
       " 'bcdDevice': 256,\n",
       " 'iManufacturer': 1,\n",
       " 'iProduct': 2,\n",
       " 'iSerialNumber': 0,\n",
       " 'bNumConfigurations': 1,\n",
       " 'address': 4,\n",
       " 'bus': 0,\n",
       " 'port_number': None,\n",
       " 'port_numbers': None,\n",
       " 'speed': None,\n",
       " 'endpoints': {5: <ENDPOINT 0x5: Isochronous OUT>,\n",
       "  134: <ENDPOINT 0x86: Isochronous IN>,\n",
       "  131: <ENDPOINT 0x83: Interrupt IN>},\n",
       " 'pipes': {'Isochronous': {'Out': [<ENDPOINT 0x5: Isochronous OUT>],\n",
       "   'In': [<ENDPOINT 0x86: Isochronous IN>]},\n",
       "  'Interrupt': {'In': [<ENDPOINT 0x83: Interrupt IN>]}}}"
      ]
     },
     "execution_count": 9,
     "metadata": {},
     "output_type": "execute_result"
    }
   ],
   "source": [
    "device.attributes"
   ]
  },
  {
   "cell_type": "code",
   "execution_count": 10,
   "metadata": {},
   "outputs": [
    {
     "name": "stdout",
     "output_type": "stream",
     "text": [
      "DEVICE ID 1b3f:2008 on Bus 000 Address 004 =================\n",
      " bLength                :   0x12 (18 bytes)\n",
      " bDescriptorType        :    0x1 Device\n",
      " bcdUSB                 :  0x110 USB 1.1\n",
      " bDeviceClass           :    0x0 Specified at interface\n",
      " bDeviceSubClass        :    0x0\n",
      " bDeviceProtocol        :    0x0\n",
      " bMaxPacketSize0        :    0x8 (8 bytes)\n",
      " idVendor               : 0x1b3f\n",
      " idProduct              : 0x2008\n",
      " bcdDevice              :  0x100 Device 1.0\n",
      " iManufacturer          :    0x1 GeneralPlus\n",
      " iProduct               :    0x2 USB Audio Device\n",
      " iSerialNumber          :    0x0 \n",
      " bNumConfigurations     :    0x1\n",
      "  CONFIGURATION 1: 100 mA ==================================\n",
      "   bLength              :    0x9 (9 bytes)\n",
      "   bDescriptorType      :    0x2 Configuration\n",
      "   wTotalLength         :   0xfd (253 bytes)\n",
      "   bNumInterfaces       :    0x4\n",
      "   bConfigurationValue  :    0x1\n",
      "   iConfiguration       :    0x0 \n",
      "   bmAttributes         :   0x80 Bus Powered\n",
      "   bMaxPower            :   0x32 (100 mA)\n",
      "    INTERFACE 0: Audio =====================================\n",
      "     bLength            :    0x9 (9 bytes)\n",
      "     bDescriptorType    :    0x4 Interface\n",
      "     bInterfaceNumber   :    0x0\n",
      "     bAlternateSetting  :    0x0\n",
      "     bNumEndpoints      :    0x0\n",
      "     bInterfaceClass    :    0x1 Audio\n",
      "     bInterfaceSubClass :    0x1\n",
      "     bInterfaceProtocol :    0x0\n",
      "     iInterface         :    0x0 \n",
      "    INTERFACE 1: Audio =====================================\n",
      "     bLength            :    0x9 (9 bytes)\n",
      "     bDescriptorType    :    0x4 Interface\n",
      "     bInterfaceNumber   :    0x1\n",
      "     bAlternateSetting  :    0x0\n",
      "     bNumEndpoints      :    0x0\n",
      "     bInterfaceClass    :    0x1 Audio\n",
      "     bInterfaceSubClass :    0x2\n",
      "     bInterfaceProtocol :    0x0\n",
      "     iInterface         :    0x0 \n",
      "    INTERFACE 1, 1: Audio ==================================\n",
      "     bLength            :    0x9 (9 bytes)\n",
      "     bDescriptorType    :    0x4 Interface\n",
      "     bInterfaceNumber   :    0x1\n",
      "     bAlternateSetting  :    0x1\n",
      "     bNumEndpoints      :    0x1\n",
      "     bInterfaceClass    :    0x1 Audio\n",
      "     bInterfaceSubClass :    0x2\n",
      "     bInterfaceProtocol :    0x0\n",
      "     iInterface         :    0x0 \n",
      "      ENDPOINT 0x5: Isochronous OUT ========================\n",
      "       bLength          :    0x9 (7 bytes)\n",
      "       bDescriptorType  :    0x5 Endpoint\n",
      "       bEndpointAddress :    0x5 OUT\n",
      "       bmAttributes     :    0x1 Isochronous\n",
      "       wMaxPacketSize   :   0xc0 (192 bytes)\n",
      "       bInterval        :    0x1\n",
      "    INTERFACE 2: Audio =====================================\n",
      "     bLength            :    0x9 (9 bytes)\n",
      "     bDescriptorType    :    0x4 Interface\n",
      "     bInterfaceNumber   :    0x2\n",
      "     bAlternateSetting  :    0x0\n",
      "     bNumEndpoints      :    0x0\n",
      "     bInterfaceClass    :    0x1 Audio\n",
      "     bInterfaceSubClass :    0x2\n",
      "     bInterfaceProtocol :    0x0\n",
      "     iInterface         :    0x0 \n",
      "    INTERFACE 2, 1: Audio ==================================\n",
      "     bLength            :    0x9 (9 bytes)\n",
      "     bDescriptorType    :    0x4 Interface\n",
      "     bInterfaceNumber   :    0x2\n",
      "     bAlternateSetting  :    0x1\n",
      "     bNumEndpoints      :    0x1\n",
      "     bInterfaceClass    :    0x1 Audio\n",
      "     bInterfaceSubClass :    0x2\n",
      "     bInterfaceProtocol :    0x0\n",
      "     iInterface         :    0x0 \n",
      "      ENDPOINT 0x86: Isochronous IN ========================\n",
      "       bLength          :    0x9 (7 bytes)\n",
      "       bDescriptorType  :    0x5 Endpoint\n",
      "       bEndpointAddress :   0x86 IN\n",
      "       bmAttributes     :    0x1 Isochronous\n",
      "       wMaxPacketSize   :   0x64 (100 bytes)\n",
      "       bInterval        :    0x1\n",
      "    INTERFACE 3: Human Interface Device ====================\n",
      "     bLength            :    0x9 (9 bytes)\n",
      "     bDescriptorType    :    0x4 Interface\n",
      "     bInterfaceNumber   :    0x3\n",
      "     bAlternateSetting  :    0x0\n",
      "     bNumEndpoints      :    0x1\n",
      "     bInterfaceClass    :    0x3 Human Interface Device\n",
      "     bInterfaceSubClass :    0x0\n",
      "     bInterfaceProtocol :    0x0\n",
      "     iInterface         :    0x0 \n",
      "      ENDPOINT 0x83: Interrupt IN ==========================\n",
      "       bLength          :    0x7 (7 bytes)\n",
      "       bDescriptorType  :    0x5 Endpoint\n",
      "       bEndpointAddress :   0x83 IN\n",
      "       bmAttributes     :    0x3 Interrupt\n",
      "       wMaxPacketSize   :    0x8 (8 bytes)\n",
      "       bInterval        :   0x20\n"
     ]
    }
   ],
   "source": [
    "print(device)"
   ]
  },
  {
   "cell_type": "code",
   "execution_count": 11,
   "metadata": {},
   "outputs": [],
   "source": [
    "# device.reset()"
   ]
  },
  {
   "cell_type": "markdown",
   "metadata": {},
   "source": [
    "## 所有的 descriptors"
   ]
  },
  {
   "cell_type": "code",
   "execution_count": 12,
   "metadata": {},
   "outputs": [
    {
     "data": {
      "text/plain": [
       "[array('B', [18, 1, 16, 1, 0, 0, 0, 8, 63, 27, 8, 32, 0, 1, 1, 2, 0, 1]),\n",
       " array('B', [9, 2, 253, 0, 4, 1, 0, 128, 50]),\n",
       " array('B', [9, 4, 0, 0, 0, 1, 1, 0, 0]),\n",
       " array('B', [10, 36, 1, 0, 1, 100, 0, 2, 1, 2]),\n",
       " array('B', [12, 36, 2, 1, 1, 1, 0, 2, 3, 0, 0, 0]),\n",
       " array('B', [12, 36, 2, 4, 1, 2, 0, 1, 1, 0, 0, 0]),\n",
       " array('B', [9, 36, 3, 3, 1, 3, 0, 6, 0]),\n",
       " array('B', [9, 36, 3, 2, 1, 1, 0, 9, 0]),\n",
       " array('B', [7, 36, 5, 9, 1, 5, 0]),\n",
       " array('B', [10, 36, 6, 6, 8, 1, 1, 2, 2, 0]),\n",
       " array('B', [9, 36, 6, 5, 4, 1, 67, 0, 0]),\n",
       " array('B', [9, 36, 6, 7, 4, 1, 3, 0, 0]),\n",
       " array('B', [13, 36, 4, 8, 2, 1, 7, 2, 3, 0, 0, 0, 0]),\n",
       " array('B', [9, 4, 1, 0, 0, 1, 2, 0, 0]),\n",
       " array('B', [9, 4, 1, 1, 1, 1, 2, 0, 0]),\n",
       " array('B', [7, 36, 1, 1, 1, 1, 0]),\n",
       " array('B', [14, 36, 2, 1, 2, 2, 16, 2, 68, 172, 0, 128, 187, 0]),\n",
       " array('B', [9, 5, 5, 1, 192, 0, 1, 0, 0]),\n",
       " array('B', [7, 37, 1, 1, 0, 0, 0]),\n",
       " array('B', [9, 4, 2, 0, 0, 1, 2, 0, 0]),\n",
       " array('B', [9, 4, 2, 1, 1, 1, 2, 0, 0]),\n",
       " array('B', [7, 36, 1, 2, 1, 1, 0]),\n",
       " array('B', [14, 36, 2, 1, 1, 2, 16, 2, 68, 172, 0, 128, 187, 0]),\n",
       " array('B', [9, 5, 134, 1, 100, 0, 1, 0, 0]),\n",
       " array('B', [7, 37, 1, 1, 0, 0, 0]),\n",
       " array('B', [9, 4, 3, 0, 1, 3, 0, 0, 0]),\n",
       " array('B', [9, 33, 1, 2, 0, 1, 34, 41, 0]),\n",
       " array('B', [7, 5, 131, 3, 8, 0, 32])]"
      ]
     },
     "execution_count": 12,
     "metadata": {},
     "output_type": "execute_result"
    }
   ],
   "source": [
    "descriptors = device.descriptors\n",
    "descriptors"
   ]
  },
  {
   "cell_type": "code",
   "execution_count": 13,
   "metadata": {},
   "outputs": [
    {
     "data": {
      "text/plain": [
       "array('B', [5, 12, 9, 1, 161, 1, 21, 0, 37, 1, 9, 233, 9, 234, 117, 1, 149, 2, 129, 2, 9, 226, 9, 205, 9, 181, 9, 182, 9, 140, 149, 5, 129, 6, 9, 0, 149, 1, 129, 2, 192])"
      ]
     },
     "execution_count": 13,
     "metadata": {},
     "output_type": "execute_result"
    }
   ],
   "source": [
    "device.get_class_descriptor(descriptor_type = HIDdevice.REPORT_DESCRIPTOR_TYPE_CODE,\n",
    "                            interface_idx = 0)"
   ]
  },
  {
   "cell_type": "code",
   "execution_count": 14,
   "metadata": {},
   "outputs": [
    {
     "data": {
      "text/plain": [
       "{5: <ENDPOINT 0x5: Isochronous OUT>,\n",
       " 134: <ENDPOINT 0x86: Isochronous IN>,\n",
       " 131: <ENDPOINT 0x83: Interrupt IN>}"
      ]
     },
     "execution_count": 14,
     "metadata": {},
     "output_type": "execute_result"
    }
   ],
   "source": [
    "device.endpoints"
   ]
  },
  {
   "cell_type": "code",
   "execution_count": 15,
   "metadata": {},
   "outputs": [],
   "source": [
    "# device.get_class_descriptor(descriptor_type = HIDdevice.REPORT_DESCRIPTOR_TYPE_CODE,\n",
    "#                             interface_idx = 1)"
   ]
  },
  {
   "cell_type": "code",
   "execution_count": 16,
   "metadata": {},
   "outputs": [],
   "source": [
    "# device.device_descriptor_dbo.__dict__"
   ]
  },
  {
   "cell_type": "code",
   "execution_count": 17,
   "metadata": {},
   "outputs": [],
   "source": [
    "# device.configuration_descriptor_dbo.__dict__"
   ]
  },
  {
   "cell_type": "code",
   "execution_count": 18,
   "metadata": {
    "scrolled": true
   },
   "outputs": [
    {
     "data": {
      "text/plain": [
       "[<universal_serial_bus.orm.usb20.descriptors.StandardDeviceDescriptor at 0x27b8d9f78d0>,\n",
       " <universal_serial_bus.orm.usb20.descriptors.StandardConfigurationDescriptor at 0x27b8da09048>,\n",
       " <universal_serial_bus.orm.usb20.descriptors.StandardInterfaceDescriptor at 0x27b8da092e8>,\n",
       " <universal_serial_bus.orm.usb20.descriptors.StandardInterfaceDescriptor at 0x27b8da09518>,\n",
       " <universal_serial_bus.orm.usb20.descriptors.StandardInterfaceDescriptor at 0x27b8da09748>,\n",
       " <universal_serial_bus.orm.usb20.descriptors.StandardEndpointDescriptor at 0x27b8da098d0>,\n",
       " <universal_serial_bus.orm.usb20.descriptors.StandardInterfaceDescriptor at 0x27b8da09b00>,\n",
       " <universal_serial_bus.orm.usb20.descriptors.StandardInterfaceDescriptor at 0x27b8da09d30>,\n",
       " <universal_serial_bus.orm.usb20.descriptors.StandardEndpointDescriptor at 0x27b8da09eb8>,\n",
       " <universal_serial_bus.orm.usb20.descriptors.StandardInterfaceDescriptor at 0x27b8da13128>,\n",
       " <usb_hid.orm.hid111.descriptors.HidDescriptor at 0x27b8da132e8>,\n",
       " <universal_serial_bus.orm.usb20.descriptors.StandardEndpointDescriptor at 0x27b8da13470>]"
      ]
     },
     "execution_count": 18,
     "metadata": {},
     "output_type": "execute_result"
    }
   ],
   "source": [
    "descriptors_dbos = device.descriptors_dbos\n",
    "descriptors_dbos"
   ]
  },
  {
   "cell_type": "code",
   "execution_count": 19,
   "metadata": {},
   "outputs": [],
   "source": [
    "fn = 'descriptors.json'\n",
    "device.dump_descriptors(fn)"
   ]
  },
  {
   "cell_type": "code",
   "execution_count": 20,
   "metadata": {},
   "outputs": [
    {
     "data": {
      "text/plain": [
       "[<universal_serial_bus.orm.usb20.descriptors.StandardDeviceDescriptor at 0x27b8da13978>,\n",
       " <universal_serial_bus.orm.usb20.descriptors.StandardConfigurationDescriptor at 0x27b8da13b70>,\n",
       " <universal_serial_bus.orm.usb20.descriptors.StandardInterfaceDescriptor at 0x27b8da13da0>,\n",
       " <universal_serial_bus.orm.usb20.descriptors.StandardInterfaceDescriptor at 0x27b8da13fd0>,\n",
       " <universal_serial_bus.orm.usb20.descriptors.StandardInterfaceDescriptor at 0x27b8da15240>,\n",
       " <universal_serial_bus.orm.usb20.descriptors.StandardEndpointDescriptor at 0x27b8da153c8>,\n",
       " <universal_serial_bus.orm.usb20.descriptors.StandardInterfaceDescriptor at 0x27b8da155f8>,\n",
       " <universal_serial_bus.orm.usb20.descriptors.StandardInterfaceDescriptor at 0x27b8da15828>,\n",
       " <universal_serial_bus.orm.usb20.descriptors.StandardEndpointDescriptor at 0x27b8da159b0>,\n",
       " <universal_serial_bus.orm.usb20.descriptors.StandardInterfaceDescriptor at 0x27b8da15be0>,\n",
       " <usb_hid.orm.hid111.descriptors.HidDescriptor at 0x27b8da15da0>,\n",
       " <universal_serial_bus.orm.usb20.descriptors.StandardEndpointDescriptor at 0x27b8da15f28>]"
      ]
     },
     "execution_count": 20,
     "metadata": {},
     "output_type": "execute_result"
    }
   ],
   "source": [
    "descriptors_dbos = HIDdevice.load_descriptors_dbos(fn)\n",
    "descriptors_dbos"
   ]
  },
  {
   "cell_type": "code",
   "execution_count": 21,
   "metadata": {},
   "outputs": [
    {
     "data": {
      "text/plain": [
       "{'parent_id': None,\n",
       " 'bLength': '09',\n",
       " 'bDescriptorType': '21',\n",
       " 'bcdHID': '0102',\n",
       " 'bCountryCode': '00',\n",
       " 'bNumDescriptors': '01',\n",
       " 'bReportDescriptorType': '22',\n",
       " 'wReportDescriptorLength': '2900'}"
      ]
     },
     "execution_count": 21,
     "metadata": {},
     "output_type": "execute_result"
    }
   ],
   "source": [
    "descriptors_dbos[-2].attributes"
   ]
  },
  {
   "cell_type": "code",
   "execution_count": 22,
   "metadata": {},
   "outputs": [
    {
     "data": {
      "text/plain": [
       "{'parent_id': None,\n",
       " 'bLength': '09',\n",
       " 'bDescriptorType': '21',\n",
       " 'bcdHID': '0102',\n",
       " 'bCountryCode': '00',\n",
       " 'bNumDescriptors': '01',\n",
       " 'bReportDescriptorType': '22',\n",
       " 'wReportDescriptorLength': '2900'}"
      ]
     },
     "execution_count": 22,
     "metadata": {},
     "output_type": "execute_result"
    }
   ],
   "source": [
    "device.hid_descriptor_dbos[0].attributes"
   ]
  },
  {
   "cell_type": "code",
   "execution_count": 23,
   "metadata": {
    "scrolled": false
   },
   "outputs": [
    {
     "data": {
      "text/plain": [
       "[array('B', [9, 33, 1, 2, 0, 1, 34, 41, 0])]"
      ]
     },
     "execution_count": 23,
     "metadata": {},
     "output_type": "execute_result"
    }
   ],
   "source": [
    "hid_descriptors = device.hid_descriptors \n",
    "hid_descriptors"
   ]
  },
  {
   "cell_type": "code",
   "execution_count": 24,
   "metadata": {},
   "outputs": [
    {
     "data": {
      "text/plain": [
       "{'parent_id': None,\n",
       " 'bLength': '09',\n",
       " 'bDescriptorType': '21',\n",
       " 'bcdHID': '0102',\n",
       " 'bCountryCode': '00',\n",
       " 'bNumDescriptors': '01',\n",
       " 'bReportDescriptorType': '22',\n",
       " 'wReportDescriptorLength': '2900'}"
      ]
     },
     "execution_count": 24,
     "metadata": {},
     "output_type": "execute_result"
    }
   ],
   "source": [
    "hid_descriptor_dbos = device.hid_descriptor_dbos\n",
    "hid_descriptor_dbos[0].__dict__"
   ]
  },
  {
   "cell_type": "code",
   "execution_count": 25,
   "metadata": {
    "scrolled": false
   },
   "outputs": [
    {
     "data": {
      "text/plain": [
       "[array('B', [5, 12, 9, 1, 161, 1, 21, 0, 37, 1, 9, 233, 9, 234, 117, 1, 149, 2, 129, 2, 9, 226, 9, 205, 9, 181, 9, 182, 9, 140, 149, 5, 129, 6, 9, 0, 149, 1, 129, 2, 192])]"
      ]
     },
     "execution_count": 25,
     "metadata": {},
     "output_type": "execute_result"
    }
   ],
   "source": [
    "report_descriptors = device.report_descriptors \n",
    "report_descriptors"
   ]
  },
  {
   "cell_type": "markdown",
   "metadata": {},
   "source": [
    "## Report Descriptor 範本"
   ]
  },
  {
   "cell_type": "markdown",
   "metadata": {},
   "source": [
    "```\n",
    "\n",
    "###### HID ######\n",
    "\n",
    "HID Descriptor\n",
    "Usage Page: 12 (Consumer)\n",
    "Usage: 1 (Consumer Control)\n",
    "\n",
    "Collection \n",
    "\n",
    "Logical Minimum: 0\n",
    "Logical Maximum: 1\n",
    "\n",
    "Usage: 233 (Volume Increment)\n",
    "Usage: 234 (Volume Decrement)\n",
    "Report Size: 1\n",
    "Report Count: 2\n",
    "Input: 2 (Data,Variable,Absolute,No Wrap,Linear,Preferred State,No Null Position)\n",
    "\n",
    "Usage: 226 (Mute)\n",
    "Usage: 205 (Play/Pause)\n",
    "Usage: 181 (Scan Next Track)\n",
    "Usage: 182 (Scan Previous Track)\n",
    "Usage: 140 (Media Select Telephone)\n",
    "Report Count: 5\n",
    "Input: 6 (Data,Variable,Relative,No Wrap,Linear,Preferred State,No Null Position)\n",
    "\n",
    "Usage: 0 (Unassigned)\n",
    "Report Count: 1\n",
    "Input: 2 (Data,Variable,Absolute,No Wrap,Linear,Preferred State,No Null Position)\n",
    "\n",
    "End Collection \n",
    "```"
   ]
  },
  {
   "cell_type": "code",
   "execution_count": 26,
   "metadata": {},
   "outputs": [
    {
     "data": {
      "text/plain": [
       "array('B', [5, 12, 9, 1, 161, 1, 21, 0, 37, 1, 9, 233, 9, 234, 117, 1, 149, 2, 129, 2, 9, 226, 9, 205, 9, 181, 9, 182, 9, 140, 149, 5, 129, 6, 9, 0, 149, 1, 129, 2, 192])"
      ]
     },
     "execution_count": 26,
     "metadata": {},
     "output_type": "execute_result"
    }
   ],
   "source": [
    "from usb_hid.orm.hid111.reports import ReportDescriptor\n",
    "from usb_hid.orm.hid111.items import Item\n",
    "\n",
    "\n",
    "items = []\n",
    "items.append(Item(PREFIX_TYPES.Usage_Page, USAGES.usage_pages.Consumer.code))   # Usage Page: 12 (Consumer)\n",
    "items.append(Item(PREFIX_TYPES.Usage, USAGES.consumer.Consumer_Control.usage_id))  # Usage: 1 (Consumer Control)\n",
    "items.append(Item(PREFIX_TYPES.Collection, COLLECTION_TYPES.Application))  # Collection\n",
    "items.append(Item(PREFIX_TYPES.Logical_Minimum, 0))  # Logical Minimum: 0\n",
    "items.append(Item(PREFIX_TYPES.Logical_Maximum, 1))  # Logical Maximum: 1\n",
    "items.append(Item(PREFIX_TYPES.Usage, USAGES.consumer.Volume_Increment.usage_id))  # Usage: 233 (Volume Increment)\n",
    "items.append(Item(PREFIX_TYPES.Usage, USAGES.consumer.Volume_Decrement.usage_id))  #  Usage: 234 (Volume Decrement)\n",
    "items.append(Item(PREFIX_TYPES.Report_Size, 1))  #  Report Size: 1\n",
    "items.append(Item(PREFIX_TYPES.Report_Count, 2))  #  Report Count: 2\n",
    "items.append(Item(PREFIX_TYPES.Input, 2))  #  Input: 2 (Data,Variable,Absolute,No Wrap,Linear,Preferred State,No Null Position)\n",
    "items.append(Item(PREFIX_TYPES.Usage, USAGES.consumer.Mute.usage_id))  #  Usage: 226 (Mute)\n",
    "items.append(Item(PREFIX_TYPES.Usage, USAGES.consumer.Play_Pause.usage_id))  #  Usage: 205 (Play/Pause)\n",
    "items.append(Item(PREFIX_TYPES.Usage, USAGES.consumer.Scan_Next_Track.usage_id))  #  Usage: 181 (Scan Next Track)\n",
    "items.append(Item(PREFIX_TYPES.Usage, USAGES.consumer.Scan_Previous_Track.usage_id))  #  Usage: 182 (Scan Previous Track)\n",
    "items.append(Item(PREFIX_TYPES.Usage, USAGES.consumer.Media_Select_Telephone.usage_id))  #  Usage: 140 (Media Select Telephone) \n",
    "items.append(Item(PREFIX_TYPES.Report_Count, 5))  #  Report Count: 5\n",
    "items.append(Item(PREFIX_TYPES.Input, 6))  #  Input: 6 (Data,Variable,Relative,No Wrap,Linear,Preferred State,No Null Position)\n",
    "items.append(Item(PREFIX_TYPES.Usage, USAGES.consumer.Unassigned.usage_id))  #  Usage: 0 (Unassigned)\n",
    "items.append(Item(PREFIX_TYPES.Report_Count, 1))  #  Report Count: 1\n",
    "items.append(Item(PREFIX_TYPES.Input, 2))  #  Input: 2 (Data,Variable,Absolute,No Wrap,Linear,Preferred State,No Null Position)\n",
    "items.append(Item(PREFIX_TYPES.End_Collection))  # End Collection \n",
    "\n",
    "rpt_dscpt = ReportDescriptor(items)\n",
    "rpt_dscpt.byte_array"
   ]
  },
  {
   "cell_type": "code",
   "execution_count": 27,
   "metadata": {
    "scrolled": false
   },
   "outputs": [
    {
     "data": {
      "text/plain": [
       "[array('B', [5, 12, 9, 1, 161, 1, 21, 0, 37, 1, 9, 233, 9, 234, 117, 1, 149, 2, 129, 2, 9, 226, 9, 205, 9, 181, 9, 182, 9, 140, 149, 5, 129, 6, 9, 0, 149, 1, 129, 2, 192])]"
      ]
     },
     "execution_count": 27,
     "metadata": {},
     "output_type": "execute_result"
    }
   ],
   "source": [
    "report_descriptors = device.report_descriptors\n",
    "report_descriptors"
   ]
  },
  {
   "cell_type": "markdown",
   "metadata": {},
   "source": [
    "## 各種 codes"
   ]
  },
  {
   "cell_type": "code",
   "execution_count": 28,
   "metadata": {},
   "outputs": [
    {
     "data": {
      "text/plain": [
       "{('08', '00'): 'Input',\n",
       " ('09', '00'): 'Output',\n",
       " ('0B', '00'): 'Feature',\n",
       " ('0A', '00'): 'Collection',\n",
       " ('0C', '00'): 'End_Collection',\n",
       " ('00', '01'): 'Usage_Page',\n",
       " ('01', '01'): 'Logical_Minimum',\n",
       " ('02', '01'): 'Logical_Maximum',\n",
       " ('03', '01'): 'Physical_Minimum',\n",
       " ('04', '01'): 'Physical_Maximum',\n",
       " ('05', '01'): 'Unit_Exponent',\n",
       " ('06', '01'): 'Unit',\n",
       " ('07', '01'): 'Report_Size',\n",
       " ('08', '01'): 'Report_ID',\n",
       " ('09', '01'): 'Report_Count',\n",
       " ('0A', '01'): 'Push',\n",
       " ('0B', '01'): 'Pop',\n",
       " ('00', '02'): 'Usage',\n",
       " ('01', '02'): 'Usage_Minimum',\n",
       " ('02', '02'): 'Usage_Maximum',\n",
       " ('03', '02'): 'Designator_Index',\n",
       " ('04', '02'): 'Designator_Minimum',\n",
       " ('05', '02'): 'Designator_Maximum',\n",
       " ('07', '02'): 'String_Index',\n",
       " ('08', '02'): 'String_Minimum',\n",
       " ('09', '02'): 'String_Maximum',\n",
       " ('0A', '02'): 'Delimiter'}"
      ]
     },
     "execution_count": 28,
     "metadata": {},
     "output_type": "execute_result"
    }
   ],
   "source": [
    "TAG_TYPE_PREFIX_TYPES"
   ]
  },
  {
   "cell_type": "code",
   "execution_count": 29,
   "metadata": {},
   "outputs": [],
   "source": [
    "from usb_hid.orm.hid111.reports import *"
   ]
  },
  {
   "cell_type": "code",
   "execution_count": 30,
   "metadata": {},
   "outputs": [
    {
     "data": {
      "text/plain": [
       "{'00': 'Undefined',\n",
       " '01': 'Generic Desktop',\n",
       " '02': 'Simulation Controls',\n",
       " '03': 'VR Controls',\n",
       " '04': 'Sport Controls',\n",
       " '05': 'Game Controls',\n",
       " '06': 'Generic Device Controls',\n",
       " '07': 'Keyboard/Keypad',\n",
       " '08': 'LEDs',\n",
       " '09': 'Button',\n",
       " '0A': 'Ordinal',\n",
       " '0B': 'Telephony',\n",
       " '0C': 'Consumer',\n",
       " '0D': 'Digitizer',\n",
       " '0F': 'PID',\n",
       " '10': 'Unicode',\n",
       " '14': 'Alphanumeric Display',\n",
       " '40': 'Medical Instruments',\n",
       " '8C': 'Bar Code Scanner',\n",
       " '8D': 'Scale',\n",
       " '8E': 'Magnetic Stripe Reading (MSR) Devices',\n",
       " '8F': 'Reserved Point of Sales',\n",
       " '90': 'Camera Control',\n",
       " '91': 'Arcade'}"
      ]
     },
     "execution_count": 30,
     "metadata": {},
     "output_type": "execute_result"
    }
   ],
   "source": [
    "USAGES_PAGES"
   ]
  },
  {
   "cell_type": "code",
   "execution_count": 31,
   "metadata": {},
   "outputs": [
    {
     "data": {
      "text/plain": [
       "{0: {0: 'Data', 1: 'Constant'},\n",
       " 1: {0: 'Array', 1: 'Variable'},\n",
       " 2: {0: 'Absolute', 1: 'Relative'},\n",
       " 3: {0: 'No Wrap', 1: 'Wrap'},\n",
       " 4: {0: 'Linear', 1: 'Non Linear'},\n",
       " 5: {0: 'Preferred State', 1: 'No Preferred'},\n",
       " 6: {0: 'No Null position', 1: 'Null state'},\n",
       " 7: {0: 'Non Volatile', 1: 'Volatile'},\n",
       " 8: {0: 'Bit Field', 1: 'Buffered Bytes'}}"
      ]
     },
     "execution_count": 31,
     "metadata": {},
     "output_type": "execute_result"
    }
   ],
   "source": [
    "DATA_TYPE_BIT_MAP"
   ]
  },
  {
   "cell_type": "code",
   "execution_count": 32,
   "metadata": {
    "scrolled": false
   },
   "outputs": [],
   "source": [
    "# parser = Parser()\n",
    "\n",
    "# for report_descriptor in  device.report_descriptors:\n",
    "#     lines, report_descriptor_obj = parser.parse(report_descriptor, print_out = True)"
   ]
  },
  {
   "cell_type": "code",
   "execution_count": 33,
   "metadata": {},
   "outputs": [],
   "source": [
    "device.reset()"
   ]
  },
  {
   "cell_type": "markdown",
   "metadata": {},
   "source": [
    "## Profile devices"
   ]
  },
  {
   "cell_type": "code",
   "execution_count": 34,
   "metadata": {},
   "outputs": [],
   "source": [
    "from universal_serial_bus import find_all_devices_by_class\n",
    "from usb_hid.orm.hid111 import HIDdevice"
   ]
  },
  {
   "cell_type": "code",
   "execution_count": 35,
   "metadata": {
    "scrolled": false
   },
   "outputs": [],
   "source": [
    "def profile_device(device, path):\n",
    "    \n",
    "    for i in range(len(device.report_descriptor_dbos)):\n",
    "        fn = '{}{} {} {}{}'.format(path, device.manufacturer_product,'HID_report_descriptor', i, '.txt')\n",
    "        device.report_descriptor_dbos[i].parse(print_out = True, save_as_file = True, fn = fn)\n",
    "        \n",
    "        fn = '{}{} {} {}{}'.format(path, device.manufacturer_product, 'HID_report_descriptor', i, '.json')\n",
    "        device.report_descriptor_dbos[i].dump(fn = fn)\n",
    "        \n",
    "    fn = '{}{} {}{}'.format(path, device.manufacturer_product, 'descriptors', '.json' )\n",
    "    device.dump_descriptors(fn = fn)"
   ]
  },
  {
   "cell_type": "code",
   "execution_count": 36,
   "metadata": {
    "scrolled": false
   },
   "outputs": [
    {
     "name": "stdout",
     "output_type": "stream",
     "text": [
      "\n",
      "###################################################\n",
      "array('B', [5, 12, 9, 1, 161, 1, 5, 1, 9, 2, 161, 2, 133, 19, 5, 12, 10, 56, 2, 149, 1, 117, 8, 21, 129, 37, 127, 129, 6, 192, 133, 32, 6, 0, 255, 21, 0, 38, 255, 0, 117, 8, 149, 18, 10, 10, 250, 177, 2, 133, 46, 6, 0, 255, 21, 0, 38, 255, 0, 117, 8, 149, 7, 10, 10, 250, 177, 2, 133, 47, 6, 0, 255, 21, 0, 38, 255, 0, 117, 8, 149, 7, 10, 10, 250, 129, 2, 133, 24, 6, 0, 255, 21, 0, 38, 255, 0, 117, 8, 149, 1, 10, 10, 250, 177, 2, 133, 22, 5, 12, 25, 0, 42, 255, 3, 149, 1, 117, 16, 21, 0, 38, 255, 3, 129, 0, 6, 0, 255, 26, 1, 253, 42, 255, 253, 21, 1, 38, 255, 0, 117, 8, 129, 0, 129, 1, 133, 23, 10, 6, 255, 21, 0, 37, 1, 53, 1, 69, 1, 149, 1, 117, 2, 177, 2, 10, 15, 255, 69, 16, 149, 1, 117, 2, 177, 2, 10, 4, 255, 53, 0, 69, 0, 149, 1, 117, 1, 177, 2, 117, 3, 177, 1, 133, 28, 6, 0, 255, 10, 37, 255, 21, 0, 37, 4, 117, 8, 149, 1, 129, 2, 10, 38, 255, 117, 16, 21, 0, 39, 255, 255, 129, 2, 192, 5, 1, 9, 2, 161, 1, 5, 1, 9, 2, 161, 2, 133, 16, 9, 1, 161, 0, 5, 9, 25, 1, 41, 5, 149, 5, 117, 1, 37, 0, 37, 1, 129, 2, 117, 3, 149, 1, 129, 1, 5, 1, 9, 48, 9, 49, 149, 2, 117, 16, 22, 1, 128, 38, 255, 127, 129, 6, 161, 2, 133, 18, 9, 72, 149, 1, 117, 2, 21, 0, 37, 1, 53, 1, 69, 1, 177, 2, 133, 16, 9, 56, 53, 0, 69, 0, 21, 129, 37, 127, 117, 8, 129, 6, 192, 161, 2, 133, 18, 9, 72, 117, 2, 21, 0, 37, 1, 53, 1, 69, 16, 177, 2, 53, 0, 69, 0, 117, 4, 177, 1, 133, 16, 5, 12, 21, 129, 37, 127, 117, 8, 10, 56, 2, 129, 6, 192, 192, 192, 192])\n",
      "###################################################\n",
      "\n",
      " Usage_Page 12 (Consumer)\n",
      " Usage 1 (Consumer_Control)\n",
      " Collection 1 (Application)\n",
      "\n",
      "   Usage_Page 1 (Generic Desktop)\n",
      "   Usage 2 (Mouse)\n",
      "   Collection 2 (Logical)\n",
      "     Report_ID 19 \n",
      "\n",
      "     Usage_Page 12 (Consumer)\n",
      "     Usage 568 (AC_Pan)\n",
      "     Report_Count 1 \n",
      "     Report_Size 8 \n",
      "     Logical_Minimum 129 \n",
      "     Logical_Maximum 127 \n",
      "     Input 6 (Data | Variable | Relative | No Wrap | Linear | Preferred State | No Null position | Non Volatile | Bit Field)\n",
      "   End_Collection  \n",
      "   Report_ID 32 \n",
      "\n",
      "   Usage_Page 65280 (Unknown)\n",
      "   Logical_Minimum 0 \n",
      "   Logical_Maximum 255 \n",
      "   Report_Size 8 \n",
      "   Report_Count 18 \n",
      "   Usage 64010 \n",
      "   Feature 2 (Data | Variable | Absolute | No Wrap | Linear | Preferred State | No Null position | Non Volatile | Bit Field)\n",
      "   Report_ID 46 \n",
      "\n",
      "   Usage_Page 65280 (Unknown)\n",
      "   Logical_Minimum 0 \n",
      "   Logical_Maximum 255 \n",
      "   Report_Size 8 \n",
      "   Report_Count 7 \n",
      "   Usage 64010 \n",
      "   Feature 2 (Data | Variable | Absolute | No Wrap | Linear | Preferred State | No Null position | Non Volatile | Bit Field)\n",
      "   Report_ID 47 \n",
      "\n",
      "   Usage_Page 65280 (Unknown)\n",
      "   Logical_Minimum 0 \n",
      "   Logical_Maximum 255 \n",
      "   Report_Size 8 \n",
      "   Report_Count 7 \n",
      "   Usage 64010 \n",
      "   Input 2 (Data | Variable | Absolute | No Wrap | Linear | Preferred State | No Null position | Non Volatile | Bit Field)\n",
      "   Report_ID 24 \n",
      "\n",
      "   Usage_Page 65280 (Unknown)\n",
      "   Logical_Minimum 0 \n",
      "   Logical_Maximum 255 \n",
      "   Report_Size 8 \n",
      "   Report_Count 1 \n",
      "   Usage 64010 \n",
      "   Feature 2 (Data | Variable | Absolute | No Wrap | Linear | Preferred State | No Null position | Non Volatile | Bit Field)\n",
      "   Report_ID 22 \n",
      "\n",
      "   Usage_Page 12 (Consumer)\n",
      "   Usage_Minimum 0 \n",
      "   Usage_Maximum 1023 \n",
      "   Report_Count 1 \n",
      "   Report_Size 16 \n",
      "   Logical_Minimum 0 \n",
      "   Logical_Maximum 1023 \n",
      "   Input 0 (Data | Array | Absolute | No Wrap | Linear | Preferred State | No Null position | Non Volatile | Bit Field)\n",
      "\n",
      "   Usage_Page 65280 (Unknown)\n",
      "   Usage_Minimum 64769 \n",
      "   Usage_Maximum 65023 \n",
      "   Logical_Minimum 1 \n",
      "   Logical_Maximum 255 \n",
      "   Report_Size 8 \n",
      "   Input 0 (Data | Array | Absolute | No Wrap | Linear | Preferred State | No Null position | Non Volatile | Bit Field)\n",
      "   Input 1 (Constant | Array | Absolute | No Wrap | Linear | Preferred State | No Null position | Non Volatile | Bit Field)\n",
      "   Report_ID 23 \n",
      "   Usage 65286 \n",
      "   Logical_Minimum 0 \n",
      "   Logical_Maximum 1 \n",
      "   Physical_Minimum 1 \n",
      "   Physical_Maximum 1 \n",
      "   Report_Count 1 \n",
      "   Report_Size 2 \n",
      "   Feature 2 (Data | Variable | Absolute | No Wrap | Linear | Preferred State | No Null position | Non Volatile | Bit Field)\n",
      "   Usage 65295 \n",
      "   Physical_Maximum 16 \n",
      "   Report_Count 1 \n",
      "   Report_Size 2 \n",
      "   Feature 2 (Data | Variable | Absolute | No Wrap | Linear | Preferred State | No Null position | Non Volatile | Bit Field)\n",
      "   Usage 65284 \n",
      "   Physical_Minimum 0 \n",
      "   Physical_Maximum 0 \n",
      "   Report_Count 1 \n",
      "   Report_Size 1 \n",
      "   Feature 2 (Data | Variable | Absolute | No Wrap | Linear | Preferred State | No Null position | Non Volatile | Bit Field)\n",
      "   Report_Size 3 \n",
      "   Feature 1 (Constant | Array | Absolute | No Wrap | Linear | Preferred State | No Null position | Non Volatile | Bit Field)\n",
      "   Report_ID 28 \n",
      "\n",
      "   Usage_Page 65280 (Unknown)\n",
      "   Usage 65317 \n",
      "   Logical_Minimum 0 \n",
      "   Logical_Maximum 4 \n",
      "   Report_Size 8 \n",
      "   Report_Count 1 \n",
      "   Input 2 (Data | Variable | Absolute | No Wrap | Linear | Preferred State | No Null position | Non Volatile | Bit Field)\n",
      "   Usage 65318 \n",
      "   Report_Size 16 \n",
      "   Logical_Minimum 0 \n",
      "   Logical_Maximum 42074111 \n",
      " End_Collection  \n",
      "\n",
      " Usage_Page 1 (Generic Desktop)\n",
      " Usage 2 (Mouse)\n",
      " Collection 1 (Application)\n",
      "\n",
      "   Usage_Page 1 (Generic Desktop)\n",
      "   Usage 2 (Mouse)\n",
      "   Collection 2 (Logical)\n",
      "     Report_ID 16 \n",
      "     Usage 1 (Pointer)\n",
      "     Collection 0 (Physical)\n",
      "\n",
      "       Usage_Page 9 (Button)\n",
      "       Usage_Minimum 1 \n",
      "       Usage_Maximum 5 \n",
      "       Report_Count 5 \n",
      "       Report_Size 1 \n",
      "       Logical_Maximum 0 \n",
      "       Logical_Maximum 1 \n",
      "       Input 2 (Data | Variable | Absolute | No Wrap | Linear | Preferred State | No Null position | Non Volatile | Bit Field)\n",
      "       Report_Size 3 \n",
      "       Report_Count 1 \n",
      "       Input 1 (Constant | Array | Absolute | No Wrap | Linear | Preferred State | No Null position | Non Volatile | Bit Field)\n",
      "\n",
      "       Usage_Page 1 (Generic Desktop)\n",
      "       Usage 48 (X)\n",
      "       Usage 49 (Y)\n",
      "       Report_Count 2 \n",
      "       Report_Size 16 \n",
      "       Logical_Minimum 32769 \n",
      "       Logical_Maximum 32767 \n",
      "       Input 6 (Data | Variable | Relative | No Wrap | Linear | Preferred State | No Null position | Non Volatile | Bit Field)\n",
      "       Collection 2 (Logical)\n",
      "         Report_ID 18 \n",
      "         Usage 72 (Resolution_Multiplier)\n",
      "         Report_Count 1 \n",
      "         Report_Size 2 \n",
      "         Logical_Minimum 0 \n",
      "         Logical_Maximum 1 \n",
      "         Physical_Minimum 1 \n",
      "         Physical_Maximum 1 \n",
      "         Feature 2 (Data | Variable | Absolute | No Wrap | Linear | Preferred State | No Null position | Non Volatile | Bit Field)\n",
      "         Report_ID 16 \n",
      "         Usage 56 (Wheel)\n",
      "         Physical_Minimum 0 \n",
      "         Physical_Maximum 0 \n",
      "         Logical_Minimum 129 \n",
      "         Logical_Maximum 127 \n",
      "         Report_Size 8 \n",
      "         Input 6 (Data | Variable | Relative | No Wrap | Linear | Preferred State | No Null position | Non Volatile | Bit Field)\n",
      "       End_Collection  \n",
      "       Collection 2 (Logical)\n",
      "         Report_ID 18 \n",
      "         Usage 72 (Resolution_Multiplier)\n",
      "         Report_Size 2 \n",
      "         Logical_Minimum 0 \n",
      "         Logical_Maximum 1 \n",
      "         Physical_Minimum 1 \n",
      "         Physical_Maximum 16 \n",
      "         Feature 2 (Data | Variable | Absolute | No Wrap | Linear | Preferred State | No Null position | Non Volatile | Bit Field)\n",
      "         Physical_Minimum 0 \n",
      "         Physical_Maximum 0 \n",
      "         Report_Size 4 \n",
      "         Feature 1 (Constant | Array | Absolute | No Wrap | Linear | Preferred State | No Null position | Non Volatile | Bit Field)\n",
      "         Report_ID 16 \n",
      "\n",
      "         Usage_Page 12 (Consumer)\n",
      "         Logical_Minimum 129 \n",
      "         Logical_Maximum 127 \n",
      "         Report_Size 8 \n",
      "         Usage 568 (AC_Pan)\n",
      "         Input 6 (Data | Variable | Relative | No Wrap | Linear | Preferred State | No Null position | Non Volatile | Bit Field)\n",
      "       End_Collection  \n",
      "     End_Collection  \n",
      "   End_Collection  \n",
      " End_Collection  \n",
      "\n",
      "\n",
      "###################################################\n",
      "array('B', [5, 1, 9, 6, 161, 1, 149, 8, 117, 1, 21, 0, 37, 1, 5, 7, 25, 224, 41, 231, 129, 2, 129, 3, 149, 5, 5, 8, 25, 1, 41, 5, 145, 2, 149, 1, 117, 3, 145, 1, 149, 6, 117, 8, 21, 0, 38, 255, 0, 5, 7, 25, 0, 42, 255, 0, 129, 0, 192])\n",
      "###################################################\n",
      "\n",
      " Usage_Page 1 (Generic Desktop)\n",
      " Usage 6 (Keyboard)\n",
      " Collection 1 (Application)\n",
      "   Report_Count 8 \n",
      "   Report_Size 1 \n",
      "   Logical_Minimum 0 \n",
      "   Logical_Maximum 1 \n",
      "\n",
      "   Usage_Page 7 (Keyboard/Keypad)\n",
      "   Usage_Minimum 224 \n",
      "   Usage_Maximum 231 \n",
      "   Input 2 (Data | Variable | Absolute | No Wrap | Linear | Preferred State | No Null position | Non Volatile | Bit Field)\n",
      "   Input 3 (Constant | Variable | Absolute | No Wrap | Linear | Preferred State | No Null position | Non Volatile | Bit Field)\n",
      "   Report_Count 5 \n",
      "\n",
      "   Usage_Page 8 (LEDs)\n",
      "   Usage_Minimum 1 \n",
      "   Usage_Maximum 5 \n",
      "   Output 2 (Data | Variable | Absolute | No Wrap | Linear | Preferred State | No Null position | Non Volatile | Bit Field)\n",
      "   Report_Count 1 \n",
      "   Report_Size 3 \n",
      "   Output 1 (Constant | Array | Absolute | No Wrap | Linear | Preferred State | No Null position | Non Volatile | Bit Field)\n",
      "   Report_Count 6 \n",
      "   Report_Size 8 \n",
      "   Logical_Minimum 0 \n",
      "   Logical_Maximum 255 \n",
      "\n",
      "   Usage_Page 7 (Keyboard/Keypad)\n",
      "   Usage_Minimum 0 \n",
      "   Usage_Maximum 255 \n",
      "   Input 0 (Data | Array | Absolute | No Wrap | Linear | Preferred State | No Null position | Non Volatile | Bit Field)\n",
      " End_Collection  \n",
      "\n",
      "\n",
      "###################################################\n",
      "array('B', [5, 1, 9, 2, 161, 1, 133, 2, 9, 1, 161, 0, 149, 16, 117, 1, 21, 0, 37, 1, 5, 9, 25, 1, 41, 16, 129, 2, 149, 2, 117, 12, 22, 1, 248, 38, 255, 7, 5, 1, 9, 48, 9, 49, 129, 6, 149, 1, 117, 8, 21, 129, 37, 127, 9, 56, 129, 6, 149, 1, 5, 12, 10, 56, 2, 129, 6, 192, 192, 5, 12, 9, 1, 161, 1, 133, 3, 149, 2, 117, 16, 21, 1, 38, 255, 2, 25, 1, 42, 255, 2, 129, 0, 192, 5, 1, 9, 128, 161, 1, 133, 4, 149, 1, 117, 2, 21, 1, 37, 3, 9, 130, 9, 129, 9, 131, 129, 0, 117, 6, 129, 3, 192, 6, 188, 255, 9, 136, 161, 1, 133, 8, 149, 1, 117, 8, 21, 1, 38, 255, 0, 25, 1, 41, 255, 129, 0, 192])\n",
      "###################################################\n",
      "\n",
      " Usage_Page 1 (Generic Desktop)\n",
      " Usage 2 (Mouse)\n",
      " Collection 1 (Application)\n",
      "   Report_ID 2 \n",
      "   Usage 1 (Pointer)\n",
      "   Collection 0 (Physical)\n",
      "     Report_Count 16 \n",
      "     Report_Size 1 \n",
      "     Logical_Minimum 0 \n",
      "     Logical_Maximum 1 \n",
      "\n",
      "     Usage_Page 9 (Button)\n",
      "     Usage_Minimum 1 \n",
      "     Usage_Maximum 16 \n",
      "     Input 2 (Data | Variable | Absolute | No Wrap | Linear | Preferred State | No Null position | Non Volatile | Bit Field)\n",
      "     Report_Count 2 \n",
      "     Report_Size 12 \n",
      "     Logical_Minimum 63489 \n",
      "     Logical_Maximum 2047 \n",
      "\n",
      "     Usage_Page 1 (Generic Desktop)\n",
      "     Usage 48 (X)\n",
      "     Usage 49 (Y)\n",
      "     Input 6 (Data | Variable | Relative | No Wrap | Linear | Preferred State | No Null position | Non Volatile | Bit Field)\n",
      "     Report_Count 1 \n",
      "     Report_Size 8 \n",
      "     Logical_Minimum 129 \n",
      "     Logical_Maximum 127 \n",
      "     Usage 56 (Wheel)\n",
      "     Input 6 (Data | Variable | Relative | No Wrap | Linear | Preferred State | No Null position | Non Volatile | Bit Field)\n",
      "     Report_Count 1 \n",
      "\n",
      "     Usage_Page 12 (Consumer)\n",
      "     Usage 568 (AC_Pan)\n",
      "     Input 6 (Data | Variable | Relative | No Wrap | Linear | Preferred State | No Null position | Non Volatile | Bit Field)\n",
      "   End_Collection  \n",
      " End_Collection  \n",
      "\n",
      " Usage_Page 12 (Consumer)\n",
      " Usage 1 (Consumer_Control)\n",
      " Collection 1 (Application)\n",
      "   Report_ID 3 \n",
      "   Report_Count 2 \n",
      "   Report_Size 16 \n",
      "   Logical_Minimum 1 \n",
      "   Logical_Maximum 767 \n",
      "   Usage_Minimum 1 \n",
      "   Usage_Maximum 767 \n",
      "   Input 0 (Data | Array | Absolute | No Wrap | Linear | Preferred State | No Null position | Non Volatile | Bit Field)\n",
      " End_Collection  \n",
      "\n",
      " Usage_Page 1 (Generic Desktop)\n",
      " Usage 128 (System_Control)\n",
      " Collection 1 (Application)\n",
      "   Report_ID 4 \n",
      "   Report_Count 1 \n",
      "   Report_Size 2 \n",
      "   Logical_Minimum 1 \n",
      "   Logical_Maximum 3 \n",
      "   Usage 130 (System_Sleep)\n",
      "   Usage 129 (System_Power_Down)\n",
      "   Usage 131 (System_Wake_Up)\n",
      "   Input 0 (Data | Array | Absolute | No Wrap | Linear | Preferred State | No Null position | Non Volatile | Bit Field)\n",
      "   Report_Size 6 \n",
      "   Input 3 (Constant | Variable | Absolute | No Wrap | Linear | Preferred State | No Null position | Non Volatile | Bit Field)\n",
      " End_Collection  \n",
      "\n",
      " Usage_Page 65468 (Unknown)\n",
      " Usage 136 \n",
      " Collection 1 (Application)\n",
      "   Report_ID 8 \n",
      "   Report_Count 1 \n",
      "   Report_Size 8 \n",
      "   Logical_Minimum 1 \n",
      "   Logical_Maximum 255 \n",
      "   Usage_Minimum 1 \n",
      "   Usage_Maximum 255 \n",
      "   Input 0 (Data | Array | Absolute | No Wrap | Linear | Preferred State | No Null position | Non Volatile | Bit Field)\n",
      " End_Collection  \n",
      "\n",
      "\n",
      "###################################################\n",
      "array('B', [6, 0, 255, 9, 1, 161, 1, 133, 16, 149, 6, 117, 8, 21, 0, 38, 255, 0, 9, 1, 129, 0, 9, 1, 145, 0, 192, 6, 0, 255, 9, 2, 161, 1, 133, 17, 149, 19, 117, 8, 21, 0, 38, 255, 0, 9, 2, 129, 0, 9, 2, 145, 0, 192, 6, 0, 255, 9, 4, 161, 1, 133, 32, 149, 14, 117, 8, 21, 0, 38, 255, 0, 9, 65, 129, 0, 9, 65, 145, 0, 133, 33, 149, 31, 9, 66, 129, 0, 9, 66, 145, 0, 192])\n",
      "###################################################\n",
      "\n",
      " Usage_Page 65280 (Unknown)\n",
      " Usage 1 \n",
      " Collection 1 (Application)\n",
      "   Report_ID 16 \n",
      "   Report_Count 6 \n",
      "   Report_Size 8 \n",
      "   Logical_Minimum 0 \n",
      "   Logical_Maximum 255 \n",
      "   Usage 1 \n",
      "   Input 0 (Data | Array | Absolute | No Wrap | Linear | Preferred State | No Null position | Non Volatile | Bit Field)\n",
      "   Usage 1 \n",
      "   Output 0 (Data | Array | Absolute | No Wrap | Linear | Preferred State | No Null position | Non Volatile | Bit Field)\n",
      " End_Collection  \n",
      "\n",
      " Usage_Page 65280 (Unknown)\n",
      " Usage 2 \n",
      " Collection 1 (Application)\n",
      "   Report_ID 17 \n",
      "   Report_Count 19 \n",
      "   Report_Size 8 \n",
      "   Logical_Minimum 0 \n",
      "   Logical_Maximum 255 \n",
      "   Usage 2 \n",
      "   Input 0 (Data | Array | Absolute | No Wrap | Linear | Preferred State | No Null position | Non Volatile | Bit Field)\n",
      "   Usage 2 \n",
      "   Output 0 (Data | Array | Absolute | No Wrap | Linear | Preferred State | No Null position | Non Volatile | Bit Field)\n",
      " End_Collection  \n",
      "\n",
      " Usage_Page 65280 (Unknown)\n",
      " Usage 4 \n",
      " Collection 1 (Application)\n",
      "   Report_ID 32 \n",
      "   Report_Count 14 \n",
      "   Report_Size 8 \n",
      "   Logical_Minimum 0 \n",
      "   Logical_Maximum 255 \n",
      "   Usage 65 \n",
      "   Input 0 (Data | Array | Absolute | No Wrap | Linear | Preferred State | No Null position | Non Volatile | Bit Field)\n",
      "   Usage 65 \n",
      "   Output 0 (Data | Array | Absolute | No Wrap | Linear | Preferred State | No Null position | Non Volatile | Bit Field)\n",
      "   Report_ID 33 \n",
      "   Report_Count 31 \n",
      "   Usage 66 \n",
      "   Input 0 (Data | Array | Absolute | No Wrap | Linear | Preferred State | No Null position | Non Volatile | Bit Field)\n",
      "   Usage 66 \n",
      "   Output 0 (Data | Array | Absolute | No Wrap | Linear | Preferred State | No Null position | Non Volatile | Bit Field)\n",
      " End_Collection  \n",
      "\n"
     ]
    }
   ],
   "source": [
    "from universal_serial_bus.legacy import DEVICE_CLASS\n",
    "\n",
    "path = '.\\\\devices\\\\'\n",
    "\n",
    "_, devices_ids = find_all_devices_by_class(DEVICE_CLASS.Human_Interface_Device)\n",
    "[(hex(v), hex(p)) for (v, p) in devices_ids]\n",
    "\n",
    "for (idVendor, idProduct) in devices_ids:\n",
    "    device = HIDdevice(idVendor, idProduct)  \n",
    "    profile_device(device, path)\n",
    "    device.reset()"
   ]
  },
  {
   "cell_type": "code",
   "execution_count": 37,
   "metadata": {
    "scrolled": false
   },
   "outputs": [],
   "source": [
    "# fn = '{}{} {} {}{}'.format(path, device.manufacturer_product, 'HID_report_descriptor', 0, '.json')\n",
    "\n",
    "# rd = ReportDescriptor.load(fn)\n",
    "# print(rd.parse())"
   ]
  },
  {
   "cell_type": "markdown",
   "metadata": {},
   "source": [
    "## new methods test"
   ]
  },
  {
   "cell_type": "code",
   "execution_count": 130,
   "metadata": {},
   "outputs": [],
   "source": [
    "# device = HIDdevice(0x4d9, 0x2011) # Filco KB\n",
    "device = HIDdevice(0x045e, 0x077b) # MS mouse \n",
    "# device = HIDdevice(0x1b3f, 0x2008) # Sound Card "
   ]
  },
  {
   "cell_type": "code",
   "execution_count": 132,
   "metadata": {},
   "outputs": [],
   "source": [
    "# # control transfer startard format\n",
    "\n",
    "# device.ctrl_transfer(bmRequestType = 0xA1,\n",
    "#                      bRequest = HIDdevice.CLASS_REQUEST_TYPES.GET_REPORT, \n",
    "#                      wValue = HIDdevice.REPORT_TYPES.Input << 8 | 0, \n",
    "#                      wIndex = 0x0000,\n",
    "#                      data_or_wLength = 8, \n",
    "#                      timeout = None)"
   ]
  },
  {
   "cell_type": "markdown",
   "metadata": {},
   "source": [
    "### _report"
   ]
  },
  {
   "cell_type": "code",
   "execution_count": 163,
   "metadata": {},
   "outputs": [
    {
     "data": {
      "text/plain": [
       "array('B', [16, 0, 252, 255, 254, 255, 0, 0])"
      ]
     },
     "execution_count": 163,
     "metadata": {},
     "output_type": "execute_result"
    }
   ],
   "source": [
    "device.get_report(report_type = HIDdevice.REPORT_TYPES.Input, report_id = 0, wLength = 8)"
   ]
  },
  {
   "cell_type": "code",
   "execution_count": 164,
   "metadata": {},
   "outputs": [
    {
     "data": {
      "text/plain": [
       "{'Interrupt': {'In': [<ENDPOINT 0x83: Interrupt IN>]}}"
      ]
     },
     "execution_count": 164,
     "metadata": {},
     "output_type": "execute_result"
    }
   ],
   "source": [
    "device.pipes"
   ]
  },
  {
   "cell_type": "code",
   "execution_count": 185,
   "metadata": {},
   "outputs": [
    {
     "data": {
      "text/plain": [
       "array('B', [16, 0, 5, 252, 249, 0, 0, 0])"
      ]
     },
     "execution_count": 185,
     "metadata": {},
     "output_type": "execute_result"
    }
   ],
   "source": [
    "device.pipes.Interrupt.In[0].read(8)"
   ]
  },
  {
   "cell_type": "markdown",
   "metadata": {},
   "source": [
    "### _protocol"
   ]
  },
  {
   "cell_type": "code",
   "execution_count": 186,
   "metadata": {},
   "outputs": [
    {
     "data": {
      "text/plain": [
       "0"
      ]
     },
     "execution_count": 186,
     "metadata": {},
     "output_type": "execute_result"
    }
   ],
   "source": [
    "device.set_protocol(protocol_type = HIDdevice.PROTOCOL_TYPES.Boot)"
   ]
  },
  {
   "cell_type": "code",
   "execution_count": 187,
   "metadata": {},
   "outputs": [
    {
     "data": {
      "text/plain": [
       "array('B', [0])"
      ]
     },
     "execution_count": 187,
     "metadata": {},
     "output_type": "execute_result"
    }
   ],
   "source": [
    "device.get_protocol()"
   ]
  },
  {
   "cell_type": "code",
   "execution_count": 188,
   "metadata": {},
   "outputs": [
    {
     "data": {
      "text/plain": [
       "0"
      ]
     },
     "execution_count": 188,
     "metadata": {},
     "output_type": "execute_result"
    }
   ],
   "source": [
    "device.set_protocol(protocol_type = HIDdevice.PROTOCOL_TYPES.Report)"
   ]
  },
  {
   "cell_type": "code",
   "execution_count": 189,
   "metadata": {},
   "outputs": [
    {
     "data": {
      "text/plain": [
       "array('B', [1])"
      ]
     },
     "execution_count": 189,
     "metadata": {},
     "output_type": "execute_result"
    }
   ],
   "source": [
    "device.get_protocol()"
   ]
  },
  {
   "cell_type": "markdown",
   "metadata": {},
   "source": [
    "### _idle"
   ]
  },
  {
   "cell_type": "code",
   "execution_count": 190,
   "metadata": {},
   "outputs": [],
   "source": [
    "# device.set_idle(duration = 0, report_id = 0, interface_idx = 0, timeout = None)"
   ]
  },
  {
   "cell_type": "code",
   "execution_count": 191,
   "metadata": {},
   "outputs": [],
   "source": [
    "# device.get_idle(report_id = 0, interface_idx = 0, timeout = None)"
   ]
  },
  {
   "cell_type": "code",
   "execution_count": 192,
   "metadata": {},
   "outputs": [],
   "source": [
    "device.reset()"
   ]
  },
  {
   "cell_type": "code",
   "execution_count": 193,
   "metadata": {},
   "outputs": [
    {
     "data": {
      "text/plain": [
       "' 連結到系統的某個裝置失去作用。\\r\\n\\n'"
      ]
     },
     "execution_count": 193,
     "metadata": {},
     "output_type": "execute_result"
    }
   ],
   "source": [
    "a = ' \\xb3s\\xb5\\xb2\\xa8\\xec\\xa8t\\xb2\\xce\\xaa\\xba\\xacY\\xad\\xd3\\xb8\\xcb\\xb8m\\xa5\\xa2\\xa5h\\xa7@\\xa5\\xce\\xa1C\\r\\n\\n'\n",
    "\n",
    "HIDdevice.translate_hexed_string( a)"
   ]
  }
 ],
 "metadata": {
  "kernelspec": {
   "display_name": "Python 3",
   "language": "python",
   "name": "python3"
  },
  "language_info": {
   "codemirror_mode": {
    "name": "ipython",
    "version": 3
   },
   "file_extension": ".py",
   "mimetype": "text/x-python",
   "name": "python",
   "nbconvert_exporter": "python",
   "pygments_lexer": "ipython3",
   "version": "3.6.8"
  }
 },
 "nbformat": 4,
 "nbformat_minor": 2
}
