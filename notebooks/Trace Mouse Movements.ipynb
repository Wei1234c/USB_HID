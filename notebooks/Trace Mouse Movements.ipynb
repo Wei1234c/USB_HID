{
 "cells": [
  {
   "cell_type": "markdown",
   "metadata": {},
   "source": [
    "# Trace Mouse Movements"
   ]
  },
  {
   "cell_type": "markdown",
   "metadata": {},
   "source": [
    "### 需安裝\n",
    "\n",
    "```\n",
    "pip install pyusb\n",
    "\n",
    "```\n",
    "\n",
    "### Windows DLL\n",
    "[libusb-win32-devel-filter-1.2.6.0.exe](https://sourceforge.net/projects/libusb-win32/files/libusb-win32-releases/1.2.6.0/)  \n",
    "\n",
    "https://sourceforge.net/projects/libusb-win32/  \n",
    "\n",
    "\n",
    "\n",
    "### Linux 權限\n",
    "https://ubuntuforums.org/showthread.php?t=1682084  \n",
    "https://linuxconfig.org/tutorial-on-how-to-write-basic-udev-rules-in-linux  \n",
    "```\n",
    "If anyone is interested.. fixed with udev rule:\n",
    "\n",
    "cd /etc/udev/rules.d/\n",
    "\n",
    "nano 70-ch341.rules\n",
    "\n",
    "SUBSYSTEM==\"usb\", ATTRS{idVendor}==\"1a86\", GROUP=\"dialout\"\n",
    "SUBSYSTEM==\"usb\", ATTRS{idVendor}==\"1a86\", MODE=\"666\"\n",
    "\n",
    "then reloaded udev rules:\n",
    "\n",
    "$ sudo udevadm control --reload-rules  \n",
    "$ sudo udevadm trigger\n",
    "\n",
    "```"
   ]
  },
  {
   "cell_type": "code",
   "execution_count": 1,
   "metadata": {},
   "outputs": [],
   "source": [
    "import os, sys\n",
    "\n",
    "def gen_relative_path(target_path): \n",
    "    \n",
    "    def del_same_parents(target_path, current_path):\n",
    "        if target_path[0] == current_path[0]:\n",
    "            target_path.pop(0)\n",
    "            current_path.pop(0)\n",
    "            del_same_parents(target_path, current_path)\n",
    "            \n",
    "    current_path = os.getcwd().replace('\\\\', '/').split('/')\n",
    "    target_path = target_path.replace('\\\\', '/').split('/')\n",
    "    del_same_parents(target_path, current_path)\n",
    "    \n",
    "    return ['..'] * len(current_path) + target_path\n",
    "\n",
    "\n",
    "def append_source_relative_path(source_relative_path):\n",
    "    sys.path.append(os.sep.join(source_relative_path))"
   ]
  },
  {
   "cell_type": "code",
   "execution_count": 2,
   "metadata": {},
   "outputs": [],
   "source": [
    "# paths = [gen_relative_path(p) for p in paths]\n",
    "# print(paths)"
   ]
  },
  {
   "cell_type": "code",
   "execution_count": 3,
   "metadata": {},
   "outputs": [],
   "source": [
    "paths = [['..', '..', '..', '..', 'Universal Serial Bus', 'bitbucket', 'github', 'codes'], \n",
    "         ['..', '..', '..', '..', '..', 'ORM', 'bitbucket', 'github', 'codes'],\n",
    "         ['..', 'codes']]\n",
    "\n",
    "for path in paths:\n",
    "    append_source_relative_path(path)"
   ]
  },
  {
   "cell_type": "code",
   "execution_count": 4,
   "metadata": {},
   "outputs": [
    {
     "name": "stdout",
     "output_type": "stream",
     "text": [
      "Populating the interactive namespace from numpy and matplotlib\n"
     ]
    }
   ],
   "source": [
    "%pylab inline  \n",
    "\n",
    "from universal_serial_bus import * \n",
    "from usb_hid.orm.hid111 import HIDdevice "
   ]
  },
  {
   "cell_type": "markdown",
   "metadata": {},
   "source": [
    "# Choose devices"
   ]
  },
  {
   "cell_type": "code",
   "execution_count": 5,
   "metadata": {},
   "outputs": [
    {
     "data": {
      "text/plain": [
       "[(1118, 1915), (1133, 50475)]"
      ]
     },
     "execution_count": 5,
     "metadata": {},
     "output_type": "execute_result"
    }
   ],
   "source": [
    "_, devices = find_all_devices_by_class(DEVICE_CLASS.Human_Interface_Device)\n",
    "devices"
   ]
  },
  {
   "cell_type": "code",
   "execution_count": 6,
   "metadata": {},
   "outputs": [],
   "source": [
    "# vendor_id, product_id = 0x4d9, 0x2011  # Filco KB\n",
    "# vendor_id, product_id = 0x1b3f, 0x2008 # Sound Card  \n",
    "# vendor_id, product_id = 0x2341, 0x8036 # Arduino Leonardo \n",
    "vendor_id, product_id = 1118, 1915     # MS mouse  \n",
    " \n",
    "dev = HIDdevice(vendor_id, product_id)"
   ]
  },
  {
   "cell_type": "code",
   "execution_count": 7,
   "metadata": {},
   "outputs": [
    {
     "data": {
      "text/plain": [
       "array('B', [18, 1, 0, 2, 0, 0, 0, 8, 94, 4, 123, 7, 68, 0, 1, 2, 0, 1, 9, 2, 34, 0, 1, 1, 0, 160, 50, 9, 4, 0, 0, 1, 3, 1, 2, 0, 9, 33, 17, 1, 0, 1, 34, 108, 1, 7, 5, 131, 3, 8, 0, 10])"
      ]
     },
     "execution_count": 7,
     "metadata": {},
     "output_type": "execute_result"
    }
   ],
   "source": [
    "dev.descriptors_byte_array"
   ]
  },
  {
   "cell_type": "code",
   "execution_count": 8,
   "metadata": {},
   "outputs": [
    {
     "data": {
      "text/plain": [
       "array('B', [18, 1, 0, 2, 0, 0, 0, 8, 94, 4, 123, 7, 68, 0, 1, 2, 0, 1])"
      ]
     },
     "execution_count": 8,
     "metadata": {},
     "output_type": "execute_result"
    }
   ],
   "source": [
    "dev.device_descriptor"
   ]
  },
  {
   "cell_type": "code",
   "execution_count": 9,
   "metadata": {},
   "outputs": [
    {
     "data": {
      "text/plain": [
       "array('B', [9, 2, 34, 0, 1, 1, 0, 160, 50, 9, 4, 0, 0, 1, 3, 1, 2, 0, 9, 33, 17, 1, 0, 1, 34, 108, 1, 7, 5, 131, 3, 8, 0, 10])"
      ]
     },
     "execution_count": 9,
     "metadata": {},
     "output_type": "execute_result"
    }
   ],
   "source": [
    "dev.descriptors_byte_array[dev.device_descriptor[0]:]"
   ]
  },
  {
   "cell_type": "code",
   "execution_count": 10,
   "metadata": {},
   "outputs": [
    {
     "data": {
      "text/plain": [
       "[array('B', [9, 2, 34, 0, 1, 1, 0, 160, 50]),\n",
       " array('B', [9, 4, 0, 0, 1, 3, 1, 2, 0]),\n",
       " array('B', [9, 33, 17, 1, 0, 1, 34, 108, 1]),\n",
       " array('B', [7, 5, 131, 3, 8, 0, 10])]"
      ]
     },
     "execution_count": 10,
     "metadata": {},
     "output_type": "execute_result"
    }
   ],
   "source": [
    "dev.descriptors_from_config"
   ]
  },
  {
   "cell_type": "code",
   "execution_count": 11,
   "metadata": {},
   "outputs": [
    {
     "data": {
      "text/plain": [
       "[array('B', [18, 1, 0, 2, 0, 0, 0, 8, 94, 4, 123, 7, 68, 0, 1, 2, 0, 1]),\n",
       " array('B', [9, 2, 34, 0, 1, 1, 0, 160, 50]),\n",
       " array('B', [9, 4, 0, 0, 1, 3, 1, 2, 0]),\n",
       " array('B', [9, 33, 17, 1, 0, 1, 34, 108, 1]),\n",
       " array('B', [7, 5, 131, 3, 8, 0, 10])]"
      ]
     },
     "execution_count": 11,
     "metadata": {},
     "output_type": "execute_result"
    }
   ],
   "source": [
    "dev.descriptors"
   ]
  },
  {
   "cell_type": "code",
   "execution_count": 12,
   "metadata": {},
   "outputs": [
    {
     "data": {
      "text/plain": [
       "[(0, 'StandardDeviceDescriptor'),\n",
       " (1, 'StandardConfigurationDescriptor'),\n",
       " (2, 'StandardInterfaceDescriptor'),\n",
       " (3, 'HidDescriptor'),\n",
       " (4, 'StandardEndpointDescriptor')]"
      ]
     },
     "execution_count": 12,
     "metadata": {},
     "output_type": "execute_result"
    }
   ],
   "source": [
    "dev.descriptors_dbos_enum"
   ]
  },
  {
   "cell_type": "code",
   "execution_count": 13,
   "metadata": {},
   "outputs": [
    {
     "name": "stdout",
     "output_type": "stream",
     "text": [
      "StandardDeviceDescriptor\n",
      "\tbLength: 0x12\n",
      "\tbDescriptorType: 0x01\n",
      "\tbcdUSB: 0x0002\n",
      "\tbDeviceClass: 0x00\n",
      "\tbDeviceSubClass: 0x00\n",
      "\tbDeviceProtocol: 0x00\n",
      "\tbMaxPacketSize0: 0x08\n",
      "\tidVendor: 0x5e04\n",
      "\tidProduct: 0x7b07\n",
      "\tbcdDevice: 0x4400\n",
      "\tiManufacturer: 0x01\n",
      "\tiProduct: 0x02\n",
      "\tiSerialNumber: 0x00\n",
      "\tbNumConfigurations: 0x01\n",
      "StandardConfigurationDescriptor\n",
      "\tbLength: 0x09\n",
      "\tbDescriptorType: 0x02\n",
      "\twTotalLength: 0x2200\n",
      "\tbNumInterfaces: 0x01\n",
      "\tbConfigurationValue: 0x01\n",
      "\tiConfiguration: 0x00\n",
      "\tbmAttributes: 0xa0\n",
      "\tbMaxPower: 0x32\n",
      "StandardInterfaceDescriptor\n",
      "\tbLength: 0x09\n",
      "\tbDescriptorType: 0x04\n",
      "\tbInterfaceNumber: 0x00\n",
      "\tbAlternateSetting: 0x00\n",
      "\tbNumEndpoints: 0x01\n",
      "\tbInterfaceClass: 0x03\n",
      "\tbInterfaceSubClass: 0x01\n",
      "\tbInterfaceProtocol: 0x02\n",
      "\tiInterface: 0x00\n",
      "HidDescriptor\n",
      "\tbLength: 0x09\n",
      "\tbDescriptorType: 0x21\n",
      "\tbcdHID: 0x1101\n",
      "\tbCountryCode: 0x00\n",
      "\tbNumDescriptors: 0x01\n",
      "\tbReportDescriptorType: 0x22\n",
      "\twReportDescriptorLength: 0x6c01\n",
      "StandardEndpointDescriptor\n",
      "\tbLength: 0x07\n",
      "\tbDescriptorType: 0x05\n",
      "\tbEndpointAddress: 0x83\n",
      "\tbmAttributes: 0x03\n",
      "\twMaxPacketSize: 0x0800\n",
      "\tbInterval: 0x0a\n"
     ]
    }
   ],
   "source": [
    "dev.print_descriptors_dbos()"
   ]
  },
  {
   "cell_type": "code",
   "execution_count": 14,
   "metadata": {},
   "outputs": [
    {
     "data": {
      "text/plain": [
       "array('B', [5, 12, 9, 1, 161, 1, 5, 1, 9, 2, 161, 2, 133, 19, 5, 12, 10, 56, 2, 149, 1, 117, 8, 21, 129, 37, 127, 129, 6, 192, 133, 32, 6, 0, 255, 21, 0, 38, 255, 0, 117, 8, 149, 18, 10, 10, 250, 177, 2, 133, 46, 6, 0, 255, 21, 0, 38, 255, 0, 117, 8, 149, 7, 10, 10, 250, 177, 2, 133, 47, 6, 0, 255, 21, 0, 38, 255, 0, 117, 8, 149, 7, 10, 10, 250, 129, 2, 133, 24, 6, 0, 255, 21, 0, 38, 255, 0, 117, 8, 149, 1, 10, 10, 250, 177, 2, 133, 22, 5, 12, 25, 0, 42, 255, 3, 149, 1, 117, 16, 21, 0, 38, 255, 3, 129, 0, 6, 0, 255, 26, 1, 253, 42, 255, 253, 21, 1, 38, 255, 0, 117, 8, 129, 0, 129, 1, 133, 23, 10, 6, 255, 21, 0, 37, 1, 53, 1, 69, 1, 149, 1, 117, 2, 177, 2, 10, 15, 255, 69, 16, 149, 1, 117, 2, 177, 2, 10, 4, 255, 53, 0, 69, 0, 149, 1, 117, 1, 177, 2, 117, 3, 177, 1, 133, 28, 6, 0, 255, 10, 37, 255, 21, 0, 37, 4, 117, 8, 149, 1, 129, 2, 10, 38, 255, 117, 16, 21, 0, 39, 255, 255, 129, 2, 192, 5, 1, 9, 2, 161, 1, 5, 1, 9, 2, 161, 2, 133, 16, 9, 1, 161, 0, 5, 9, 25, 1, 41, 5, 149, 5, 117, 1, 37, 0, 37, 1, 129, 2, 117, 3, 149, 1, 129, 1, 5, 1, 9, 48, 9, 49, 149, 2, 117, 16, 22, 1, 128, 38, 255, 127, 129, 6, 161, 2, 133, 18, 9, 72, 149, 1, 117, 2, 21, 0, 37, 1, 53, 1, 69, 1, 177, 2, 133, 16, 9, 56, 53, 0, 69, 0, 21, 129, 37, 127, 117, 8, 129, 6, 192, 161, 2, 133, 18, 9, 72, 117, 2, 21, 0, 37, 1, 53, 1, 69, 16, 177, 2, 53, 0, 69, 0, 117, 4, 177, 1, 133, 16, 5, 12, 21, 129, 37, 127, 117, 8, 10, 56, 2, 129, 6, 192, 192, 192, 192])"
      ]
     },
     "execution_count": 14,
     "metadata": {},
     "output_type": "execute_result"
    }
   ],
   "source": [
    "dev.report_descriptors[0]"
   ]
  },
  {
   "cell_type": "code",
   "execution_count": 15,
   "metadata": {},
   "outputs": [
    {
     "data": {
      "text/plain": [
       "364"
      ]
     },
     "execution_count": 15,
     "metadata": {},
     "output_type": "execute_result"
    }
   ],
   "source": [
    "len(dev.report_descriptors[0])"
   ]
  },
  {
   "cell_type": "code",
   "execution_count": 16,
   "metadata": {
    "scrolled": false
   },
   "outputs": [
    {
     "name": "stdout",
     "output_type": "stream",
     "text": [
      "\n",
      "###################################################\n",
      "array('B', [5, 12, 9, 1, 161, 1, 5, 1, 9, 2, 161, 2, 133, 19, 5, 12, 10, 56, 2, 149, 1, 117, 8, 21, 129, 37, 127, 129, 6, 192, 133, 32, 6, 0, 255, 21, 0, 38, 255, 0, 117, 8, 149, 18, 10, 10, 250, 177, 2, 133, 46, 6, 0, 255, 21, 0, 38, 255, 0, 117, 8, 149, 7, 10, 10, 250, 177, 2, 133, 47, 6, 0, 255, 21, 0, 38, 255, 0, 117, 8, 149, 7, 10, 10, 250, 129, 2, 133, 24, 6, 0, 255, 21, 0, 38, 255, 0, 117, 8, 149, 1, 10, 10, 250, 177, 2, 133, 22, 5, 12, 25, 0, 42, 255, 3, 149, 1, 117, 16, 21, 0, 38, 255, 3, 129, 0, 6, 0, 255, 26, 1, 253, 42, 255, 253, 21, 1, 38, 255, 0, 117, 8, 129, 0, 129, 1, 133, 23, 10, 6, 255, 21, 0, 37, 1, 53, 1, 69, 1, 149, 1, 117, 2, 177, 2, 10, 15, 255, 69, 16, 149, 1, 117, 2, 177, 2, 10, 4, 255, 53, 0, 69, 0, 149, 1, 117, 1, 177, 2, 117, 3, 177, 1, 133, 28, 6, 0, 255, 10, 37, 255, 21, 0, 37, 4, 117, 8, 149, 1, 129, 2, 10, 38, 255, 117, 16, 21, 0, 39, 255, 255, 129, 2, 192, 5, 1, 9, 2, 161, 1, 5, 1, 9, 2, 161, 2, 133, 16, 9, 1, 161, 0, 5, 9, 25, 1, 41, 5, 149, 5, 117, 1, 37, 0, 37, 1, 129, 2, 117, 3, 149, 1, 129, 1, 5, 1, 9, 48, 9, 49, 149, 2, 117, 16, 22, 1, 128, 38, 255, 127, 129, 6, 161, 2, 133, 18, 9, 72, 149, 1, 117, 2, 21, 0, 37, 1, 53, 1, 69, 1, 177, 2, 133, 16, 9, 56, 53, 0, 69, 0, 21, 129, 37, 127, 117, 8, 129, 6, 192, 161, 2, 133, 18, 9, 72, 117, 2, 21, 0, 37, 1, 53, 1, 69, 16, 177, 2, 53, 0, 69, 0, 117, 4, 177, 1, 133, 16, 5, 12, 21, 129, 37, 127, 117, 8, 10, 56, 2, 129, 6, 192, 192, 192, 192])\n",
      "###################################################\n",
      "\n",
      " Usage_Page 12 (Consumer)\n",
      " Usage 1 (Consumer_Control)\n",
      " Collection 1 (Application)\n",
      "\n",
      "   Usage_Page 1 (Generic Desktop)\n",
      "   Usage 2 (Mouse)\n",
      "   Collection 2 (Logical)\n",
      "     Report_ID 19 \n",
      "\n",
      "     Usage_Page 12 (Consumer)\n",
      "     Usage 568 (AC_Pan)\n",
      "     Report_Count 1 \n",
      "     Report_Size 8 \n",
      "     Logical_Minimum -127 \n",
      "     Logical_Maximum 127 \n",
      "     Input 6 (Data | Variable | Relative | No Wrap | Linear | Preferred State | No Null position | Non Volatile | Bit Field)\n",
      "   End_Collection  \n",
      "   Report_ID 32 \n",
      "\n",
      "   Usage_Page 65280 (Unknown)\n",
      "   Logical_Minimum 0 \n",
      "   Logical_Maximum 255 \n",
      "   Report_Size 8 \n",
      "   Report_Count 18 \n",
      "   Usage 64010 \n",
      "   Feature 2 (Data | Variable | Absolute | No Wrap | Linear | Preferred State | No Null position | Non Volatile | Bit Field)\n",
      "   Report_ID 46 \n",
      "\n",
      "   Usage_Page 65280 (Unknown)\n",
      "   Logical_Minimum 0 \n",
      "   Logical_Maximum 255 \n",
      "   Report_Size 8 \n",
      "   Report_Count 7 \n",
      "   Usage 64010 \n",
      "   Feature 2 (Data | Variable | Absolute | No Wrap | Linear | Preferred State | No Null position | Non Volatile | Bit Field)\n",
      "   Report_ID 47 \n",
      "\n",
      "   Usage_Page 65280 (Unknown)\n",
      "   Logical_Minimum 0 \n",
      "   Logical_Maximum 255 \n",
      "   Report_Size 8 \n",
      "   Report_Count 7 \n",
      "   Usage 64010 \n",
      "   Input 2 (Data | Variable | Absolute | No Wrap | Linear | Preferred State | No Null position | Non Volatile | Bit Field)\n",
      "   Report_ID 24 \n",
      "\n",
      "   Usage_Page 65280 (Unknown)\n",
      "   Logical_Minimum 0 \n",
      "   Logical_Maximum 255 \n",
      "   Report_Size 8 \n",
      "   Report_Count 1 \n",
      "   Usage 64010 \n",
      "   Feature 2 (Data | Variable | Absolute | No Wrap | Linear | Preferred State | No Null position | Non Volatile | Bit Field)\n",
      "   Report_ID 22 \n",
      "\n",
      "   Usage_Page 12 (Consumer)\n",
      "   Usage_Minimum 0 \n",
      "   Usage_Maximum 1023 \n",
      "   Report_Count 1 \n",
      "   Report_Size 16 \n",
      "   Logical_Minimum 0 \n",
      "   Logical_Maximum 1023 \n",
      "   Input 0 (Data | Array | Absolute | No Wrap | Linear | Preferred State | No Null position | Non Volatile | Bit Field)\n",
      "\n",
      "   Usage_Page 65280 (Unknown)\n",
      "   Usage_Minimum 64769 \n",
      "   Usage_Maximum 65023 \n",
      "   Logical_Minimum 1 \n",
      "   Logical_Maximum 255 \n",
      "   Report_Size 8 \n",
      "   Input 0 (Data | Array | Absolute | No Wrap | Linear | Preferred State | No Null position | Non Volatile | Bit Field)\n",
      "   Input 1 (Constant | Array | Absolute | No Wrap | Linear | Preferred State | No Null position | Non Volatile | Bit Field)\n",
      "   Report_ID 23 \n",
      "   Usage 65286 \n",
      "   Logical_Minimum 0 \n",
      "   Logical_Maximum 1 \n",
      "   Physical_Minimum 1 \n",
      "   Physical_Maximum 1 \n",
      "   Report_Count 1 \n",
      "   Report_Size 2 \n",
      "   Feature 2 (Data | Variable | Absolute | No Wrap | Linear | Preferred State | No Null position | Non Volatile | Bit Field)\n",
      "   Usage 65295 \n",
      "   Physical_Maximum 16 \n",
      "   Report_Count 1 \n",
      "   Report_Size 2 \n",
      "   Feature 2 (Data | Variable | Absolute | No Wrap | Linear | Preferred State | No Null position | Non Volatile | Bit Field)\n",
      "   Usage 65284 \n",
      "   Physical_Minimum 0 \n",
      "   Physical_Maximum 0 \n",
      "   Report_Count 1 \n",
      "   Report_Size 1 \n",
      "   Feature 2 (Data | Variable | Absolute | No Wrap | Linear | Preferred State | No Null position | Non Volatile | Bit Field)\n",
      "   Report_Size 3 \n",
      "   Feature 1 (Constant | Array | Absolute | No Wrap | Linear | Preferred State | No Null position | Non Volatile | Bit Field)\n",
      "   Report_ID 28 \n",
      "\n",
      "   Usage_Page 65280 (Unknown)\n",
      "   Usage 65317 \n",
      "   Logical_Minimum 0 \n",
      "   Logical_Maximum 4 \n",
      "   Report_Size 8 \n",
      "   Report_Count 1 \n",
      "   Input 2 (Data | Variable | Absolute | No Wrap | Linear | Preferred State | No Null position | Non Volatile | Bit Field)\n",
      "   Usage 65318 \n",
      "   Report_Size 16 \n",
      "   Logical_Minimum 0 \n",
      "   Logical_Maximum 42074111 \n",
      " End_Collection  \n",
      "\n",
      " Usage_Page 1 (Generic Desktop)\n",
      " Usage 2 (Mouse)\n",
      " Collection 1 (Application)\n",
      "\n",
      "   Usage_Page 1 (Generic Desktop)\n",
      "   Usage 2 (Mouse)\n",
      "   Collection 2 (Logical)\n",
      "     Report_ID 16 \n",
      "     Usage 1 (Pointer)\n",
      "     Collection 0 (Physical)\n",
      "\n",
      "       Usage_Page 9 (Button)\n",
      "       Usage_Minimum 1 \n",
      "       Usage_Maximum 5 \n",
      "       Report_Count 5 \n",
      "       Report_Size 1 \n",
      "       Logical_Maximum 0 \n",
      "       Logical_Maximum 1 \n",
      "       Input 2 (Data | Variable | Absolute | No Wrap | Linear | Preferred State | No Null position | Non Volatile | Bit Field)\n",
      "       Report_Size 3 \n",
      "       Report_Count 1 \n",
      "       Input 1 (Constant | Array | Absolute | No Wrap | Linear | Preferred State | No Null position | Non Volatile | Bit Field)\n",
      "\n",
      "       Usage_Page 1 (Generic Desktop)\n",
      "       Usage 48 (X)\n",
      "       Usage 49 (Y)\n",
      "       Report_Count 2 \n",
      "       Report_Size 16 \n",
      "       Logical_Minimum -32767 \n",
      "       Logical_Maximum 32767 \n",
      "       Input 6 (Data | Variable | Relative | No Wrap | Linear | Preferred State | No Null position | Non Volatile | Bit Field)\n",
      "       Collection 2 (Logical)\n",
      "         Report_ID 18 \n",
      "         Usage 72 (Resolution_Multiplier)\n",
      "         Report_Count 1 \n",
      "         Report_Size 2 \n",
      "         Logical_Minimum 0 \n",
      "         Logical_Maximum 1 \n",
      "         Physical_Minimum 1 \n",
      "         Physical_Maximum 1 \n",
      "         Feature 2 (Data | Variable | Absolute | No Wrap | Linear | Preferred State | No Null position | Non Volatile | Bit Field)\n",
      "         Report_ID 16 \n",
      "         Usage 56 (Wheel)\n",
      "         Physical_Minimum 0 \n",
      "         Physical_Maximum 0 \n",
      "         Logical_Minimum -127 \n",
      "         Logical_Maximum 127 \n",
      "         Report_Size 8 \n",
      "         Input 6 (Data | Variable | Relative | No Wrap | Linear | Preferred State | No Null position | Non Volatile | Bit Field)\n",
      "       End_Collection  \n",
      "       Collection 2 (Logical)\n",
      "         Report_ID 18 \n",
      "         Usage 72 (Resolution_Multiplier)\n",
      "         Report_Size 2 \n",
      "         Logical_Minimum 0 \n",
      "         Logical_Maximum 1 \n",
      "         Physical_Minimum 1 \n",
      "         Physical_Maximum 16 \n",
      "         Feature 2 (Data | Variable | Absolute | No Wrap | Linear | Preferred State | No Null position | Non Volatile | Bit Field)\n",
      "         Physical_Minimum 0 \n",
      "         Physical_Maximum 0 \n",
      "         Report_Size 4 \n",
      "         Feature 1 (Constant | Array | Absolute | No Wrap | Linear | Preferred State | No Null position | Non Volatile | Bit Field)\n",
      "         Report_ID 16 \n",
      "\n",
      "         Usage_Page 12 (Consumer)\n",
      "         Logical_Minimum -127 \n",
      "         Logical_Maximum 127 \n",
      "         Report_Size 8 \n",
      "         Usage 568 (AC_Pan)\n",
      "         Input 6 (Data | Variable | Relative | No Wrap | Linear | Preferred State | No Null position | Non Volatile | Bit Field)\n",
      "       End_Collection  \n",
      "     End_Collection  \n",
      "   End_Collection  \n",
      " End_Collection  \n",
      "\n"
     ]
    }
   ],
   "source": [
    "print(dev.report_descriptor_dbos[0].parse())"
   ]
  },
  {
   "cell_type": "markdown",
   "metadata": {},
   "source": [
    "## Get Reports"
   ]
  },
  {
   "cell_type": "code",
   "execution_count": 17,
   "metadata": {},
   "outputs": [
    {
     "data": {
      "text/plain": [
       "{131: <ENDPOINT 0x83: Interrupt IN>}"
      ]
     },
     "execution_count": 17,
     "metadata": {},
     "output_type": "execute_result"
    }
   ],
   "source": [
    "dev.endpoints"
   ]
  },
  {
   "cell_type": "code",
   "execution_count": 18,
   "metadata": {},
   "outputs": [
    {
     "name": "stdout",
     "output_type": "stream",
     "text": [
      "array('B', [16, 0, 0, 0, 17, 0, 0, 0])\n",
      "array('B', [16, 0, 241, 255, 123, 0, 0, 0])\n",
      "array('B', [16, 0, 115, 255, 57, 1, 0, 0])\n",
      "array('B', [16, 0, 246, 255, 246, 255, 0, 0])\n",
      "array('B', [16, 0, 247, 255, 241, 255, 0, 0])\n",
      "array('B', [16, 0, 243, 255, 239, 255, 0, 0])\n",
      "array('B', [16, 0, 244, 255, 236, 255, 0, 0])\n",
      "array('B', [16, 0, 243, 255, 234, 255, 0, 0])\n",
      "array('B', [16, 0, 245, 255, 229, 255, 0, 0])\n",
      "array('B', [16, 0, 244, 255, 225, 255, 0, 0])\n",
      "array('B', [16, 0, 244, 255, 223, 255, 0, 0])\n",
      "array('B', [16, 0, 245, 255, 220, 255, 0, 0])\n",
      "array('B', [16, 0, 246, 255, 216, 255, 0, 0])\n",
      "array('B', [16, 0, 246, 255, 214, 255, 0, 0])\n",
      "array('B', [16, 0, 247, 255, 215, 255, 0, 0])\n",
      "array('B', [16, 0, 247, 255, 211, 255, 0, 0])\n",
      "array('B', [16, 0, 247, 255, 211, 255, 0, 0])\n",
      "array('B', [16, 0, 248, 255, 209, 255, 0, 0])\n",
      "array('B', [16, 0, 249, 255, 203, 255, 0, 0])\n",
      "array('B', [16, 0, 247, 255, 205, 255, 0, 0])\n"
     ]
    }
   ],
   "source": [
    "collected = 0\n",
    "attempts = 20\n",
    "\n",
    "ep = dev.endpoints[131]\n",
    "\n",
    "while collected < attempts :\n",
    "    try:\n",
    "        data = ep.read(8)\n",
    "        collected += 1\n",
    "        print (data)\n",
    "        \n",
    "    except usb.core.USBError as e:\n",
    "        print(e)\n",
    "\n",
    "usb.util.release_interface(dev, 0)"
   ]
  },
  {
   "cell_type": "code",
   "execution_count": 19,
   "metadata": {},
   "outputs": [],
   "source": [
    "from time import time \n",
    "\n",
    "def get_mouse_offset(endpoint, length = 8):    \n",
    "    try:\n",
    "        data = ep.read(8)\n",
    "        t = time()\n",
    "        x, y = (OrmClassBase.byte_array_to_int(data[i:i+2], byteorder = 'little', signed = True) for i in (2, 4))\n",
    "        return (t, x, y)\n",
    "    \n",
    "    except usb.core.USBError as e:\n",
    "        return None\n",
    "    \n",
    "\n",
    "def trace_mouse(endpoint, attempts = 500, length = 8):    \n",
    "    collected = 0\n",
    "    traces = []\n",
    "\n",
    "    while collected < attempts :\n",
    "        result = get_mouse_offset(ep, length = 8)\n",
    "        \n",
    "        if result is not None: \n",
    "            traces.append(result)\n",
    "            collected += 1\n",
    "\n",
    "    usb.util.release_interface(ep.device, 0)\n",
    "    \n",
    "    return traces"
   ]
  },
  {
   "cell_type": "code",
   "execution_count": 20,
   "metadata": {},
   "outputs": [
    {
     "data": {
      "text/plain": [
       "[(1576141143.503261, -7, -51),\n",
       " (1576141143.5113769, -8, -47),\n",
       " (1576141143.5193682, -27, -162),\n",
       " (1576141143.5272968, -8, -41),\n",
       " (1576141143.5357687, -8, -42)]"
      ]
     },
     "execution_count": 20,
     "metadata": {},
     "output_type": "execute_result"
    }
   ],
   "source": [
    "ep = dev.endpoints[131]\n",
    "\n",
    "traces = trace_mouse(ep, attempts = 500)\n",
    "traces[:5]"
   ]
  },
  {
   "cell_type": "code",
   "execution_count": 21,
   "metadata": {},
   "outputs": [
    {
     "data": {
      "image/png": "[encoded data removed]",
      "text/plain": [
       "<Figure size 432x288 with 1 Axes>"
      ]
     },
     "metadata": {
      "needs_background": "light"
     },
     "output_type": "display_data"
    }
   ],
   "source": [
    "traces = np.array(traces)\n",
    "\n",
    "t = traces[:, 0]\n",
    "y = traces[:, 2]\n",
    "y = np.cumsum(y)\n",
    "\n",
    "plt.plot(t, y);"
   ]
  }
 ],
 "metadata": {
  "kernelspec": {
   "display_name": "Python 3",
   "language": "python",
   "name": "python3"
  },
  "language_info": {
   "codemirror_mode": {
    "name": "ipython",
    "version": 3
   },
   "file_extension": ".py",
   "mimetype": "text/x-python",
   "name": "python",
   "nbconvert_exporter": "python",
   "pygments_lexer": "ipython3",
   "version": "3.6.9"
  }
 },
 "nbformat": 4,
 "nbformat_minor": 2
}
