{
 "cells": [
  {
   "cell_type": "markdown",
   "metadata": {},
   "source": [
    "# USB HID device 互動\n",
    "https://www.orangecoat.com/how-to/read-and-decode-data-from-your-mouse-using-this-pyusb-hack  "
   ]
  },
  {
   "cell_type": "markdown",
   "metadata": {},
   "source": [
    "### 需安裝\n",
    "\n",
    "```\n",
    "pip install pyusb\n",
    "\n",
    "```\n",
    "\n",
    "### Windows DLL\n",
    "[libusb-win32-devel-filter-1.2.6.0.exe](https://sourceforge.net/projects/libusb-win32/files/libusb-win32-releases/1.2.6.0/)  \n",
    "\n",
    "https://sourceforge.net/projects/libusb-win32/  \n",
    "\n",
    "\n",
    "\n",
    "### Linux 權限\n",
    "https://ubuntuforums.org/showthread.php?t=1682084  \n",
    "https://linuxconfig.org/tutorial-on-how-to-write-basic-udev-rules-in-linux  \n",
    "```\n",
    "If anyone is interested.. fixed with udev rule:\n",
    "\n",
    "cd /etc/udev/rules.d/\n",
    "\n",
    "nano 70-ch341.rules\n",
    "\n",
    "SUBSYSTEM==\"usb\", ATTRS{idVendor}==\"1a86\", GROUP=\"dialout\"\n",
    "SUBSYSTEM==\"usb\", ATTRS{idVendor}==\"1a86\", MODE=\"666\"\n",
    "\n",
    "then reloaded udev rules:\n",
    "\n",
    "$ sudo udevadm control --reload-rules  \n",
    "$ sudo udevadm trigger\n",
    "\n",
    "```"
   ]
  },
  {
   "cell_type": "code",
   "execution_count": 1,
   "metadata": {},
   "outputs": [],
   "source": [
    "import os, sys\n",
    "\n",
    "def gen_relative_path(target_path): \n",
    "    \n",
    "    def del_same_parents(target_path, current_path):\n",
    "        if target_path[0] == current_path[0]:\n",
    "            target_path.pop(0)\n",
    "            current_path.pop(0)\n",
    "            del_same_parents(target_path, current_path)\n",
    "            \n",
    "    current_path = os.getcwd().replace('\\\\', '/').split('/')\n",
    "    target_path = target_path.replace('\\\\', '/').split('/')\n",
    "    del_same_parents(target_path, current_path)\n",
    "    \n",
    "    return ['..'] * len(current_path) + target_path\n",
    "\n",
    "\n",
    "def append_source_relative_path(source_relative_path):\n",
    "    sys.path.append(os.sep.join(source_relative_path))"
   ]
  },
  {
   "cell_type": "code",
   "execution_count": 2,
   "metadata": {},
   "outputs": [],
   "source": [
    "paths = [['..', '..', '..', '..', 'Universal Serial Bus', 'bitbucket', 'github', 'codes'], \n",
    "         ['..', '..', '..', '..', '..', 'ORM', 'bitbucket', 'github', 'codes'],\n",
    "         ['..', 'codes']]\n",
    "\n",
    "for path in paths:\n",
    "    append_source_relative_path(path)"
   ]
  },
  {
   "cell_type": "code",
   "execution_count": 3,
   "metadata": {},
   "outputs": [
    {
     "name": "stdout",
     "output_type": "stream",
     "text": [
      "Populating the interactive namespace from numpy and matplotlib\n"
     ]
    }
   ],
   "source": [
    "%pylab inline  \n",
    "\n",
    "from universal_serial_bus import * "
   ]
  },
  {
   "cell_type": "markdown",
   "metadata": {},
   "source": [
    "# Choose devices"
   ]
  },
  {
   "cell_type": "code",
   "execution_count": 4,
   "metadata": {},
   "outputs": [
    {
     "data": {
      "text/plain": [
       "([<DEVICE ID 046d:c52b on Bus 000 Address 001>,\n",
       "  <DEVICE ID 046d:c52b on Bus 000 Address 004>,\n",
       "  <DEVICE ID 046d:c52b on Bus 000 Address 005>,\n",
       "  <DEVICE ID 046d:c52b on Bus 000 Address 006>,\n",
       "  <DEVICE ID 045e:077b on Bus 000 Address 008>],\n",
       " [(1118, 1915), (1133, 50475)])"
      ]
     },
     "execution_count": 4,
     "metadata": {},
     "output_type": "execute_result"
    }
   ],
   "source": [
    "devices = find_all_devices_by_class(DEVICE_CLASS.Human_Interface_Device)\n",
    "devices"
   ]
  },
  {
   "cell_type": "code",
   "execution_count": 6,
   "metadata": {},
   "outputs": [
    {
     "data": {
      "text/plain": [
       "[array('B', [18, 1, 0, 2, 0, 0, 0, 8, 94, 4, 123, 7, 68, 0, 1, 2, 0, 1]),\n",
       " array('B', [9, 2, 34, 0, 1, 1, 0, 160, 50]),\n",
       " array('B', [9, 4, 0, 0, 1, 3, 1, 2, 0]),\n",
       " array('B', [9, 33, 17, 1, 0, 1, 34, 108, 1]),\n",
       " array('B', [7, 5, 131, 3, 8, 0, 10])]"
      ]
     },
     "execution_count": 6,
     "metadata": {},
     "output_type": "execute_result"
    }
   ],
   "source": [
    "# dev = USBdevice(0x4d9, 0x2011) # Filco KB\n",
    "dev = USBdevice(1118, 1915) # MS mouse \n",
    "# dev = USBdevice(0x1b3f, 0x2008) # Sound Card\n",
    "# dev = USBdevice(0x2341, 0x8036) # Arduino Leonardo  \n",
    "    \n",
    "dev.descriptors"
   ]
  },
  {
   "cell_type": "code",
   "execution_count": 8,
   "metadata": {},
   "outputs": [
    {
     "data": {
      "text/plain": [
       "{131: <ENDPOINT 0x83: Interrupt IN>}"
      ]
     },
     "execution_count": 8,
     "metadata": {},
     "output_type": "execute_result"
    }
   ],
   "source": [
    "dev.endpoints"
   ]
  },
  {
   "cell_type": "markdown",
   "metadata": {},
   "source": [
    "## Get Reports"
   ]
  },
  {
   "cell_type": "code",
   "execution_count": 9,
   "metadata": {
    "scrolled": false
   },
   "outputs": [
    {
     "name": "stdout",
     "output_type": "stream",
     "text": [
      "array('B', [16, 0, 252, 255, 254, 255, 0, 0])\n",
      "array('B', [16, 0, 253, 255, 252, 255, 0, 0])\n",
      "array('B', [16, 0, 5, 252, 132, 254, 0, 0])\n",
      "array('B', [16, 0, 2, 0, 0, 0, 0, 0])\n",
      "array('B', [16, 0, 1, 0, 1, 0, 0, 0])\n",
      "array('B', [16, 0, 0, 0, 1, 0, 0, 0])\n",
      "array('B', [16, 0, 1, 0, 0, 0, 0, 0])\n",
      "array('B', [16, 0, 1, 0, 0, 0, 0, 0])\n",
      "array('B', [16, 0, 1, 0, 1, 0, 0, 0])\n",
      "array('B', [16, 0, 2, 0, 1, 0, 0, 0])\n",
      "array('B', [16, 0, 2, 0, 0, 0, 0, 0])\n",
      "array('B', [16, 0, 2, 0, 2, 0, 0, 0])\n",
      "array('B', [16, 0, 3, 0, 1, 0, 0, 0])\n",
      "array('B', [16, 0, 2, 0, 1, 0, 0, 0])\n",
      "array('B', [16, 0, 4, 0, 2, 0, 0, 0])\n",
      "array('B', [16, 0, 4, 0, 2, 0, 0, 0])\n",
      "array('B', [16, 0, 4, 0, 2, 0, 0, 0])\n",
      "array('B', [16, 0, 6, 0, 2, 0, 0, 0])\n",
      "array('B', [16, 0, 5, 0, 4, 0, 0, 0])\n",
      "array('B', [16, 0, 5, 0, 1, 0, 0, 0])\n",
      "array('B', [16, 0, 5, 0, 2, 0, 0, 0])\n",
      "array('B', [16, 0, 4, 0, 2, 0, 0, 0])\n",
      "array('B', [16, 0, 5, 0, 2, 0, 0, 0])\n",
      "array('B', [16, 0, 4, 0, 1, 0, 0, 0])\n",
      "array('B', [16, 0, 4, 0, 2, 0, 0, 0])\n",
      "array('B', [16, 0, 4, 0, 1, 0, 0, 0])\n",
      "array('B', [16, 0, 5, 0, 2, 0, 0, 0])\n",
      "array('B', [16, 0, 6, 0, 2, 0, 0, 0])\n",
      "array('B', [16, 0, 6, 0, 2, 0, 0, 0])\n",
      "array('B', [16, 0, 7, 0, 2, 0, 0, 0])\n",
      "array('B', [16, 0, 7, 0, 1, 0, 0, 0])\n",
      "array('B', [16, 0, 9, 0, 3, 0, 0, 0])\n",
      "array('B', [16, 0, 10, 0, 1, 0, 0, 0])\n",
      "array('B', [16, 0, 10, 0, 2, 0, 0, 0])\n",
      "array('B', [16, 0, 13, 0, 2, 0, 0, 0])\n",
      "array('B', [16, 0, 11, 0, 1, 0, 0, 0])\n",
      "array('B', [16, 0, 13, 0, 1, 0, 0, 0])\n",
      "array('B', [16, 0, 14, 0, 1, 0, 0, 0])\n",
      "array('B', [16, 0, 17, 0, 2, 0, 0, 0])\n",
      "array('B', [16, 0, 15, 0, 2, 0, 0, 0])\n",
      "array('B', [16, 0, 18, 0, 2, 0, 0, 0])\n",
      "array('B', [16, 0, 19, 0, 1, 0, 0, 0])\n",
      "array('B', [16, 0, 19, 0, 2, 0, 0, 0])\n",
      "array('B', [16, 0, 20, 0, 1, 0, 0, 0])\n",
      "array('B', [16, 0, 21, 0, 1, 0, 0, 0])\n",
      "array('B', [16, 0, 19, 0, 0, 0, 0, 0])\n",
      "array('B', [16, 0, 17, 0, 0, 0, 0, 0])\n",
      "array('B', [16, 0, 14, 0, 0, 0, 0, 0])\n",
      "array('B', [16, 0, 8, 0, 255, 255, 0, 0])\n",
      "array('B', [16, 0, 4, 0, 254, 255, 0, 0])\n"
     ]
    }
   ],
   "source": [
    "collected = 0\n",
    "attempts = 50\n",
    "\n",
    "ep = dev.endpoints[131]\n",
    "\n",
    "while collected < attempts :\n",
    "    try:\n",
    "        data = ep.read(8)\n",
    "        collected += 1\n",
    "        print (data)\n",
    "        \n",
    "    except usb.core.USBError as e:\n",
    "        print(e)"
   ]
  }
 ],
 "metadata": {
  "kernelspec": {
   "display_name": "Python 3",
   "language": "python",
   "name": "python3"
  },
  "language_info": {
   "codemirror_mode": {
    "name": "ipython",
    "version": 3
   },
   "file_extension": ".py",
   "mimetype": "text/x-python",
   "name": "python",
   "nbconvert_exporter": "python",
   "pygments_lexer": "ipython3",
   "version": "3.6.10"
  }
 },
 "nbformat": 4,
 "nbformat_minor": 2
}
