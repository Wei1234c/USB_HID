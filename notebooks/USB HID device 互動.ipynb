{
 "cells": [
  {
   "cell_type": "markdown",
   "metadata": {},
   "source": [
    "# USB HID device 互動\n",
    "https://www.orangecoat.com/how-to/read-and-decode-data-from-your-mouse-using-this-pyusb-hack  "
   ]
  },
  {
   "cell_type": "markdown",
   "metadata": {},
   "source": [
    "### 需安裝\n",
    "\n",
    "```\n",
    "pip install pyusb\n",
    "\n",
    "```\n",
    "\n",
    "### Windows DLL\n",
    "[libusb-win32-devel-filter-1.2.6.0.exe](https://sourceforge.net/projects/libusb-win32/files/libusb-win32-releases/1.2.6.0/)  \n",
    "\n",
    "https://sourceforge.net/projects/libusb-win32/  \n",
    "\n",
    "\n",
    "\n",
    "### Linux 權限\n",
    "https://ubuntuforums.org/showthread.php?t=1682084  \n",
    "https://linuxconfig.org/tutorial-on-how-to-write-basic-udev-rules-in-linux  \n",
    "```\n",
    "If anyone is interested.. fixed with udev rule:\n",
    "\n",
    "cd /etc/udev/rules.d/\n",
    "\n",
    "nano 70-ch341.rules\n",
    "\n",
    "SUBSYSTEM==\"usb\", ATTRS{idVendor}==\"1a86\", GROUP=\"dialout\"\n",
    "SUBSYSTEM==\"usb\", ATTRS{idVendor}==\"1a86\", MODE=\"666\"\n",
    "\n",
    "then reloaded udev rules:\n",
    "\n",
    "$ sudo udevadm control --reload-rules  \n",
    "$ sudo udevadm trigger\n",
    "\n",
    "```"
   ]
  },
  {
   "cell_type": "code",
   "execution_count": 1,
   "metadata": {},
   "outputs": [
    {
     "name": "stdout",
     "output_type": "stream",
     "text": [
      "Populating the interactive namespace from numpy and matplotlib\n"
     ]
    }
   ],
   "source": [
    "%pylab inline  "
   ]
  },
  {
   "cell_type": "code",
   "execution_count": 2,
   "metadata": {},
   "outputs": [],
   "source": [
    "import os\n",
    "import sys\n",
    "\n",
    "sys.path.append(os.path.abspath(os.path.join('..', 'codes')))\n",
    "\n",
    "path = os.sep.join(['..', '..', '..', '..', '..', '..', '待處理', 'USB', 'Universal Serial Bus', 'bitbucket', 'github', 'codes'])\n",
    "sys.path.append(path) \n",
    "\n",
    "path = os.sep.join(['..', '..', '..', '..', '..', '..', '待處理', 'ORM', 'bitbucket', 'github', 'codes'])\n",
    "sys.path.append(path) \n",
    "\n",
    "from universal_serial_bus import * "
   ]
  },
  {
   "cell_type": "markdown",
   "metadata": {},
   "source": [
    "# Choose devices"
   ]
  },
  {
   "cell_type": "code",
   "execution_count": 3,
   "metadata": {},
   "outputs": [
    {
     "data": {
      "text/plain": [
       "([<DEVICE ID 046d:c52b on Bus 000 Address 002>,\n",
       "  <DEVICE ID 046d:c52b on Bus 000 Address 003>,\n",
       "  <DEVICE ID 046d:c52b on Bus 000 Address 004>,\n",
       "  <DEVICE ID 046d:c52b on Bus 000 Address 005>,\n",
       "  <DEVICE ID 045e:077b on Bus 000 Address 009>],\n",
       " [(1118, 1915), (1133, 50475)])"
      ]
     },
     "execution_count": 3,
     "metadata": {},
     "output_type": "execute_result"
    }
   ],
   "source": [
    "devices = find_all_devices_by_class(DEVICE_CLASS.Human_Interface_Device)\n",
    "devices"
   ]
  },
  {
   "cell_type": "code",
   "execution_count": 4,
   "metadata": {},
   "outputs": [
    {
     "data": {
      "text/plain": [
       "[array('B', [18, 1, 0, 2, 0, 0, 0, 8, 94, 4, 123, 7, 68, 0, 1, 2, 0, 1]),\n",
       " array('B', [9, 2, 34, 0, 1, 1, 0, 160, 50]),\n",
       " array('B', [9, 4, 0, 0, 1, 3, 1, 2, 0]),\n",
       " array('B', [9, 33, 17, 1, 0, 1, 34, 108, 1]),\n",
       " array('B', [7, 5, 131, 3, 8, 0, 10])]"
      ]
     },
     "execution_count": 4,
     "metadata": {},
     "output_type": "execute_result"
    }
   ],
   "source": [
    "\n",
    "# dev = USBdevice(0x4d9, 0x2011) # Filco KB\n",
    "dev = USBdevice(0x045e, 0x077b) # MS mouse \n",
    "# dev = USBdevice(0x1b3f, 0x2008) # Sound Card\n",
    "# dev = USBdevice(0x2341, 0x8036) # Arduino Leonardo\n",
    "  \n",
    "    \n",
    "dev.descriptors"
   ]
  },
  {
   "cell_type": "code",
   "execution_count": 5,
   "metadata": {},
   "outputs": [
    {
     "data": {
      "text/plain": [
       "{131: <ENDPOINT 0x83: Interrupt IN>}"
      ]
     },
     "execution_count": 5,
     "metadata": {},
     "output_type": "execute_result"
    }
   ],
   "source": [
    "dev.endpoints"
   ]
  },
  {
   "cell_type": "markdown",
   "metadata": {},
   "source": [
    "## Get Reports"
   ]
  },
  {
   "cell_type": "code",
   "execution_count": 6,
   "metadata": {
    "scrolled": false
   },
   "outputs": [
    {
     "name": "stdout",
     "output_type": "stream",
     "text": [
      "array('B', [16, 0, 11, 0, 253, 255, 0, 0])\n",
      "array('B', [16, 0, 13, 0, 255, 255, 0, 0])\n",
      "array('B', [16, 0, 55, 254, 162, 255, 0, 0])\n",
      "array('B', [16, 0, 6, 0, 7, 0, 0, 0])\n",
      "array('B', [16, 0, 8, 0, 12, 0, 0, 0])\n",
      "array('B', [16, 0, 8, 0, 12, 0, 0, 0])\n",
      "array('B', [16, 0, 9, 0, 13, 0, 0, 0])\n",
      "array('B', [16, 0, 8, 0, 13, 0, 0, 0])\n",
      "array('B', [16, 0, 10, 0, 16, 0, 0, 0])\n",
      "array('B', [16, 0, 8, 0, 17, 0, 0, 0])\n",
      "array('B', [16, 0, 11, 0, 18, 0, 0, 0])\n",
      "array('B', [16, 0, 9, 0, 20, 0, 0, 0])\n",
      "array('B', [16, 0, 11, 0, 22, 0, 0, 0])\n",
      "array('B', [16, 0, 12, 0, 20, 0, 0, 0])\n",
      "array('B', [16, 0, 14, 0, 22, 0, 0, 0])\n",
      "array('B', [16, 0, 13, 0, 22, 0, 0, 0])\n",
      "array('B', [16, 0, 14, 0, 22, 0, 0, 0])\n",
      "array('B', [16, 0, 14, 0, 23, 0, 0, 0])\n",
      "array('B', [16, 0, 14, 0, 22, 0, 0, 0])\n",
      "array('B', [16, 0, 14, 0, 24, 0, 0, 0])\n",
      "array('B', [16, 0, 14, 0, 23, 0, 0, 0])\n",
      "array('B', [16, 0, 12, 0, 22, 0, 0, 0])\n",
      "array('B', [16, 0, 12, 0, 24, 0, 0, 0])\n",
      "array('B', [16, 0, 13, 0, 22, 0, 0, 0])\n",
      "array('B', [16, 0, 13, 0, 23, 0, 0, 0])\n",
      "array('B', [16, 0, 11, 0, 22, 0, 0, 0])\n",
      "array('B', [16, 0, 10, 0, 18, 0, 0, 0])\n",
      "array('B', [16, 0, 7, 0, 19, 0, 0, 0])\n",
      "array('B', [16, 0, 5, 0, 15, 0, 0, 0])\n",
      "array('B', [16, 0, 2, 0, 12, 0, 0, 0])\n",
      "array('B', [16, 0, 1, 0, 10, 0, 0, 0])\n",
      "array('B', [16, 0, 255, 255, 8, 0, 0, 0])\n",
      "array('B', [16, 0, 252, 255, 9, 0, 0, 0])\n",
      "array('B', [16, 0, 248, 255, 9, 0, 0, 0])\n",
      "array('B', [16, 0, 248, 255, 7, 0, 0, 0])\n",
      "array('B', [16, 0, 243, 255, 7, 0, 0, 0])\n",
      "array('B', [16, 0, 239, 255, 6, 0, 0, 0])\n",
      "array('B', [16, 0, 235, 255, 4, 0, 0, 0])\n",
      "array('B', [16, 0, 232, 255, 2, 0, 0, 0])\n",
      "array('B', [16, 0, 227, 255, 0, 0, 0, 0])\n",
      "array('B', [16, 0, 224, 255, 255, 255, 0, 0])\n",
      "array('B', [16, 0, 221, 255, 250, 255, 0, 0])\n",
      "array('B', [16, 0, 216, 255, 248, 255, 0, 0])\n",
      "array('B', [16, 0, 221, 255, 246, 255, 0, 0])\n",
      "array('B', [16, 0, 224, 255, 245, 255, 0, 0])\n",
      "array('B', [16, 0, 229, 255, 243, 255, 0, 0])\n",
      "array('B', [16, 0, 232, 255, 238, 255, 0, 0])\n",
      "array('B', [16, 0, 235, 255, 237, 255, 0, 0])\n",
      "array('B', [16, 0, 236, 255, 238, 255, 0, 0])\n",
      "array('B', [16, 0, 244, 255, 242, 255, 0, 0])\n"
     ]
    }
   ],
   "source": [
    "collected = 0\n",
    "attempts = 50\n",
    "\n",
    "ep = dev.endpoints[131]\n",
    "\n",
    "while collected < attempts :\n",
    "    try:\n",
    "        data = ep.read(8)\n",
    "        collected += 1\n",
    "        print (data)\n",
    "        \n",
    "    except usb.core.USBError as e:\n",
    "        print(e)"
   ]
  }
 ],
 "metadata": {
  "kernelspec": {
   "display_name": "Python 3",
   "language": "python",
   "name": "python3"
  },
  "language_info": {
   "codemirror_mode": {
    "name": "ipython",
    "version": 3
   },
   "file_extension": ".py",
   "mimetype": "text/x-python",
   "name": "python",
   "nbconvert_exporter": "python",
   "pygments_lexer": "ipython3",
   "version": "3.6.9"
  }
 },
 "nbformat": 4,
 "nbformat_minor": 2
}
