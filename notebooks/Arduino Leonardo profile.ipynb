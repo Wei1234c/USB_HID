{
 "cells": [
  {
   "cell_type": "markdown",
   "metadata": {},
   "source": [
    "# Arduino Leonardo profile"
   ]
  },
  {
   "cell_type": "markdown",
   "metadata": {},
   "source": [
    "### 需安裝\n",
    "\n",
    "```\n",
    "pip install pyusb\n",
    "\n",
    "```\n",
    "\n",
    "### Windows DLL\n",
    "[libusb-win32-devel-filter-1.2.6.0.exe](https://sourceforge.net/projects/libusb-win32/files/libusb-win32-releases/1.2.6.0/)  \n",
    "\n",
    "https://sourceforge.net/projects/libusb-win32/  \n",
    "\n",
    "\n",
    "\n",
    "### Linux 權限\n",
    "https://ubuntuforums.org/showthread.php?t=1682084  \n",
    "https://linuxconfig.org/tutorial-on-how-to-write-basic-udev-rules-in-linux  \n",
    "```\n",
    "If anyone is interested.. fixed with udev rule:\n",
    "\n",
    "cd /etc/udev/rules.d/\n",
    "\n",
    "nano 70-ch341.rules\n",
    "\n",
    "SUBSYSTEM==\"usb\", ATTRS{idVendor}==\"1a86\", GROUP=\"dialout\"\n",
    "SUBSYSTEM==\"usb\", ATTRS{idVendor}==\"1a86\", MODE=\"666\"\n",
    "\n",
    "then reloaded udev rules:\n",
    "\n",
    "$ sudo udevadm control --reload-rules  \n",
    "$ sudo udevadm trigger\n",
    "\n",
    "```"
   ]
  },
  {
   "cell_type": "code",
   "execution_count": 1,
   "metadata": {},
   "outputs": [
    {
     "name": "stdout",
     "output_type": "stream",
     "text": [
      "Populating the interactive namespace from numpy and matplotlib\n"
     ]
    }
   ],
   "source": [
    "%pylab inline  "
   ]
  },
  {
   "cell_type": "code",
   "execution_count": 2,
   "metadata": {},
   "outputs": [],
   "source": [
    "import os\n",
    "import sys\n",
    "\n",
    "sys.path.append(os.path.abspath(os.path.join('..', 'codes')))\n",
    "\n",
    "path = os.sep.join(['..', '..', '..', '..', '..', '..', '待處理', 'USB', 'Universal Serial Bus', 'bitbucket', 'github', 'codes'])\n",
    "sys.path.append(path) \n",
    "\n",
    "path = os.sep.join(['..', '..', '..', '..', '..', '..', '待處理', 'ORM', 'bitbucket', 'github', 'codes'])\n",
    "sys.path.append(path)\n",
    " \n",
    "from orm.alchemy import *"
   ]
  },
  {
   "cell_type": "markdown",
   "metadata": {},
   "source": [
    "## Device"
   ]
  },
  {
   "cell_type": "code",
   "execution_count": 3,
   "metadata": {},
   "outputs": [
    {
     "data": {
      "text/plain": [
       "[('0x45e', '0x77b'), ('0x46d', '0xc52b')]"
      ]
     },
     "execution_count": 3,
     "metadata": {},
     "output_type": "execute_result"
    }
   ],
   "source": [
    "import universal_serial_bus\n",
    "from universal_serial_bus import find_all_devices_by_class\n",
    "\n",
    "devices, devices_ids = find_all_devices_by_class(universal_serial_bus.legacy.DEVICE_CLASS.Human_Interface_Device)\n",
    "[(hex(v), hex(p)) for (v, p) in devices_ids]"
   ]
  },
  {
   "cell_type": "code",
   "execution_count": 4,
   "metadata": {},
   "outputs": [],
   "source": [
    "from usb_hid.orm.hid111 import HIDdevice \n",
    "\n",
    "# device = HIDdevice(0x4d9, 0x2011) # Filco KB\n",
    "# device = HIDdevice(0x045e, 0x077b) # MS mouse \n",
    "# device = HIDdevice(0x1b3f, 0x2008) # Sound Card\n",
    "device = HIDdevice(0x2341, 0x8036) # Arduino Leonardo\n",
    "  \n",
    "# print(device)"
   ]
  },
  {
   "cell_type": "code",
   "execution_count": 5,
   "metadata": {},
   "outputs": [],
   "source": [
    "# device.reset()"
   ]
  },
  {
   "cell_type": "markdown",
   "metadata": {},
   "source": [
    "## Descriptors"
   ]
  },
  {
   "cell_type": "code",
   "execution_count": 6,
   "metadata": {},
   "outputs": [
    {
     "data": {
      "text/plain": [
       "[array('B', [18, 1, 0, 2, 0, 0, 0, 8, 94, 4, 123, 7, 68, 0, 1, 2, 0, 1]),\n",
       " array('B', [9, 2, 34, 0, 1, 1, 0, 160, 50]),\n",
       " array('B', [9, 4, 0, 0, 1, 3, 1, 2, 0]),\n",
       " array('B', [9, 33, 17, 1, 0, 1, 34, 108, 1]),\n",
       " array('B', [7, 5, 131, 3, 8, 0, 10])]"
      ]
     },
     "execution_count": 6,
     "metadata": {},
     "output_type": "execute_result"
    }
   ],
   "source": [
    "device.descriptors"
   ]
  },
  {
   "cell_type": "code",
   "execution_count": 7,
   "metadata": {},
   "outputs": [
    {
     "data": {
      "text/plain": [
       "[array('B', [9, 33, 17, 1, 0, 1, 34, 108, 1])]"
      ]
     },
     "execution_count": 7,
     "metadata": {},
     "output_type": "execute_result"
    }
   ],
   "source": [
    "device.hid_descriptors"
   ]
  },
  {
   "cell_type": "code",
   "execution_count": 8,
   "metadata": {
    "scrolled": false
   },
   "outputs": [],
   "source": [
    "# import json\n",
    "\n",
    "# for dcpt in device.descriptors_dbos:\n",
    "#     print('___________________________________')\n",
    "#     print(dcpt.__class__.__name__)\n",
    "#     print(dcpt.byte_array)\n",
    "#     print(json.dumps(dcpt.attributes, indent=2))"
   ]
  },
  {
   "cell_type": "code",
   "execution_count": 9,
   "metadata": {
    "scrolled": false
   },
   "outputs": [
    {
     "name": "stdout",
     "output_type": "stream",
     "text": [
      "\n",
      "###################################################\n",
      "array('B', [5, 12, 9, 1, 161, 1, 5, 1, 9, 2, 161, 2, 133, 19, 5, 12, 10, 56, 2, 149, 1, 117, 8, 21, 129, 37, 127, 129, 6, 192, 133, 32, 6, 0, 255, 21, 0, 38, 255, 0, 117, 8, 149, 18, 10, 10, 250, 177, 2, 133, 46, 6, 0, 255, 21, 0, 38, 255, 0, 117, 8, 149, 7, 10, 10, 250, 177, 2, 133, 47, 6, 0, 255, 21, 0, 38, 255, 0, 117, 8, 149, 7, 10, 10, 250, 129, 2, 133, 24, 6, 0, 255, 21, 0, 38, 255, 0, 117, 8, 149, 1, 10, 10, 250, 177, 2, 133, 22, 5, 12, 25, 0, 42, 255, 3, 149, 1, 117, 16, 21, 0, 38, 255, 3, 129, 0, 6, 0, 255, 26, 1, 253, 42, 255, 253, 21, 1, 38, 255, 0, 117, 8, 129, 0, 129, 1, 133, 23, 10, 6, 255, 21, 0, 37, 1, 53, 1, 69, 1, 149, 1, 117, 2, 177, 2, 10, 15, 255, 69, 16, 149, 1, 117, 2, 177, 2, 10, 4, 255, 53, 0, 69, 0, 149, 1, 117, 1, 177, 2, 117, 3, 177, 1, 133, 28, 6, 0, 255, 10, 37, 255, 21, 0, 37, 4, 117, 8, 149, 1, 129, 2, 10, 38, 255, 117, 16, 21, 0, 39, 255, 255, 129, 2, 192, 5, 1, 9, 2, 161, 1, 5, 1, 9, 2, 161, 2, 133, 16, 9, 1, 161, 0, 5, 9, 25, 1, 41, 5, 149, 5, 117, 1, 37, 0, 37, 1, 129, 2, 117, 3, 149, 1, 129, 1, 5, 1, 9, 48, 9, 49, 149, 2, 117, 16, 22, 1, 128, 38, 255, 127, 129, 6, 161, 2, 133, 18, 9, 72, 149, 1, 117, 2, 21, 0, 37, 1, 53, 1, 69, 1, 177, 2, 133, 16, 9, 56, 53, 0, 69, 0, 21, 129, 37, 127, 117, 8, 129, 6, 192, 161, 2, 133, 18, 9, 72, 117, 2, 21, 0, 37, 1, 53, 1, 69, 16, 177, 2, 53, 0, 69, 0, 117, 4, 177, 1, 133, 16, 5, 12, 21, 129, 37, 127, 117, 8, 10, 56, 2, 129, 6, 192, 192, 192, 192])\n",
      "###################################################\n",
      "\n",
      " Usage_Page 12 (Consumer)\n",
      " Usage 1 (Consumer_Control)\n",
      " Collection 1 (Application)\n",
      "\n",
      "   Usage_Page 1 (Generic Desktop)\n",
      "   Usage 2 (Mouse)\n",
      "   Collection 2 (Logical)\n",
      "     Report_ID 19 \n",
      "\n",
      "     Usage_Page 12 (Consumer)\n",
      "     Usage 568 (AC_Pan)\n",
      "     Report_Count 1 \n",
      "     Report_Size 8 \n",
      "     Logical_Minimum 129 \n",
      "     Logical_Maximum 127 \n",
      "     Input 6 (Data | Variable | Relative | No Wrap | Linear | Preferred State | No Null position | Non Volatile | Bit Field)\n",
      "   End_Collection  \n",
      "   Report_ID 32 \n",
      "\n",
      "   Usage_Page 65280 (Unknown)\n",
      "   Logical_Minimum 0 \n",
      "   Logical_Maximum 255 \n",
      "   Report_Size 8 \n",
      "   Report_Count 18 \n",
      "   Usage 64010 \n",
      "   Feature 2 (Data | Variable | Absolute | No Wrap | Linear | Preferred State | No Null position | Non Volatile | Bit Field)\n",
      "   Report_ID 46 \n",
      "\n",
      "   Usage_Page 65280 (Unknown)\n",
      "   Logical_Minimum 0 \n",
      "   Logical_Maximum 255 \n",
      "   Report_Size 8 \n",
      "   Report_Count 7 \n",
      "   Usage 64010 \n",
      "   Feature 2 (Data | Variable | Absolute | No Wrap | Linear | Preferred State | No Null position | Non Volatile | Bit Field)\n",
      "   Report_ID 47 \n",
      "\n",
      "   Usage_Page 65280 (Unknown)\n",
      "   Logical_Minimum 0 \n",
      "   Logical_Maximum 255 \n",
      "   Report_Size 8 \n",
      "   Report_Count 7 \n",
      "   Usage 64010 \n",
      "   Input 2 (Data | Variable | Absolute | No Wrap | Linear | Preferred State | No Null position | Non Volatile | Bit Field)\n",
      "   Report_ID 24 \n",
      "\n",
      "   Usage_Page 65280 (Unknown)\n",
      "   Logical_Minimum 0 \n",
      "   Logical_Maximum 255 \n",
      "   Report_Size 8 \n",
      "   Report_Count 1 \n",
      "   Usage 64010 \n",
      "   Feature 2 (Data | Variable | Absolute | No Wrap | Linear | Preferred State | No Null position | Non Volatile | Bit Field)\n",
      "   Report_ID 22 \n",
      "\n",
      "   Usage_Page 12 (Consumer)\n",
      "   Usage_Minimum 0 \n",
      "   Usage_Maximum 1023 \n",
      "   Report_Count 1 \n",
      "   Report_Size 16 \n",
      "   Logical_Minimum 0 \n",
      "   Logical_Maximum 1023 \n",
      "   Input 0 (Data | Array | Absolute | No Wrap | Linear | Preferred State | No Null position | Non Volatile | Bit Field)\n",
      "\n",
      "   Usage_Page 65280 (Unknown)\n",
      "   Usage_Minimum 64769 \n",
      "   Usage_Maximum 65023 \n",
      "   Logical_Minimum 1 \n",
      "   Logical_Maximum 255 \n",
      "   Report_Size 8 \n",
      "   Input 0 (Data | Array | Absolute | No Wrap | Linear | Preferred State | No Null position | Non Volatile | Bit Field)\n",
      "   Input 1 (Constant | Array | Absolute | No Wrap | Linear | Preferred State | No Null position | Non Volatile | Bit Field)\n",
      "   Report_ID 23 \n",
      "   Usage 65286 \n",
      "   Logical_Minimum 0 \n",
      "   Logical_Maximum 1 \n",
      "   Physical_Minimum 1 \n",
      "   Physical_Maximum 1 \n",
      "   Report_Count 1 \n",
      "   Report_Size 2 \n",
      "   Feature 2 (Data | Variable | Absolute | No Wrap | Linear | Preferred State | No Null position | Non Volatile | Bit Field)\n",
      "   Usage 65295 \n",
      "   Physical_Maximum 16 \n",
      "   Report_Count 1 \n",
      "   Report_Size 2 \n",
      "   Feature 2 (Data | Variable | Absolute | No Wrap | Linear | Preferred State | No Null position | Non Volatile | Bit Field)\n",
      "   Usage 65284 \n",
      "   Physical_Minimum 0 \n",
      "   Physical_Maximum 0 \n",
      "   Report_Count 1 \n",
      "   Report_Size 1 \n",
      "   Feature 2 (Data | Variable | Absolute | No Wrap | Linear | Preferred State | No Null position | Non Volatile | Bit Field)\n",
      "   Report_Size 3 \n",
      "   Feature 1 (Constant | Array | Absolute | No Wrap | Linear | Preferred State | No Null position | Non Volatile | Bit Field)\n",
      "   Report_ID 28 \n",
      "\n",
      "   Usage_Page 65280 (Unknown)\n",
      "   Usage 65317 \n",
      "   Logical_Minimum 0 \n",
      "   Logical_Maximum 4 \n",
      "   Report_Size 8 \n",
      "   Report_Count 1 \n",
      "   Input 2 (Data | Variable | Absolute | No Wrap | Linear | Preferred State | No Null position | Non Volatile | Bit Field)\n",
      "   Usage 65318 \n",
      "   Report_Size 16 \n",
      "   Logical_Minimum 0 \n",
      "   Logical_Maximum 42074111 \n",
      " End_Collection  \n",
      "\n",
      " Usage_Page 1 (Generic Desktop)\n",
      " Usage 2 (Mouse)\n",
      " Collection 1 (Application)\n",
      "\n",
      "   Usage_Page 1 (Generic Desktop)\n",
      "   Usage 2 (Mouse)\n",
      "   Collection 2 (Logical)\n",
      "     Report_ID 16 \n",
      "     Usage 1 (Pointer)\n",
      "     Collection 0 (Physical)\n",
      "\n",
      "       Usage_Page 9 (Button)\n",
      "       Usage_Minimum 1 \n",
      "       Usage_Maximum 5 \n",
      "       Report_Count 5 \n",
      "       Report_Size 1 \n",
      "       Logical_Maximum 0 \n",
      "       Logical_Maximum 1 \n",
      "       Input 2 (Data | Variable | Absolute | No Wrap | Linear | Preferred State | No Null position | Non Volatile | Bit Field)\n",
      "       Report_Size 3 \n",
      "       Report_Count 1 \n",
      "       Input 1 (Constant | Array | Absolute | No Wrap | Linear | Preferred State | No Null position | Non Volatile | Bit Field)\n",
      "\n",
      "       Usage_Page 1 (Generic Desktop)\n",
      "       Usage 48 (X)\n",
      "       Usage 49 (Y)\n",
      "       Report_Count 2 \n",
      "       Report_Size 16 \n",
      "       Logical_Minimum 32769 \n",
      "       Logical_Maximum 32767 \n",
      "       Input 6 (Data | Variable | Relative | No Wrap | Linear | Preferred State | No Null position | Non Volatile | Bit Field)\n",
      "       Collection 2 (Logical)\n",
      "         Report_ID 18 \n",
      "         Usage 72 (Resolution_Multiplier)\n",
      "         Report_Count 1 \n",
      "         Report_Size 2 \n",
      "         Logical_Minimum 0 \n",
      "         Logical_Maximum 1 \n",
      "         Physical_Minimum 1 \n",
      "         Physical_Maximum 1 \n",
      "         Feature 2 (Data | Variable | Absolute | No Wrap | Linear | Preferred State | No Null position | Non Volatile | Bit Field)\n",
      "         Report_ID 16 \n",
      "         Usage 56 (Wheel)\n",
      "         Physical_Minimum 0 \n",
      "         Physical_Maximum 0 \n",
      "         Logical_Minimum 129 \n",
      "         Logical_Maximum 127 \n",
      "         Report_Size 8 \n",
      "         Input 6 (Data | Variable | Relative | No Wrap | Linear | Preferred State | No Null position | Non Volatile | Bit Field)\n",
      "       End_Collection  \n",
      "       Collection 2 (Logical)\n",
      "         Report_ID 18 \n",
      "         Usage 72 (Resolution_Multiplier)\n",
      "         Report_Size 2 \n",
      "         Logical_Minimum 0 \n",
      "         Logical_Maximum 1 \n",
      "         Physical_Minimum 1 \n",
      "         Physical_Maximum 16 \n",
      "         Feature 2 (Data | Variable | Absolute | No Wrap | Linear | Preferred State | No Null position | Non Volatile | Bit Field)\n",
      "         Physical_Minimum 0 \n",
      "         Physical_Maximum 0 \n",
      "         Report_Size 4 \n",
      "         Feature 1 (Constant | Array | Absolute | No Wrap | Linear | Preferred State | No Null position | Non Volatile | Bit Field)\n",
      "         Report_ID 16 \n",
      "\n",
      "         Usage_Page 12 (Consumer)\n",
      "         Logical_Minimum 129 \n",
      "         Logical_Maximum 127 \n",
      "         Report_Size 8 \n",
      "         Usage 568 (AC_Pan)\n",
      "         Input 6 (Data | Variable | Relative | No Wrap | Linear | Preferred State | No Null position | Non Volatile | Bit Field)\n",
      "       End_Collection  \n",
      "     End_Collection  \n",
      "   End_Collection  \n",
      " End_Collection  \n",
      "\n"
     ]
    }
   ],
   "source": [
    "_ = device.report_descriptor_dbos[0].parse(print_out = True) "
   ]
  },
  {
   "cell_type": "code",
   "execution_count": 10,
   "metadata": {},
   "outputs": [],
   "source": [
    "device.reset()"
   ]
  }
 ],
 "metadata": {
  "kernelspec": {
   "display_name": "Python 3",
   "language": "python",
   "name": "python3"
  },
  "language_info": {
   "codemirror_mode": {
    "name": "ipython",
    "version": 3
   },
   "file_extension": ".py",
   "mimetype": "text/x-python",
   "name": "python",
   "nbconvert_exporter": "python",
   "pygments_lexer": "ipython3",
   "version": "3.6.9"
  }
 },
 "nbformat": 4,
 "nbformat_minor": 2
}
