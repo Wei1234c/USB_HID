{
 "cells": [
  {
   "cell_type": "markdown",
   "metadata": {},
   "source": [
    "# HID related descriptors\n"
   ]
  },
  {
   "cell_type": "code",
   "execution_count": 1,
   "metadata": {},
   "outputs": [],
   "source": [
    "import os\n",
    "import sys\n",
    "sys.path.append(os.path.abspath(os.path.join('..', 'codes')))\n",
    "\n",
    "path = os.sep.join(['..', '..', '..', '..', '..', '待處理', 'ORM', 'bitbucket', 'github', 'codes'])\n",
    "sys.path.append(path) \n",
    "\n",
    "path = os.sep.join(['..', '..', '..', '..', '..', '待處理', 'Universal Serial Bus', 'bitbucket', 'github', 'codes'])\n",
    "sys.path.append(path)\n",
    "\n",
    "from universal_serial_bus import *  "
   ]
  },
  {
   "cell_type": "code",
   "execution_count": 2,
   "metadata": {},
   "outputs": [
    {
     "data": {
      "text/plain": [
       "[(1133, 50475), (6975, 8200)]"
      ]
     },
     "execution_count": 2,
     "metadata": {},
     "output_type": "execute_result"
    }
   ],
   "source": [
    "devices, devices_ids =  find_all_devices_by_class(0x03)\n",
    "devices_ids"
   ]
  },
  {
   "cell_type": "code",
   "execution_count": 3,
   "metadata": {},
   "outputs": [],
   "source": [
    "# dev = USBdevice(1241, 8209) # Filco KB\n",
    "# dev = USBdevice(0x045e, 0x077b) # MS mouse \n",
    "dev = USBdevice(6975, 8200) # Sound Card\n",
    "# print(dev)"
   ]
  },
  {
   "cell_type": "code",
   "execution_count": 4,
   "metadata": {},
   "outputs": [
    {
     "data": {
      "text/plain": [
       "[array('B', [18, 1, 16, 1, 0, 0, 0, 8, 63, 27, 8, 32, 0, 1, 1, 2, 0, 1]),\n",
       " array('B', [9, 2, 253, 0, 4, 1, 0, 128, 50]),\n",
       " array('B', [9, 4, 0, 0, 0, 1, 1, 0, 0]),\n",
       " array('B', [10, 36, 1, 0, 1, 100, 0, 2, 1, 2]),\n",
       " array('B', [12, 36, 2, 1, 1, 1, 0, 2, 3, 0, 0, 0]),\n",
       " array('B', [12, 36, 2, 4, 1, 2, 0, 1, 1, 0, 0, 0]),\n",
       " array('B', [9, 36, 3, 3, 1, 3, 0, 6, 0]),\n",
       " array('B', [9, 36, 3, 2, 1, 1, 0, 9, 0]),\n",
       " array('B', [7, 36, 5, 9, 1, 5, 0]),\n",
       " array('B', [10, 36, 6, 6, 8, 1, 1, 2, 2, 0]),\n",
       " array('B', [9, 36, 6, 5, 4, 1, 67, 0, 0]),\n",
       " array('B', [9, 36, 6, 7, 4, 1, 3, 0, 0]),\n",
       " array('B', [13, 36, 4, 8, 2, 1, 7, 2, 3, 0, 0, 0, 0]),\n",
       " array('B', [9, 4, 1, 0, 0, 1, 2, 0, 0]),\n",
       " array('B', [9, 4, 1, 1, 1, 1, 2, 0, 0]),\n",
       " array('B', [7, 36, 1, 1, 1, 1, 0]),\n",
       " array('B', [14, 36, 2, 1, 2, 2, 16, 2, 68, 172, 0, 128, 187, 0]),\n",
       " array('B', [9, 5, 5, 1, 192, 0, 1, 0, 0]),\n",
       " array('B', [7, 37, 1, 1, 0, 0, 0]),\n",
       " array('B', [9, 4, 2, 0, 0, 1, 2, 0, 0]),\n",
       " array('B', [9, 4, 2, 1, 1, 1, 2, 0, 0]),\n",
       " array('B', [7, 36, 1, 2, 1, 1, 0]),\n",
       " array('B', [14, 36, 2, 1, 1, 2, 16, 2, 68, 172, 0, 128, 187, 0]),\n",
       " array('B', [9, 5, 134, 1, 100, 0, 1, 0, 0]),\n",
       " array('B', [7, 37, 1, 1, 0, 0, 0]),\n",
       " array('B', [9, 4, 3, 0, 1, 3, 0, 0, 0]),\n",
       " array('B', [9, 33, 1, 2, 0, 1, 34, 41, 0]),\n",
       " array('B', [7, 5, 131, 3, 8, 0, 32])]"
      ]
     },
     "execution_count": 4,
     "metadata": {},
     "output_type": "execute_result"
    }
   ],
   "source": [
    "dev.descriptors"
   ]
  },
  {
   "cell_type": "code",
   "execution_count": 5,
   "metadata": {},
   "outputs": [
    {
     "data": {
      "text/plain": [
       "array('B', [9, 33, 1, 2, 0, 1, 34, 41, 0])"
      ]
     },
     "execution_count": 5,
     "metadata": {},
     "output_type": "execute_result"
    }
   ],
   "source": [
    "hid_descriptor = dev.get_descriptor(1024, 33, 0)\n",
    "hid_descriptor"
   ]
  },
  {
   "cell_type": "code",
   "execution_count": 6,
   "metadata": {},
   "outputs": [
    {
     "data": {
      "text/plain": [
       "array('B', [5, 12, 9, 1, 161, 1, 21, 0, 37, 1, 9, 233, 9, 234, 117, 1, 149, 2, 129, 2, 9, 226, 9, 205, 9, 181, 9, 182, 9, 140, 149, 5, 129, 6, 9, 0, 149, 1, 129, 2, 192])"
      ]
     },
     "execution_count": 6,
     "metadata": {},
     "output_type": "execute_result"
    }
   ],
   "source": [
    "# get HID class report descriptor\n",
    "\n",
    "dev.ctrl_transfer(bmRequestType = 0x80, \n",
    "                  bRequest = 0x06,\n",
    "                  wValue =  hid_descriptor[6] << 8 | 0, \n",
    "                  wIndex = 0, \n",
    "                  data_or_wLength = OrmClassBase.byte_array_to_int(hid_descriptor[7:9])) "
   ]
  },
  {
   "cell_type": "code",
   "execution_count": 7,
   "metadata": {},
   "outputs": [
    {
     "data": {
      "text/plain": [
       "array('B', [5, 12, 9, 1, 161, 1, 21, 0, 37, 1, 9, 233, 9, 234, 117, 1, 149, 2, 129, 2, 9, 226, 9, 205, 9, 181, 9, 182, 9, 140, 149, 5, 129, 6, 9, 0, 149, 1, 129, 2, 192])"
      ]
     },
     "execution_count": 7,
     "metadata": {},
     "output_type": "execute_result"
    }
   ],
   "source": [
    "# get HID class report descriptor\n",
    "\n",
    "report_descriptor = dev.get_descriptor(desc_size = OrmClassBase.byte_array_to_int(hid_descriptor[7:9]),\n",
    "                                       desc_type = hid_descriptor[6],\n",
    "                                       desc_index = 0)\n",
    "report_descriptor\n",
    "# list(dev.split_descriptor(report_descriptor))"
   ]
  },
  {
   "cell_type": "code",
   "execution_count": 8,
   "metadata": {},
   "outputs": [
    {
     "data": {
      "text/plain": [
       "array('B', [5, 12, 9, 1, 161, 1, 21, 0, 37, 1, 9, 233, 9, 234, 117, 1, 149, 2, 129, 2, 9, 226, 9, 205, 9, 181, 9, 182, 9, 140, 149, 5, 129, 6, 9, 0, 149, 1, 129, 2, 192])"
      ]
     },
     "execution_count": 8,
     "metadata": {},
     "output_type": "execute_result"
    }
   ],
   "source": [
    "# get HID class report descriptor\n",
    "\n",
    "report_descriptor = dev.get_descriptor(desc_size = 1024, desc_type = 0x22, desc_index = 0)\n",
    "report_descriptor\n",
    "# list(dev.split_descriptor(report_descriptor))"
   ]
  },
  {
   "cell_type": "code",
   "execution_count": 9,
   "metadata": {},
   "outputs": [],
   "source": [
    "# # get HID class physical descriptor\n",
    "\n",
    "# physical_descriptor = dev.get_descriptor(desc_size = 1024, desc_type = 0x23, desc_index = 0)\n",
    "# physical_descriptor\n",
    "# # list(dev.split_descriptor(report_descriptor))"
   ]
  },
  {
   "cell_type": "code",
   "execution_count": 10,
   "metadata": {},
   "outputs": [
    {
     "data": {
      "text/plain": [
       "array('B', [5, 12, 9, 1, 161, 1, 21, 0, 37, 1, 9, 233, 9, 234, 117, 1, 149, 2, 129, 2, 9, 226, 9, 205, 9, 181, 9, 182, 9, 140, 149, 5, 129, 6, 9, 0, 149, 1, 129, 2, 192])"
      ]
     },
     "execution_count": 10,
     "metadata": {},
     "output_type": "execute_result"
    }
   ],
   "source": [
    "# get HID class report descriptor\n",
    "\n",
    "dev.ctrl_transfer(bmRequestType = 0x81, \n",
    "                  bRequest = 0x06,\n",
    "                  wValue = 0x22 << 8 | 0,  # report descriptor\n",
    "                  wIndex = 0, \n",
    "                  data_or_wLength = 1024) "
   ]
  },
  {
   "cell_type": "code",
   "execution_count": 11,
   "metadata": {},
   "outputs": [],
   "source": [
    "# if dev.is_kernel_driver_active(interface):\n",
    "#   dev.detach_kernel_driver(interface)\n",
    "#   usb.util.claim_interface(dev, interface)    "
   ]
  },
  {
   "cell_type": "code",
   "execution_count": 12,
   "metadata": {},
   "outputs": [
    {
     "data": {
      "text/plain": [
       "{5: <ENDPOINT 0x5: Isochronous OUT>,\n",
       " 134: <ENDPOINT 0x86: Isochronous IN>,\n",
       " 131: <ENDPOINT 0x83: Interrupt IN>}"
      ]
     },
     "execution_count": 12,
     "metadata": {},
     "output_type": "execute_result"
    }
   ],
   "source": [
    "dev.endpoints"
   ]
  },
  {
   "cell_type": "code",
   "execution_count": 13,
   "metadata": {
    "scrolled": false
   },
   "outputs": [
    {
     "name": "stdout",
     "output_type": "stream",
     "text": [
      "[Errno None] b'libusb0-dll:err [_usb_reap_async] timeout error\\n'\n",
      "[Errno None] b'libusb0-dll:err [_usb_reap_async] timeout error\\n'\n",
      "[Errno None] b'libusb0-dll:err [_usb_reap_async] timeout error\\n'\n"
     ]
    },
    {
     "ename": "KeyboardInterrupt",
     "evalue": "",
     "output_type": "error",
     "traceback": [
      "\u001b[1;31m---------------------------------------------------------------------------\u001b[0m",
      "\u001b[1;31mKeyboardInterrupt\u001b[0m                         Traceback (most recent call last)",
      "\u001b[1;32m<ipython-input-13-eeac5cc7dd0b>\u001b[0m in \u001b[0;36m<module>\u001b[1;34m\u001b[0m\n\u001b[0;32m      6\u001b[0m \u001b[1;32mwhile\u001b[0m \u001b[0mcollected\u001b[0m \u001b[1;33m<\u001b[0m \u001b[0mattempts\u001b[0m \u001b[1;33m:\u001b[0m\u001b[1;33m\u001b[0m\u001b[1;33m\u001b[0m\u001b[0m\n\u001b[0;32m      7\u001b[0m     \u001b[1;32mtry\u001b[0m\u001b[1;33m:\u001b[0m\u001b[1;33m\u001b[0m\u001b[1;33m\u001b[0m\u001b[0m\n\u001b[1;32m----> 8\u001b[1;33m         \u001b[0mdata\u001b[0m \u001b[1;33m=\u001b[0m \u001b[0mdev\u001b[0m\u001b[1;33m.\u001b[0m\u001b[0mread\u001b[0m\u001b[1;33m(\u001b[0m\u001b[0mendpoint\u001b[0m\u001b[1;33m.\u001b[0m\u001b[0mbEndpointAddress\u001b[0m\u001b[1;33m,\u001b[0m \u001b[0mendpoint\u001b[0m\u001b[1;33m.\u001b[0m\u001b[0mwMaxPacketSize\u001b[0m\u001b[1;33m)\u001b[0m\u001b[1;33m\u001b[0m\u001b[1;33m\u001b[0m\u001b[0m\n\u001b[0m\u001b[0;32m      9\u001b[0m         \u001b[0mcollected\u001b[0m \u001b[1;33m+=\u001b[0m \u001b[1;36m1\u001b[0m\u001b[1;33m\u001b[0m\u001b[1;33m\u001b[0m\u001b[0m\n\u001b[0;32m     10\u001b[0m         \u001b[0mprint\u001b[0m \u001b[1;33m(\u001b[0m\u001b[0mdata\u001b[0m\u001b[1;33m)\u001b[0m\u001b[1;33m\u001b[0m\u001b[1;33m\u001b[0m\u001b[0m\n",
      "\u001b[1;32mC:\\Softwares\\Python\\lib\\site-packages\\usb\\core.py\u001b[0m in \u001b[0;36mread\u001b[1;34m(self, endpoint, size_or_buffer, timeout)\u001b[0m\n\u001b[0;32m    986\u001b[0m                 \u001b[0mintf\u001b[0m\u001b[1;33m.\u001b[0m\u001b[0mbInterfaceNumber\u001b[0m\u001b[1;33m,\u001b[0m\u001b[1;33m\u001b[0m\u001b[1;33m\u001b[0m\u001b[0m\n\u001b[0;32m    987\u001b[0m                 \u001b[0mbuff\u001b[0m\u001b[1;33m,\u001b[0m\u001b[1;33m\u001b[0m\u001b[1;33m\u001b[0m\u001b[0m\n\u001b[1;32m--> 988\u001b[1;33m                 self.__get_timeout(timeout))\n\u001b[0m\u001b[0;32m    989\u001b[0m \u001b[1;33m\u001b[0m\u001b[0m\n\u001b[0;32m    990\u001b[0m         \u001b[1;32mif\u001b[0m \u001b[0misinstance\u001b[0m\u001b[1;33m(\u001b[0m\u001b[0msize_or_buffer\u001b[0m\u001b[1;33m,\u001b[0m \u001b[0marray\u001b[0m\u001b[1;33m.\u001b[0m\u001b[0marray\u001b[0m\u001b[1;33m)\u001b[0m\u001b[1;33m:\u001b[0m\u001b[1;33m\u001b[0m\u001b[1;33m\u001b[0m\u001b[0m\n",
      "\u001b[1;32mC:\\Softwares\\Python\\lib\\site-packages\\usb\\backend\\libusb0.py\u001b[0m in \u001b[0;36mintr_read\u001b[1;34m(self, dev_handle, ep, intf, buff, timeout)\u001b[0m\n\u001b[0;32m    558\u001b[0m                            \u001b[0mintf\u001b[0m\u001b[1;33m,\u001b[0m\u001b[1;33m\u001b[0m\u001b[1;33m\u001b[0m\u001b[0m\n\u001b[0;32m    559\u001b[0m                            \u001b[0mbuff\u001b[0m\u001b[1;33m,\u001b[0m\u001b[1;33m\u001b[0m\u001b[1;33m\u001b[0m\u001b[0m\n\u001b[1;32m--> 560\u001b[1;33m                            timeout)\n\u001b[0m\u001b[0;32m    561\u001b[0m \u001b[1;33m\u001b[0m\u001b[0m\n\u001b[0;32m    562\u001b[0m     \u001b[1;33m@\u001b[0m\u001b[0mmethodtrace\u001b[0m\u001b[1;33m(\u001b[0m\u001b[0m_logger\u001b[0m\u001b[1;33m)\u001b[0m\u001b[1;33m\u001b[0m\u001b[1;33m\u001b[0m\u001b[0m\n",
      "\u001b[1;32mC:\\Softwares\\Python\\lib\\site-packages\\usb\\backend\\libusb0.py\u001b[0m in \u001b[0;36m__read\u001b[1;34m(self, fn, dev_handle, ep, intf, buff, timeout)\u001b[0m\n\u001b[0;32m    625\u001b[0m                     \u001b[0mcast\u001b[0m\u001b[1;33m(\u001b[0m\u001b[0maddress\u001b[0m\u001b[1;33m,\u001b[0m \u001b[0mc_char_p\u001b[0m\u001b[1;33m)\u001b[0m\u001b[1;33m,\u001b[0m\u001b[1;33m\u001b[0m\u001b[1;33m\u001b[0m\u001b[0m\n\u001b[0;32m    626\u001b[0m                     \u001b[0mlength\u001b[0m\u001b[1;33m,\u001b[0m\u001b[1;33m\u001b[0m\u001b[1;33m\u001b[0m\u001b[0m\n\u001b[1;32m--> 627\u001b[1;33m                     \u001b[0mtimeout\u001b[0m\u001b[1;33m\u001b[0m\u001b[1;33m\u001b[0m\u001b[0m\n\u001b[0m\u001b[0;32m    628\u001b[0m                 )))\n\u001b[0;32m    629\u001b[0m         \u001b[1;32mreturn\u001b[0m \u001b[0mret\u001b[0m\u001b[1;33m\u001b[0m\u001b[1;33m\u001b[0m\u001b[0m\n",
      "\u001b[1;31mKeyboardInterrupt\u001b[0m: "
     ]
    }
   ],
   "source": [
    "collected = 0\n",
    "attempts = 50\n",
    "\n",
    "endpoint = dev.endpoints[131]\n",
    "\n",
    "while collected < attempts :\n",
    "    try:\n",
    "        data = dev.read(endpoint.bEndpointAddress, endpoint.wMaxPacketSize)\n",
    "        collected += 1\n",
    "        print (data)\n",
    "        \n",
    "    except usb.core.USBError as e:\n",
    "        print(e)"
   ]
  },
  {
   "cell_type": "code",
   "execution_count": null,
   "metadata": {},
   "outputs": [],
   "source": [
    "device.reset()"
   ]
  }
 ],
 "metadata": {
  "kernelspec": {
   "display_name": "Python 3",
   "language": "python",
   "name": "python3"
  },
  "language_info": {
   "codemirror_mode": {
    "name": "ipython",
    "version": 3
   },
   "file_extension": ".py",
   "mimetype": "text/x-python",
   "name": "python",
   "nbconvert_exporter": "python",
   "pygments_lexer": "ipython3",
   "version": "3.6.8"
  }
 },
 "nbformat": 4,
 "nbformat_minor": 2
}
