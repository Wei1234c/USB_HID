{
 "cells": [
  {
   "cell_type": "markdown",
   "metadata": {},
   "source": [
    "# HID related descriptors\n"
   ]
  },
  {
   "cell_type": "code",
   "execution_count": 10,
   "metadata": {},
   "outputs": [],
   "source": [
    "import os\n",
    "import sys\n",
    "\n",
    "sys.path.append(os.path.abspath(os.path.join('..', 'codes')))\n",
    "\n",
    "path = os.sep.join(['..', '..', '..', '..', '..', '..', '待處理', 'USB', 'Universal Serial Bus', 'bitbucket', 'github', 'codes'])\n",
    "sys.path.append(path) \n",
    "\n",
    "path = os.sep.join(['..', '..', '..', '..', '..', '..', '待處理', 'ORM', 'bitbucket', 'github', 'codes'])\n",
    "sys.path.append(path) \n",
    "\n",
    "from universal_serial_bus import *  "
   ]
  },
  {
   "cell_type": "code",
   "execution_count": 11,
   "metadata": {},
   "outputs": [
    {
     "data": {
      "text/plain": [
       "[('0x45e', '0x77b'), ('0x46d', '0xc52b')]"
      ]
     },
     "execution_count": 11,
     "metadata": {},
     "output_type": "execute_result"
    }
   ],
   "source": [
    "from universal_serial_bus import find_all_devices_by_class\n",
    "\n",
    "devices, devices_ids = find_all_devices_by_class(DEVICE_CLASS.Human_Interface_Device)\n",
    "[(hex(v), hex(p)) for (v, p) in devices_ids]"
   ]
  },
  {
   "cell_type": "code",
   "execution_count": 33,
   "metadata": {},
   "outputs": [],
   "source": [
    "# dev = USBdevice(1241, 8209) # Filco KB\n",
    "dev = USBdevice(0x045e, 0x077b) # MS mouse \n",
    "# dev = USBdevice(0x1b3f, 0x2008) # Sound Card\n",
    "# print(dev)"
   ]
  },
  {
   "cell_type": "code",
   "execution_count": 34,
   "metadata": {},
   "outputs": [
    {
     "data": {
      "text/plain": [
       "[array('B', [18, 1, 0, 2, 0, 0, 0, 8, 94, 4, 123, 7, 68, 0, 1, 2, 0, 1]),\n",
       " array('B', [9, 2, 34, 0, 1, 1, 0, 160, 50]),\n",
       " array('B', [9, 4, 0, 0, 1, 3, 1, 2, 0]),\n",
       " array('B', [9, 33, 17, 1, 0, 1, 34, 108, 1]),\n",
       " array('B', [7, 5, 131, 3, 8, 0, 10])]"
      ]
     },
     "execution_count": 34,
     "metadata": {},
     "output_type": "execute_result"
    }
   ],
   "source": [
    "dev.descriptors"
   ]
  },
  {
   "cell_type": "code",
   "execution_count": 35,
   "metadata": {},
   "outputs": [
    {
     "data": {
      "text/plain": [
       "'0x81'"
      ]
     },
     "execution_count": 35,
     "metadata": {},
     "output_type": "execute_result"
    }
   ],
   "source": [
    "from usb import util\n",
    "\n",
    "bmRequestType = util.build_request_type(util.CTRL_IN,\n",
    "                                        util.CTRL_RECIPIENT_INTERFACE,\n",
    "                                        util.CTRL_RECIPIENT_DEVICE)\n",
    "hex(bmRequestType)"
   ]
  },
  {
   "cell_type": "code",
   "execution_count": 36,
   "metadata": {},
   "outputs": [
    {
     "data": {
      "text/plain": [
       "array('B', [9, 33, 17, 1, 0, 1, 34, 108, 1])"
      ]
     },
     "execution_count": 36,
     "metadata": {},
     "output_type": "execute_result"
    }
   ],
   "source": [
    "hid_descriptor = dev.ctrl_transfer(bmRequestType = bmRequestType,\n",
    "                                   bRequest = 0x06,\n",
    "                                   wValue = 33 << 8,\n",
    "                                   wIndex = 0,\n",
    "                                   data_or_wLength = 1024)\n",
    "hid_descriptor"
   ]
  },
  {
   "cell_type": "code",
   "execution_count": 37,
   "metadata": {},
   "outputs": [
    {
     "data": {
      "text/plain": [
       "array('B', [5, 12, 9, 1, 161, 1, 5, 1, 9, 2, 161, 2, 133, 19, 5, 12, 10, 56, 2, 149, 1, 117, 8, 21, 129, 37, 127, 129, 6, 192, 133, 32, 6, 0, 255, 21, 0, 38, 255, 0, 117, 8, 149, 18, 10, 10, 250, 177, 2, 133, 46, 6, 0, 255, 21, 0, 38, 255, 0, 117, 8, 149, 7, 10, 10, 250, 177, 2, 133, 47, 6, 0, 255, 21, 0, 38, 255, 0, 117, 8, 149, 7, 10, 10, 250, 129, 2, 133, 24, 6, 0, 255, 21, 0, 38, 255, 0, 117, 8, 149, 1, 10, 10, 250, 177, 2, 133, 22, 5, 12, 25, 0, 42, 255, 3, 149, 1, 117, 16, 21, 0, 38, 255, 3, 129, 0, 6, 0, 255, 26, 1, 253, 42, 255, 253, 21, 1, 38, 255, 0, 117, 8, 129, 0, 129, 1, 133, 23, 10, 6, 255, 21, 0, 37, 1, 53, 1, 69, 1, 149, 1, 117, 2, 177, 2, 10, 15, 255, 69, 16, 149, 1, 117, 2, 177, 2, 10, 4, 255, 53, 0, 69, 0, 149, 1, 117, 1, 177, 2, 117, 3, 177, 1, 133, 28, 6, 0, 255, 10, 37, 255, 21, 0, 37, 4, 117, 8, 149, 1, 129, 2, 10, 38, 255, 117, 16, 21, 0, 39, 255, 255, 129, 2, 192, 5, 1, 9, 2, 161, 1, 5, 1, 9, 2, 161, 2, 133, 16, 9, 1, 161, 0, 5, 9, 25, 1, 41, 5, 149, 5, 117, 1, 37, 0, 37, 1, 129, 2, 117, 3, 149, 1, 129, 1, 5, 1, 9, 48, 9, 49, 149, 2, 117, 16, 22, 1, 128, 38, 255, 127, 129, 6, 161, 2, 133, 18, 9, 72, 149, 1, 117, 2, 21, 0, 37, 1, 53, 1, 69, 1, 177, 2, 133, 16, 9, 56, 53, 0, 69, 0, 21, 129, 37, 127, 117, 8, 129, 6, 192, 161, 2, 133, 18, 9, 72, 117, 2, 21, 0, 37, 1, 53, 1, 69, 16, 177, 2, 53, 0, 69, 0, 117, 4, 177, 1, 133, 16, 5, 12, 21, 129, 37, 127, 117, 8, 10, 56, 2, 129, 6, 192, 192, 192, 192])"
      ]
     },
     "execution_count": 37,
     "metadata": {},
     "output_type": "execute_result"
    }
   ],
   "source": [
    "# get HID class report descriptor\n",
    "\n",
    "report_descriptor = dev.ctrl_transfer(bmRequestType = bmRequestType, \n",
    "                                      bRequest = 0x06,\n",
    "                                      wValue =  hid_descriptor[6] << 8 | 0, \n",
    "                                      wIndex = 0, \n",
    "                                      data_or_wLength = OrmClassBase.byte_array_to_int(hid_descriptor[7:9])) \n",
    "report_descriptor"
   ]
  },
  {
   "cell_type": "code",
   "execution_count": 38,
   "metadata": {},
   "outputs": [],
   "source": [
    "# # get HID class physical descriptor\n",
    "\n",
    "# physical_descriptor = dev.get_descriptor(desc_size = 1024, desc_type = 0x23, desc_index = 0)\n",
    "# physical_descriptor\n",
    "# # list(dev.split_descriptor(report_descriptor))"
   ]
  },
  {
   "cell_type": "code",
   "execution_count": 39,
   "metadata": {},
   "outputs": [
    {
     "data": {
      "text/plain": [
       "array('B', [5, 12, 9, 1, 161, 1, 5, 1, 9, 2, 161, 2, 133, 19, 5, 12, 10, 56, 2, 149, 1, 117, 8, 21, 129, 37, 127, 129, 6, 192, 133, 32, 6, 0, 255, 21, 0, 38, 255, 0, 117, 8, 149, 18, 10, 10, 250, 177, 2, 133, 46, 6, 0, 255, 21, 0, 38, 255, 0, 117, 8, 149, 7, 10, 10, 250, 177, 2, 133, 47, 6, 0, 255, 21, 0, 38, 255, 0, 117, 8, 149, 7, 10, 10, 250, 129, 2, 133, 24, 6, 0, 255, 21, 0, 38, 255, 0, 117, 8, 149, 1, 10, 10, 250, 177, 2, 133, 22, 5, 12, 25, 0, 42, 255, 3, 149, 1, 117, 16, 21, 0, 38, 255, 3, 129, 0, 6, 0, 255, 26, 1, 253, 42, 255, 253, 21, 1, 38, 255, 0, 117, 8, 129, 0, 129, 1, 133, 23, 10, 6, 255, 21, 0, 37, 1, 53, 1, 69, 1, 149, 1, 117, 2, 177, 2, 10, 15, 255, 69, 16, 149, 1, 117, 2, 177, 2, 10, 4, 255, 53, 0, 69, 0, 149, 1, 117, 1, 177, 2, 117, 3, 177, 1, 133, 28, 6, 0, 255, 10, 37, 255, 21, 0, 37, 4, 117, 8, 149, 1, 129, 2, 10, 38, 255, 117, 16, 21, 0, 39, 255, 255, 129, 2, 192, 5, 1, 9, 2, 161, 1, 5, 1, 9, 2, 161, 2, 133, 16, 9, 1, 161, 0, 5, 9, 25, 1, 41, 5, 149, 5, 117, 1, 37, 0, 37, 1, 129, 2, 117, 3, 149, 1, 129, 1, 5, 1, 9, 48, 9, 49, 149, 2, 117, 16, 22, 1, 128, 38, 255, 127, 129, 6, 161, 2, 133, 18, 9, 72, 149, 1, 117, 2, 21, 0, 37, 1, 53, 1, 69, 1, 177, 2, 133, 16, 9, 56, 53, 0, 69, 0, 21, 129, 37, 127, 117, 8, 129, 6, 192, 161, 2, 133, 18, 9, 72, 117, 2, 21, 0, 37, 1, 53, 1, 69, 16, 177, 2, 53, 0, 69, 0, 117, 4, 177, 1, 133, 16, 5, 12, 21, 129, 37, 127, 117, 8, 10, 56, 2, 129, 6, 192, 192, 192, 192])"
      ]
     },
     "execution_count": 39,
     "metadata": {},
     "output_type": "execute_result"
    }
   ],
   "source": [
    "# get HID class report descriptor\n",
    "\n",
    "dev.ctrl_transfer(bmRequestType = 0x81, \n",
    "                  bRequest = 0x06,\n",
    "                  wValue = 0x22 << 8 | 0,  # report descriptor\n",
    "                  wIndex = 0, \n",
    "                  data_or_wLength = 1024) "
   ]
  },
  {
   "cell_type": "code",
   "execution_count": 40,
   "metadata": {},
   "outputs": [],
   "source": [
    "# if dev.is_kernel_driver_active(interface):\n",
    "#   dev.detach_kernel_driver(interface)\n",
    "#   usb.util.claim_interface(dev, interface)    "
   ]
  },
  {
   "cell_type": "code",
   "execution_count": 41,
   "metadata": {},
   "outputs": [
    {
     "data": {
      "text/plain": [
       "{131: <ENDPOINT 0x83: Interrupt IN>}"
      ]
     },
     "execution_count": 41,
     "metadata": {},
     "output_type": "execute_result"
    }
   ],
   "source": [
    "dev.endpoints"
   ]
  },
  {
   "cell_type": "code",
   "execution_count": 42,
   "metadata": {
    "scrolled": false
   },
   "outputs": [
    {
     "name": "stdout",
     "output_type": "stream",
     "text": [
      "array('B', [16, 0, 254, 255, 250, 255, 0, 0])\n",
      "array('B', [16, 0, 252, 255, 247, 255, 0, 0])\n",
      "array('B', [16, 0, 254, 255, 242, 255, 0, 0])\n",
      "array('B', [16, 0, 253, 255, 242, 255, 0, 0])\n",
      "array('B', [16, 0, 253, 255, 240, 255, 0, 0])\n",
      "array('B', [16, 0, 253, 255, 240, 255, 0, 0])\n",
      "array('B', [16, 0, 252, 255, 240, 255, 0, 0])\n",
      "array('B', [16, 0, 253, 255, 241, 255, 0, 0])\n",
      "array('B', [16, 0, 253, 255, 240, 255, 0, 0])\n",
      "array('B', [16, 0, 253, 255, 242, 255, 0, 0])\n",
      "array('B', [16, 0, 253, 255, 241, 255, 0, 0])\n",
      "array('B', [16, 0, 253, 255, 242, 255, 0, 0])\n",
      "array('B', [16, 0, 254, 255, 244, 255, 0, 0])\n",
      "array('B', [16, 0, 254, 255, 247, 255, 0, 0])\n",
      "array('B', [16, 0, 255, 255, 248, 255, 0, 0])\n",
      "array('B', [16, 0, 0, 0, 250, 255, 0, 0])\n",
      "array('B', [16, 0, 0, 0, 253, 255, 0, 0])\n",
      "array('B', [16, 0, 1, 0, 255, 255, 0, 0])\n",
      "array('B', [16, 0, 2, 0, 0, 0, 0, 0])\n",
      "array('B', [16, 0, 5, 0, 0, 0, 0, 0])\n",
      "array('B', [16, 0, 8, 0, 1, 0, 0, 0])\n",
      "array('B', [16, 0, 9, 0, 5, 0, 0, 0])\n",
      "array('B', [16, 0, 12, 0, 8, 0, 0, 0])\n",
      "array('B', [16, 0, 13, 0, 11, 0, 0, 0])\n",
      "array('B', [16, 0, 12, 0, 13, 0, 0, 0])\n",
      "array('B', [16, 0, 15, 0, 15, 0, 0, 0])\n",
      "array('B', [16, 0, 12, 0, 14, 0, 0, 0])\n",
      "array('B', [16, 0, 15, 0, 16, 0, 0, 0])\n",
      "array('B', [16, 0, 13, 0, 16, 0, 0, 0])\n",
      "array('B', [16, 0, 11, 0, 16, 0, 0, 0])\n",
      "array('B', [16, 0, 8, 0, 16, 0, 0, 0])\n",
      "array('B', [16, 0, 7, 0, 15, 0, 0, 0])\n",
      "array('B', [16, 0, 3, 0, 16, 0, 0, 0])\n",
      "array('B', [16, 0, 0, 0, 15, 0, 0, 0])\n",
      "array('B', [16, 0, 0, 0, 12, 0, 0, 0])\n",
      "array('B', [16, 0, 253, 255, 16, 0, 0, 0])\n",
      "array('B', [16, 0, 252, 255, 11, 0, 0, 0])\n",
      "array('B', [16, 0, 250, 255, 9, 0, 0, 0])\n",
      "array('B', [16, 0, 247, 255, 10, 0, 0, 0])\n",
      "array('B', [16, 0, 244, 255, 6, 0, 0, 0])\n",
      "array('B', [16, 0, 243, 255, 3, 0, 0, 0])\n",
      "array('B', [16, 0, 237, 255, 3, 0, 0, 0])\n",
      "array('B', [16, 0, 237, 255, 3, 0, 0, 0])\n",
      "array('B', [16, 0, 237, 255, 2, 0, 0, 0])\n",
      "array('B', [16, 0, 236, 255, 0, 0, 0, 0])\n",
      "array('B', [16, 0, 235, 255, 251, 255, 0, 0])\n",
      "array('B', [16, 0, 235, 255, 248, 255, 0, 0])\n",
      "array('B', [16, 0, 238, 255, 246, 255, 0, 0])\n",
      "array('B', [16, 0, 239, 255, 245, 255, 0, 0])\n",
      "array('B', [16, 0, 242, 255, 245, 255, 0, 0])\n"
     ]
    }
   ],
   "source": [
    "collected = 0\n",
    "attempts = 50\n",
    "\n",
    "endpoint = dev.endpoints[131]\n",
    "\n",
    "while collected < attempts :\n",
    "    try:\n",
    "#         data = dev.read(endpoint.bEndpointAddress, endpoint.wMaxPacketSize)\n",
    "        data = endpoint.read(endpoint.wMaxPacketSize)\n",
    "        collected += 1\n",
    "        print (data)\n",
    "        \n",
    "    except usb.core.USBError as e:\n",
    "        print(e)"
   ]
  },
  {
   "cell_type": "code",
   "execution_count": 43,
   "metadata": {},
   "outputs": [],
   "source": [
    "dev.reset()"
   ]
  }
 ],
 "metadata": {
  "kernelspec": {
   "display_name": "Python 3",
   "language": "python",
   "name": "python3"
  },
  "language_info": {
   "codemirror_mode": {
    "name": "ipython",
    "version": 3
   },
   "file_extension": ".py",
   "mimetype": "text/x-python",
   "name": "python",
   "nbconvert_exporter": "python",
   "pygments_lexer": "ipython3",
   "version": "3.6.10"
  }
 },
 "nbformat": 4,
 "nbformat_minor": 2
}
